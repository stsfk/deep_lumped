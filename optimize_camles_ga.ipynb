{
  "cells": [
    {
      "cell_type": "code",
      "execution_count": 1,
      "metadata": {
        "id": "95vm9FxGQ7KK"
      },
      "outputs": [
        {
          "name": "stderr",
          "output_type": "stream",
          "text": [
            "c:\\Users\\User\\Anaconda3\\envs\\pytorch2\\Lib\\site-packages\\tqdm\\auto.py:21: TqdmWarning: IProgress not found. Please update jupyter and ipywidgets. See https://ipywidgets.readthedocs.io/en/stable/user_install.html\n",
            "  from .autonotebook import tqdm as notebook_tqdm\n"
          ]
        }
      ],
      "source": [
        "import torch\n",
        "import torch.nn as nn\n",
        "import torch.optim as optim\n",
        "\n",
        "from torch.utils.data import Dataset\n",
        "\n",
        "import numpy as np\n",
        "\n",
        "import math\n",
        "\n",
        "import time\n",
        "\n",
        "import dataloader\n",
        "import models\n",
        "import training_fun\n",
        "\n",
        "import optuna\n",
        "\n",
        "import joblib\n",
        "\n",
        "import pygad\n",
        "\n",
        "import HydroErr"
      ]
    },
    {
      "cell_type": "code",
      "execution_count": 2,
      "metadata": {
        "id": "oJcpZUdpp9K3"
      },
      "outputs": [],
      "source": [
        "DEVICE = torch.device(\"cuda\" if torch.cuda.is_available() else \"cpu\")\n",
        "\n",
        "SEQ_LENGTH = 365 * 2\n",
        "TARGET_SEQ_LENGTH = 365\n",
        "BASE_LENGTH = SEQ_LENGTH - TARGET_SEQ_LENGTH\n",
        "\n",
        "FORCING_DIM = 3\n",
        "\n",
        "N_CATCHMENTS = 559\n",
        "\n",
        "# training hyperparameters\n",
        "EPOCHS = 500\n",
        "TRAIN_YEAR = 19\n",
        "PATIENCE = 20\n",
        "\n",
        "use_amp = True\n",
        "compile_model = False\n",
        "\n",
        "if compile_model:\n",
        "    torch.set_float32_matmul_precision(\"high\")\n",
        "\n",
        "memory_saving = False\n",
        "if memory_saving:\n",
        "    storge_device = \"cpu\"\n",
        "    computing_device = DEVICE\n",
        "    VAL_STEPS = 500\n",
        "else:\n",
        "    storge_device = DEVICE\n",
        "    computing_device = DEVICE"
      ]
    },
    {
      "cell_type": "code",
      "execution_count": 3,
      "metadata": {
        "id": "ceCEmnygRmye"
      },
      "outputs": [],
      "source": [
        "embedding = torch.load(\"data/final_lstm_embedding2.pt\", map_location=torch.device('cpu')).to(computing_device)\n",
        "decoder = torch.load(\"data/final_lstm_decoder2.pt\", map_location=torch.device('cpu')).to(computing_device)\n",
        "\n",
        "embedding.eval()\n",
        "decoder.eval()\n",
        "\n",
        "# dimension of embedding\n",
        "catchment_embeddings=[x.data for x in embedding.parameters()][0]\n",
        "LATENT_dim = catchment_embeddings.shape[1]"
      ]
    },
    {
      "cell_type": "code",
      "execution_count": 4,
      "metadata": {
        "id": "nGxVHBn3p9K4"
      },
      "outputs": [],
      "source": [
        "dtrain_val = dataloader.Forcing_Data(\n",
        "    \"data/camels_train_val.csv\",\n",
        "    record_length=3652,\n",
        "    storge_device=storge_device,\n",
        "    seq_length=SEQ_LENGTH,\n",
        "    target_seq_length=TARGET_SEQ_LENGTH,\n",
        "    base_length=BASE_LENGTH,\n",
        ")\n",
        "\n",
        "# dtrain = dataloader.Forcing_Data(\n",
        "#     \"camels_train.csv\",\n",
        "#     record_length=2922,\n",
        "#     storge_device=storge_device,\n",
        "#     seq_length=SEQ_LENGTH,\n",
        "#     target_seq_length=TARGET_SEQ_LENGTH,\n",
        "#     base_length=BASE_LENGTH,\n",
        "# )\n",
        "\n",
        "# dval = dataloader.Forcing_Data(\n",
        "#     \"camels_val.csv\",\n",
        "#     record_length=1095,\n",
        "#     storge_device=storge_device,\n",
        "#     seq_length=SEQ_LENGTH,\n",
        "#     target_seq_length=TARGET_SEQ_LENGTH,\n",
        "#     base_length=BASE_LENGTH,\n",
        "# )\n",
        "\n",
        "dtest = dataloader.Forcing_Data(\n",
        "    \"data/camels_test.csv\",\n",
        "    record_length=4383,\n",
        "    storge_device=storge_device,\n",
        "    seq_length=SEQ_LENGTH,\n",
        "    target_seq_length=TARGET_SEQ_LENGTH,\n",
        "    base_length=BASE_LENGTH,\n",
        ")"
      ]
    },
    {
      "cell_type": "code",
      "execution_count": 5,
      "metadata": {
        "id": "dw8xH6sT3qQN"
      },
      "outputs": [],
      "source": [
        "class Objective_builder:\n",
        "    def __init__(self, x, y, eval_fun):\n",
        "        self.eval_fun = eval_fun\n",
        "        self.x = x.contiguous()\n",
        "        self.y = y.contiguous()\n",
        "    \n",
        "    def eval(self, code, return_summary = True):\n",
        "        \n",
        "        # numpy to torch tensor\n",
        "        code = torch.from_numpy(code).unsqueeze(0).to(dtype=torch.float32).to(computing_device)\n",
        "        code = code.expand(self.x.shape[0], -1)\n",
        "        \n",
        "        # BASE_LENGTH is from global\n",
        "        pred = decoder.decode(code, self.x).view(-1).detach().cpu().numpy()\n",
        "\n",
        "        ob = self.y.view(-1).detach().cpu().numpy()\n",
        "        \n",
        "        if return_summary:\n",
        "          gof = self.eval_fun(simulated_array=pred, observed_array=ob)\n",
        "          return gof\n",
        "        else:\n",
        "          return pred, ob"
      ]
    },
    {
      "cell_type": "code",
      "execution_count": 6,
      "metadata": {
        "id": "Nm0X9u8sp9K7"
      },
      "outputs": [],
      "source": [
        "num_generations = 200\n",
        "num_parents_mating = 10\n",
        "\n",
        "sol_per_pop = 100\n",
        "num_genes = LATENT_dim\n",
        "\n",
        "init_range_low = catchment_embeddings.detach().cpu().min().numpy().tolist()\n",
        "init_range_high = catchment_embeddings.detach().cpu().max().numpy().tolist()\n",
        "\n",
        "parent_selection_type = \"sss\"\n",
        "\n",
        "crossover_type = \"single_point\"\n",
        "\n",
        "mutation_type = \"random\"\n",
        "mutation_probability = 0.25\n",
        "\n",
        "x_batch_train_val, y_batch_train_val = dtrain_val.get_val_batch()\n",
        "x_batch_test, y_batch_test = dtest.get_val_batch()\n",
        "\n",
        "def evaluate_calibration(selected_catchment=0):\n",
        "    \n",
        "    x = x_batch_train_val[:,selected_catchment,:,:]\n",
        "    y = y_batch_train_val[:,selected_catchment,:]\n",
        "\n",
        "    x, y = x.to(computing_device), y.to(computing_device)\n",
        "\n",
        "    fn = Objective_builder(x,y,HydroErr.kge_2009)\n",
        "\n",
        "    def fitness_func(ga_instance, solution, solution_idx):\n",
        "        return fn.eval(solution)\n",
        "\n",
        "    ga_instance = pygad.GA(num_generations=num_generations,\n",
        "                        num_parents_mating=num_parents_mating,\n",
        "                        fitness_func=fitness_func,\n",
        "                        sol_per_pop=sol_per_pop,\n",
        "                        num_genes=num_genes,\n",
        "                        init_range_low=init_range_low,\n",
        "                        init_range_high=init_range_high,\n",
        "                        parent_selection_type=parent_selection_type,\n",
        "                        crossover_type=crossover_type,\n",
        "                        mutation_type=mutation_type,\n",
        "                        mutation_probability = mutation_probability,\n",
        "                        stop_criteria=[\"saturate_10\"])\n",
        "\n",
        "    ga_instance.run()\n",
        "\n",
        "    solution, solution_fitness, solution_idx = ga_instance.best_solution()\n",
        "    \n",
        "    # evaluate on test dataset\n",
        "    x = x_batch_test[:,selected_catchment,:,:]\n",
        "    y = y_batch_test[:,selected_catchment,:]\n",
        "\n",
        "    x, y = x.to(computing_device), y.to(computing_device)\n",
        "\n",
        "    fn = Objective_builder(x,y,HydroErr.kge_2009)\n",
        "\n",
        "    return fn.eval(solution), solution"
      ]
    },
    {
      "cell_type": "code",
      "execution_count": 7,
      "metadata": {
        "colab": {
          "base_uri": "https://localhost:8080/"
        },
        "id": "RoScuihK-7QO",
        "outputId": "76bab91f-81fa-4fa0-cd25-39e38a80534e"
      },
      "outputs": [
        {
          "name": "stdout",
          "output_type": "stream",
          "text": [
            "i=0 starts\n"
          ]
        },
        {
          "name": "stderr",
          "output_type": "stream",
          "text": [
            "c:\\Users\\User\\Anaconda3\\envs\\pytorch2\\Lib\\site-packages\\HydroErr\\HydroErr.py:6248: UserWarning: Row(s) [3287 3288 3289 3290 3291 3292 3293 3294 3295 3296 3297 3298 3299 3300\n",
            " 3301 3302 3303 3304 3305 3306 3307 3308 3309 3310 3311 3312 3313 3314\n",
            " 3315 3316 3317 3318 3319 3320 3321 3322 3323 3324 3325 3326 3327 3328\n",
            " 3329 3330 3331 3332 3333 3334 3335 3336 3337 3338 3339 3340 3341 3342\n",
            " 3343 3344 3345 3346 3347 3348 3349 3350 3351 3352 3353 3354 3355 3356\n",
            " 3357 3358 3359 3360 3361 3362 3363 3364 3365 3366 3367 3368 3369 3370\n",
            " 3371 3372 3373 3374 3375 3376 3377 3378 3379 3380 3381 3382 3383 3384\n",
            " 3385 3386 3387 3388 3389 3390 3391 3392 3393 3394 3395 3396 3397 3398\n",
            " 3399 3400 3401 3402 3403 3404 3405 3406 3407 3408 3409 3410 3411 3412\n",
            " 3413 3414 3415 3416 3417 3418 3419 3420 3421 3422 3423 3424 3425 3426\n",
            " 3427 3428 3429 3430 3431 3432 3433 3434 3435 3436 3437 3438 3439 3440\n",
            " 3441 3442 3443 3444 3445 3446 3447 3448 3449 3450 3451 3452 3453 3454\n",
            " 3455 3456 3457 3458 3459 3460 3461 3462 3463 3464 3465 3466 3467 3468\n",
            " 3469 3470 3471 3472 3473 3474 3475 3476 3477 3478 3479 3480 3481 3482\n",
            " 3483 3484 3485 3486 3487 3488 3489 3490 3491 3492 3493 3494 3495 3496\n",
            " 3497 3498 3499 3500 3501 3502 3503 3504 3505 3506 3507 3508 3509 3510\n",
            " 3511 3512 3513 3514 3515 3516 3517 3518 3519 3520 3521 3522 3523 3524\n",
            " 3525 3526 3527 3528 3529 3530 3531 3532 3533 3534 3535 3536 3537 3538\n",
            " 3539 3540 3541 3542 3543 3544 3545 3546 3547 3548 3549 3550 3551 3552\n",
            " 3553 3554 3555 3556 3557 3558 3559 3560 3561 3562 3563 3564 3565 3566\n",
            " 3567 3568 3569 3570 3571 3572 3573 3574 3575 3576 3577 3578 3579 3580\n",
            " 3581 3582 3583 3584 3585 3586 3587 3588 3589 3590 3591 3592 3593 3594\n",
            " 3595 3596 3597 3598 3599 3600 3601 3602 3603 3604 3605 3606 3607 3608\n",
            " 3609 3610 3611 3612 3613 3614 3615 3616 3617 3618 3619 3620 3621 3622\n",
            " 3623 3624 3625 3626 3627 3628 3629 3630 3631 3632 3633 3634 3635 3636\n",
            " 3637 3638 3639 3640 3641 3642 3643 3644 3645 3646 3647 3648 3649] contained NaN values and the row(s) have been removed (Rows are zero indexed).\n",
            "  warnings.warn(\"Row(s) {} contained NaN values and the row(s) have been \"\n",
            "c:\\Users\\User\\Anaconda3\\envs\\pytorch2\\Lib\\site-packages\\HydroErr\\HydroErr.py:6248: UserWarning: Row(s) [4018 4019 4020 4021 4022 4023 4024 4025 4026 4027 4028 4029 4030 4031\n",
            " 4032 4033 4034 4035 4036 4037 4038 4039 4040 4041 4042 4043 4044 4045\n",
            " 4046 4047 4048 4049 4050 4051 4052 4053 4054 4055 4056 4057 4058 4059\n",
            " 4060 4061 4062 4063 4064 4065 4066 4067 4068 4069 4070 4071 4072 4073\n",
            " 4074 4075 4076 4077 4078 4079 4080 4081 4082 4083 4084 4085 4086 4087\n",
            " 4088 4089 4090 4091 4092 4093 4094 4095 4096 4097 4098 4099 4100 4101\n",
            " 4102 4103 4104 4105 4106 4107 4108 4109 4110 4111 4112 4113 4114 4115\n",
            " 4116 4117 4118 4119 4120 4121 4122 4123 4124 4125 4126 4127 4128 4129\n",
            " 4130 4131 4132 4133 4134 4135 4136 4137 4138 4139 4140 4141 4142 4143\n",
            " 4144 4145 4146 4147 4148 4149 4150 4151 4152 4153 4154 4155 4156 4157\n",
            " 4158 4159 4160 4161 4162 4163 4164 4165 4166 4167 4168 4169 4170 4171\n",
            " 4172 4173 4174 4175 4176 4177 4178 4179 4180 4181 4182 4183 4184 4185\n",
            " 4186 4187 4188 4189 4190 4191 4192 4193 4194 4195 4196 4197 4198 4199\n",
            " 4200 4201 4202 4203 4204 4205 4206 4207 4208 4209 4210 4211 4212 4213\n",
            " 4214 4215 4216 4217 4218 4219 4220 4221 4222 4223 4224 4225 4226 4227\n",
            " 4228 4229 4230 4231 4232 4233 4234 4235 4236 4237 4238 4239 4240 4241\n",
            " 4242 4243 4244 4245 4246 4247 4248 4249 4250 4251 4252 4253 4254 4255\n",
            " 4256 4257 4258 4259 4260 4261 4262 4263 4264 4265 4266 4267 4268 4269\n",
            " 4270 4271 4272 4273 4274 4275 4276 4277 4278 4279 4280 4281 4282 4283\n",
            " 4284 4285 4286 4287 4288 4289 4290 4291 4292 4293 4294 4295 4296 4297\n",
            " 4298 4299 4300 4301 4302 4303 4304 4305 4306 4307 4308 4309 4310 4311\n",
            " 4312 4313 4314 4315 4316 4317 4318 4319 4320 4321 4322 4323 4324 4325\n",
            " 4326 4327 4328 4329 4330 4331 4332 4333 4334 4335 4336 4337 4338 4339\n",
            " 4340 4341 4342 4343 4344 4345 4346 4347 4348 4349 4350 4351 4352 4353\n",
            " 4354 4355 4356 4357 4358 4359 4360 4361 4362 4363 4364 4365 4366 4367\n",
            " 4368 4369 4370 4371 4372 4373 4374 4375 4376 4377 4378 4379] contained NaN values and the row(s) have been removed (Rows are zero indexed).\n",
            "  warnings.warn(\"Row(s) {} contained NaN values and the row(s) have been \"\n"
          ]
        },
        {
          "name": "stdout",
          "output_type": "stream",
          "text": [
            "fit=0.8912936780968745\n",
            "i=1 starts\n",
            "fit=0.8823883546151197\n",
            "i=2 starts\n",
            "fit=0.8591966099423587\n",
            "i=3 starts\n",
            "fit=0.8969882666394903\n",
            "i=4 starts\n"
          ]
        }
      ],
      "source": [
        "N_CATCHMENTS = 559\n",
        "calibrated_KGES = np.ones(N_CATCHMENTS)\n",
        "camels_embeddings = np.ones([N_CATCHMENTS, LATENT_dim])\n",
        "\n",
        "for i in range(N_CATCHMENTS):\n",
        "    print(f'i={i} starts')\n",
        "    calibrated_KGES[i], camels_embeddings[i,:]  = evaluate_calibration(i)\n",
        "    print(f'fit={calibrated_KGES[i]}')"
      ]
    },
    {
      "cell_type": "code",
      "execution_count": 8,
      "metadata": {
        "id": "VzoYzMSXDLtm"
      },
      "outputs": [],
      "source": [
        "np.savetxt(\"data/ga_KGEs.csv\", calibrated_KGES, delimiter=\",\")\n",
        "np.savetxt(\"data/ga_camels_embeddings.csv\", camels_embeddings, delimiter=\",\")"
      ]
    },
    {
      "attachments": {},
      "cell_type": "markdown",
      "metadata": {
        "id": "5dla3EMJDzFA"
      },
      "source": [
        "# Result check"
      ]
    },
    {
      "cell_type": "code",
      "execution_count": 14,
      "metadata": {},
      "outputs": [
        {
          "data": {
            "text/plain": [
              "array([ 0.91941096,  0.85682169,  0.91637485,  0.88217712,  0.88228154,\n",
              "        0.88692423,  0.74929147,  0.78510157,  0.86397878,  0.84344607,\n",
              "        0.76471023,  0.83853438,  0.83633127,  0.78910078,  0.84521933,\n",
              "        0.81248433,  0.80268453,  0.84948467,  0.74234173,  0.76419514,\n",
              "        0.76399213,  0.83128169,  0.76749481,  0.7045009 ,  0.78371101,\n",
              "        0.50837783,  0.77227529,  0.26538183,  0.57192447,  0.6664474 ,\n",
              "        0.62655947,  0.76148306,  0.71783067,  0.76387803,  0.79151405,\n",
              "        0.80246345,  0.75337292,  0.78052573,  0.83671804,  0.80459067,\n",
              "        0.81376294,  0.4992642 ,  0.7323576 ,  0.54922338,  0.80322473,\n",
              "        0.80011686,  0.86071515,  0.8383424 ,  0.77542572,  0.71476613,\n",
              "        0.68841337,  0.77964997,  0.51909695,  0.58665682,  0.75903779,\n",
              "        0.79007346,  0.70983101,  0.58668493,  0.79720012,  0.69344743,\n",
              "        0.65657411,  0.58694882,  0.69307331,  0.72728967,  0.79509138,\n",
              "        0.71894977,  0.75483379,  0.68432546,  0.55662402,  0.76278659,\n",
              "        0.39593781,  0.65615555,  0.74794464,  0.68333587,  0.70178364,\n",
              "        0.40697932,  0.61528125,  0.82687356,  0.65255826,  0.82787613,\n",
              "        0.63362776,  0.74538318,  0.73447039,  0.7825076 ,  0.68140171,\n",
              "        0.77140607,  0.6380635 ,  0.20024766,  0.42963008,  0.52971751,\n",
              "        0.6719701 ,  0.60099438,  0.80752196,  0.72892372,  0.69117261,\n",
              "        0.69611122,  0.76547868,  0.63872182, -0.11519627,  0.4860116 ,\n",
              "        0.800024  ,  0.78789842,  0.6612794 ,  0.44902973,  0.74939338,\n",
              "        0.51798368,  0.41078897,  0.58069804,  0.76383509,  0.69565273,\n",
              "        0.74485204,  0.64750086,  0.805574  ,  0.71960594,  0.62877262,\n",
              "        0.5836393 ,  0.67657159,  0.76312647,  0.73282007,  0.69718688,\n",
              "        0.7761632 ,  0.60193611,  0.7059993 ,  0.7715166 ,  0.59769292,\n",
              "        0.3441966 ,  0.51040031,  0.24102388,  0.64247312,  0.57392257,\n",
              "        0.38786003,  0.6611121 ,  0.37198241,  0.74592679,  0.59846122,\n",
              "        0.70251622,  0.73492927,  0.67689356,  0.71690588,  0.59795736,\n",
              "        0.73300535,  0.40050024,  0.66473986,  0.62052494,  0.77961191,\n",
              "        0.76834316,  0.71230815,  0.7280521 ,  0.72004147,  0.76340558,\n",
              "        0.71374059,  0.82062759,  0.74521085,  0.8669458 ,  0.82252881,\n",
              "        0.7336983 ,  0.75425873,  0.70288106,  0.84010339,  0.68098926,\n",
              "        0.7201963 ,  0.82231133,  0.7994239 ,  0.79321425,  0.83145289,\n",
              "        0.8515744 ,  0.85055076,  0.8052184 ,  0.83548787,  0.73452006,\n",
              "        0.80122317,  0.82810313,  0.70573904,  0.42361549,  0.84942962,\n",
              "        0.84081893,  0.81121902,  0.67205209,  0.7845977 ,  0.7212419 ,\n",
              "        0.77314804,  0.72063559,  0.85554111,  0.80042074,  0.78176203,\n",
              "        0.68695959,  0.8132754 ,  0.84377055,  0.8177617 ,  0.81214913,\n",
              "        0.82246987,  0.53969286,  0.66687526,  0.7458828 ,  0.74793674,\n",
              "        0.79191592,  0.64567794,  0.6469284 ,  0.82163772,  0.66315604,\n",
              "        0.83273323,  0.80931477,  0.72716919,  0.770134  ,  0.57770304,\n",
              "        0.77183441,  0.79923023,  0.79479594,  0.69940441,  0.68663195,\n",
              "        0.80398073,  0.62653959,  0.76841969,  0.78728059,  0.7310606 ,\n",
              "        0.80408147,  0.82308273,  0.65653169,  0.87923794,  0.7808387 ,\n",
              "        0.63723231,  0.7177967 ,  0.80920951,  0.87298911,  0.77234718,\n",
              "        0.78699512,  0.8540085 ,  0.66328523,  0.61134755,  0.71422559,\n",
              "        0.59235529,  0.52435937,  0.70486377,  0.71723667,  0.36131162,\n",
              "        0.75021068,  0.64943309,  0.81305739,  0.73621462,  0.4362296 ,\n",
              "        0.71317615,  0.7736917 ,  0.81945665,  0.77322614,  0.81510141,\n",
              "        0.58788488,  0.7880409 ,  0.84235667,  0.7342695 ,  0.79974474,\n",
              "        0.86163299,  0.85753881,  0.29171516,  0.61868524,  0.28944174,\n",
              "        0.67046013,  0.75092808,  0.17034675,  0.6858873 ,  0.67057141,\n",
              "        0.78353178,  0.6593783 ,  0.72854327,  0.72969661,  0.60647781,\n",
              "        0.46324869,  0.5986977 ,  0.75862397,  0.78650734,  0.56274371,\n",
              "        0.70876318,  0.71402015,  0.84328325,  0.65059414,  0.66794822,\n",
              "        0.37370717,  0.77020333,  0.72474588,  0.74934765,  0.84116089,\n",
              "        0.7195804 ,  0.73674984,  0.71969591,  0.72739284,  0.66451058,\n",
              "        0.62813259,  0.80259202,  0.79903452,  0.84866589,  0.78279906,\n",
              "        0.89923192,  0.914948  ,  0.9137207 ,  0.82258443,  0.86115085,\n",
              "        0.77165027,  0.88986706,  0.79083062,  0.69386732,  0.69214525,\n",
              "        0.1221648 ,  0.67361741,  0.39800786,  0.45627447,  0.52819251,\n",
              "        0.60182398,  0.61420173,  0.73701324,  0.32324371,  0.32032418,\n",
              "        0.3338584 ,  0.57983593,  0.66467604, -0.53347539, -0.77916522,\n",
              "        0.49231771,  0.24596427,  0.17699822,  0.58668613,  0.479291  ,\n",
              "        0.6221163 ,  0.69209199,  0.4790768 ,  0.7383808 , -0.15451924,\n",
              "       -0.29396229,  0.38796394,  0.83557095,  0.9029518 ,  0.81982132,\n",
              "        0.88559738,  0.06042302,  0.05468455,  0.40803702,  0.63159649,\n",
              "       -3.21306982, -0.42124001,  0.33627795,  0.70906647,  0.19768644,\n",
              "        0.76387015,  0.55994912,  0.50294428,  0.66834091,  0.70103322,\n",
              "        0.40526508,  0.73992273,  0.76987355,  0.69867323,  0.69825273,\n",
              "        0.4624396 ,  0.81352287,  0.47299275,  0.75578586,  0.73324486,\n",
              "        0.85506525,  0.67403278,  0.70994717,  0.69812294,  0.89670899,\n",
              "        0.79907003,  0.92885066, -0.81278593,  0.61655241,  0.57911228,\n",
              "        0.13960474,  0.80853184,  0.66676686,  0.51376719,  0.72713499,\n",
              "        0.51769168,  0.66470911,  0.78874377,  0.13556319, -0.07324176,\n",
              "        0.74368356,  0.67438866,  0.89954279,  0.64772151,  0.7213874 ,\n",
              "        0.67899435,  0.16287941,  0.23592526,  0.41262948, -0.76162158,\n",
              "       -0.59042373,  0.40076877,  0.7731125 ,  0.75390234,  0.77999434,\n",
              "        0.81311815,  0.67826166,  0.63984392,  0.56275195,  0.8047991 ,\n",
              "        0.81619315,  0.73642421, -0.16109983,  0.52173931,  0.59457149,\n",
              "        0.35685496,  0.42213994,  0.31439609,  0.41240864, -0.04470742,\n",
              "        0.47810438,  0.61220637,  0.36593469,  0.27405874,  0.5797445 ,\n",
              "        0.63725465,  0.59190753,  0.55982766,  0.56417574,  0.48744129,\n",
              "        0.78964921,  0.40404145,  0.6873886 ,  0.52958862,  0.66173348,\n",
              "        0.3022803 ,  0.71956229,  0.59604024, -1.52422093,  0.13413323,\n",
              "        0.5203036 ,  0.34086044,  0.32677319,  0.44044134,  0.40508588,\n",
              "        0.73027592,  0.75014598,  0.79458861,  0.62235415,  0.79674646,\n",
              "        0.71427114,  0.73907256,  0.92849822,  0.62132847,  0.91527526,\n",
              "        0.92204264,  0.81502002,  0.85546758,  0.94949747,  0.92836226,\n",
              "        0.71526301,  0.85665105, -0.31446978,  0.88272819,  0.91022162,\n",
              "        0.61967056, -0.93347162,  0.52861445,  0.50401264,  0.29982149,\n",
              "        0.01182777,  0.2302663 , -0.00489074,  0.60811637,  0.53904763,\n",
              "        0.60491536,  0.65143804,  0.55451037,  0.5805563 ,  0.6226916 ,\n",
              "        0.72562412, -0.05955173,  0.73620334,  0.84192303,  0.74433085,\n",
              "        0.65168561,  0.78386373,  0.80307725,  0.53566598,  0.70342163,\n",
              "        0.56503604,  0.81244425,  0.02801929,  0.6630147 ,  0.30617911,\n",
              "        0.66248627,  0.78174409,  0.83717879,  0.86448875,  0.7400771 ,\n",
              "        0.74108488,  0.81301268,  0.7423835 ,  0.89087058,  0.80904241,\n",
              "        0.78308961,  0.65669813,  0.5887841 ,  0.81898816,  0.59213189,\n",
              "        0.48059431,  0.69839707,  0.64962555,  0.69277236,  0.93228245,\n",
              "        0.90869752,  0.84480855,  0.62216996,  0.93397444,  0.62347771,\n",
              "        0.74147842,  0.64449642,  0.8960605 ,  0.87572828,  0.88802278,\n",
              "        0.84582648,  0.81432098,  0.85065143,  0.92631717,  0.81182305,\n",
              "        0.90836883,  0.60153123,  0.8002772 ,  0.84273776,  0.72939165,\n",
              "        0.64054561,  0.81267633,  0.75303366,  0.84359061,  0.80120621,\n",
              "        0.9228345 ,  0.88222069,  0.87602614,  0.887157  ,  0.87362374,\n",
              "        0.94694415,  0.93311091,  0.94540468,  0.80507133,  0.77788528,\n",
              "        0.87413583,  0.91948687,  0.86261909,  0.90104465,  0.915395  ,\n",
              "        0.8767495 ,  0.7805991 ,  0.80691232,  0.8109702 ,  0.88317847,\n",
              "        0.89530966,  0.90155368,  0.91312674,  0.90371858,  0.85219745,\n",
              "        0.87097784,  0.87296341,  0.90480454,  0.90352674,  0.7921505 ,\n",
              "        0.91245779,  0.86514961,  0.89443528,  0.89847546])"
            ]
          },
          "execution_count": 14,
          "metadata": {},
          "output_type": "execute_result"
        }
      ],
      "source": [
        "calibrated_KGES"
      ]
    },
    {
      "attachments": {},
      "cell_type": "markdown",
      "metadata": {},
      "source": []
    },
    {
      "cell_type": "code",
      "execution_count": 11,
      "metadata": {
        "id": "KcwBoioFp9K9",
        "outputId": "e9aa9d7e-2972-4b4e-f519-4e10ab766559"
      },
      "outputs": [
        {
          "data": {
            "image/png": "[encoded data removed]",
            "text/plain": [
              "<Figure size 640x480 with 1 Axes>"
            ]
          },
          "metadata": {},
          "output_type": "display_data"
        }
      ],
      "source": [
        "from matplotlib import pyplot as plt\n",
        "\n",
        "plt.hist(calibrated_KGES[calibrated_KGES>0], bins = 30)\n",
        "plt.show()"
      ]
    },
    {
      "cell_type": "code",
      "execution_count": 9,
      "metadata": {
        "id": "fBoQkf-Cp9K9",
        "outputId": "4856c289-13ec-4e46-d43d-559f73f757df"
      },
      "outputs": [
        {
          "data": {
            "text/plain": [
              "0.6348132287213644"
            ]
          },
          "execution_count": 9,
          "metadata": {},
          "output_type": "execute_result"
        }
      ],
      "source": [
        "calibrated_KGES.mean()"
      ]
    },
    {
      "cell_type": "code",
      "execution_count": 10,
      "metadata": {
        "id": "TNPOIEy_p9K-",
        "outputId": "dac5fcb6-05dd-456b-89b1-4018cffaa686"
      },
      "outputs": [
        {
          "data": {
            "text/plain": [
              "0.7147491069950322"
            ]
          },
          "execution_count": 10,
          "metadata": {},
          "output_type": "execute_result"
        }
      ],
      "source": [
        "np.median(calibrated_KGES)"
      ]
    },
    {
      "cell_type": "code",
      "execution_count": 12,
      "metadata": {
        "id": "t5aRLriip9K7",
        "outputId": "83c37e57-c570-4994-b0e2-39ae8c766cb7"
      },
      "outputs": [
        {
          "data": {
            "text/plain": [
              "array([ 0.9420202 ,  0.86203084,  0.93148178,  0.78090595,  0.8144998 ,\n",
              "        0.85943922,  0.7345685 ,  0.74645524,  0.87153836,  0.85908326,\n",
              "        0.70320197,  0.82783057,  0.81370497,  0.75883473,  0.79800478,\n",
              "        0.79103684,  0.69251102,  0.84624123,  0.74571939,  0.76050727,\n",
              "        0.75696628,  0.79870878,  0.80228153,  0.61092393,  0.77352366,\n",
              "        0.5178847 ,  0.75893902,  0.33690869,  0.5776642 ,  0.60836813,\n",
              "        0.61926657,  0.75070486,  0.70483945,  0.75739337,  0.77527625,\n",
              "        0.76888088,  0.73969803,  0.76075648,  0.71035561,  0.77706593,\n",
              "        0.80669024,  0.45990407,  0.69342954,  0.51774221,  0.73530102,\n",
              "        0.79113578,  0.82917616,  0.80798142,  0.69034885,  0.67988069,\n",
              "        0.59830966,  0.73236492,  0.5081895 ,  0.54846339,  0.77213326,\n",
              "        0.75237287,  0.71405785,  0.61706965,  0.75428625,  0.60311587,\n",
              "        0.62767701,  0.56396525,  0.67107781,  0.72260505,  0.8072799 ,\n",
              "        0.73522891,  0.72159259,  0.59516647,  0.3770068 ,  0.61335283,\n",
              "        0.51478642,  0.54577797,  0.71995169,  0.62836797,  0.66703108,\n",
              "        0.28285725,  0.65360901,  0.72296122,  0.56487258,  0.78226421,\n",
              "        0.64222536,  0.73484112,  0.76628141,  0.76762952,  0.63976458,\n",
              "        0.73224055,  0.62322049,  0.27211122,  0.44868644,  0.4197901 ,\n",
              "        0.66012729,  0.58456463,  0.74417688,  0.74729406,  0.64446128,\n",
              "        0.62768833,  0.71580533,  0.5155848 ,  0.0363709 ,  0.37880957,\n",
              "        0.71740077,  0.80375601,  0.65879277,  0.47537848,  0.71318944,\n",
              "        0.54269594,  0.41145652,  0.65974851,  0.74945725,  0.7129829 ,\n",
              "        0.76234096,  0.5897019 ,  0.77538253,  0.63145836,  0.65089369,\n",
              "        0.63299498,  0.6941557 ,  0.78351647,  0.72579269,  0.73778533,\n",
              "        0.6572521 ,  0.56428508,  0.71598987,  0.82143675,  0.64956613,\n",
              "        0.11012666,  0.49623842,  0.26655575,  0.57006436,  0.53707978,\n",
              "        0.31151878,  0.60257193,  0.66679732,  0.76852783,  0.64958825,\n",
              "        0.84146568,  0.72654912,  0.61297692,  0.67431519,  0.48193306,\n",
              "        0.68860775,  0.2315076 ,  0.6907451 ,  0.49530876,  0.71039051,\n",
              "        0.84519231,  0.73705916,  0.78279837,  0.68325182,  0.67878503,\n",
              "        0.65410381,  0.84303023,  0.76213402,  0.8744397 ,  0.80265262,\n",
              "        0.72961504,  0.71861206,  0.59999713,  0.73783015,  0.72261244,\n",
              "        0.8457348 ,  0.74139601,  0.82719662,  0.85142593,  0.84538376,\n",
              "        0.73841748,  0.79312742,  0.76427002,  0.82491171,  0.69403649,\n",
              "        0.74793465,  0.75761706,  0.6273181 ,  0.40701711,  0.84215955,\n",
              "        0.83061805,  0.80501494,  0.6653344 ,  0.67782355,  0.76733206,\n",
              "        0.7774856 ,  0.74371001,  0.86625127,  0.86251736,  0.78926737,\n",
              "        0.71684655,  0.78906011,  0.82445907,  0.81211786,  0.8161218 ,\n",
              "        0.76060582,  0.56264927,  0.71880743,  0.79247009,  0.82429903,\n",
              "        0.79250674,  0.64450195,  0.75382228,  0.8467926 ,  0.67833714,\n",
              "        0.76156415,  0.79909371,  0.72605805,  0.82834426,  0.66776648,\n",
              "        0.77099637,  0.78462957,  0.74620391,  0.62817219,  0.68137755,\n",
              "        0.76600777,  0.63982476,  0.66227069,  0.79042147,  0.71732011,\n",
              "        0.7473411 ,  0.82001188,  0.71484047,  0.86147177,  0.78023195,\n",
              "        0.73170892,  0.70460612,  0.59185858,  0.80755117,  0.741753  ,\n",
              "        0.68973883,  0.83550671,  0.71740911,  0.58268743,  0.57602268,\n",
              "        0.63126864,  0.60611512,  0.83953754,  0.72380014,  0.41663898,\n",
              "        0.7617869 ,  0.78704701,  0.72357716,  0.7318304 ,  0.63837343,\n",
              "        0.70989954,  0.8104009 ,  0.81778111,  0.75314995,  0.78471865,\n",
              "        0.60911997,  0.77242263,  0.77003749,  0.59197644,  0.77273654,\n",
              "        0.86193016,  0.84060268,  0.50652336,  0.63796069, -0.08199356,\n",
              "        0.79252555,  0.70439258,  0.1855511 ,  0.66342804,  0.69556089,\n",
              "        0.73011072,  0.67341783,  0.76630198,  0.69002589,  0.59888539,\n",
              "        0.5278098 ,  0.52110702,  0.72620015,  0.73509727,  0.33511842,\n",
              "        0.59321451,  0.61862413,  0.78859724,  0.77997617,  0.68836173,\n",
              "        0.34424174,  0.74324979,  0.72120091,  0.73595805,  0.84959623,\n",
              "        0.60792556,  0.60686313,  0.76543099,  0.6941399 ,  0.77883286,\n",
              "        0.71483078,  0.82174267,  0.7525013 ,  0.82466929,  0.63161977,\n",
              "        0.87906175,  0.90709104,  0.89457427,  0.67445386,  0.79693504,\n",
              "        0.69452347,  0.83758426,  0.75970649,  0.6223032 ,  0.62768436,\n",
              "       -0.01817503, -0.01400869,  0.12058915,  0.47598905, -0.04789792,\n",
              "        0.44052257,  0.34044397,  0.42619026,  0.48235586,  0.03330125,\n",
              "        0.3936583 ,  0.35954721,  0.53468997,  0.34903988,  0.10581487,\n",
              "        0.60850365, -0.03227745,  0.42310613,  0.49829294,  0.52804938,\n",
              "        0.58702411,  0.65213988,  0.5914937 ,  0.63225628, -0.20190636,\n",
              "       -0.54674999,  0.49060689,  0.78691183,  0.84953106,  0.89696995,\n",
              "        0.80645852, -0.24836377,  0.25288295,  0.38228265,  0.71798414,\n",
              "       -2.5391859 , -0.31808353,  0.54949521,  0.69832212, -0.01774244,\n",
              "        0.73452487,  0.3809894 ,  0.52654581,  0.61590736,  0.63518609,\n",
              "        0.16712192,  0.6776507 ,  0.75225343,  0.70275051,  0.75828305,\n",
              "        0.38882493,  0.80068943,  0.5036828 ,  0.6766543 ,  0.65137134,\n",
              "        0.78489661,  0.71871963,  0.62136708,  0.72333596,  0.87837296,\n",
              "        0.77058533,  0.83139918, -0.25333971,  0.78263222,  0.71550587,\n",
              "        0.37356303,  0.76341873,  0.64725939,  0.65259823,  0.72667874,\n",
              "        0.62459889,  0.63087417,  0.72637731,  0.10360164,  0.29200651,\n",
              "        0.76038032,  0.65010849,  0.8230646 ,  0.6627208 ,  0.6949579 ,\n",
              "        0.71474911,  0.51538881,  0.28490101,  0.37215129, -0.04693264,\n",
              "       -0.52795779,  0.38645134,  0.75173634,  0.73923704,  0.77541047,\n",
              "        0.6723853 ,  0.65899301,  0.64624404,  0.55891659,  0.72619325,\n",
              "        0.74865601,  0.64630965, -0.01050457,  0.50437841,  0.58219342,\n",
              "        0.3264435 ,  0.50222856,  0.32680746,  0.32963746,  0.02771618,\n",
              "        0.41280061,  0.65802776,  0.46685683,  0.29449529,  0.46142627,\n",
              "        0.58727154,  0.53568176,  0.64678194,  0.62654711,  0.57689781,\n",
              "        0.77462686,  0.42083579,  0.78912319,  0.66210916,  0.71433447,\n",
              "        0.29937887,  0.69798124,  0.65100195, -1.46299024,  0.05067456,\n",
              "        0.52623474,  0.32442383,  0.47597653,  0.33562327,  0.16326413,\n",
              "        0.75220138,  0.68856688,  0.85782981,  0.62907618,  0.71190648,\n",
              "        0.6844641 ,  0.67278489,  0.88104176,  0.72135195,  0.87528444,\n",
              "        0.84518168,  0.84490716,  0.74008329,  0.92662862,  0.91324059,\n",
              "        0.74649898,  0.79697218, -0.08541225,  0.89039894,  0.89837134,\n",
              "        0.80758354,  0.02606417,  0.71736635,  0.68401916,  0.25886249,\n",
              "       -3.10799506,  0.33620273, -0.15877615,  0.51026017, -0.20227835,\n",
              "        0.593867  ,  0.57549021,  0.39033116,  0.48230597,  0.20112498,\n",
              "        0.66665414, -0.15362457,  0.52511613,  0.55713276,  0.80137519,\n",
              "        0.51294635,  0.85549555,  0.80186527,  0.69790393,  0.70715597,\n",
              "        0.70603537,  0.79255841,  0.49335847,  0.7383581 ,  0.42391659,\n",
              "        0.54396247,  0.69085539,  0.86397531,  0.83279929,  0.79149716,\n",
              "        0.60937334,  0.79343465,  0.7015911 ,  0.90905533,  0.85405705,\n",
              "        0.73121555,  0.74042623,  0.52243416,  0.76556496,  0.65568363,\n",
              "        0.61133044,  0.79626544,  0.7779784 ,  0.77557761,  0.91564073,\n",
              "        0.90920397,  0.86175673,  0.64639996,  0.94343882,  0.63187542,\n",
              "        0.83203114,  0.5392027 ,  0.87144259,  0.89623584,  0.85148606,\n",
              "        0.83375127,  0.8154457 ,  0.8528428 ,  0.94012382,  0.79756182,\n",
              "        0.93601409,  0.50692134,  0.79919302,  0.85735643,  0.57336323,\n",
              "        0.43584693,  0.75845754,  0.58028893,  0.87663205,  0.70391616,\n",
              "        0.93025396,  0.85398835,  0.81687336,  0.88999491,  0.89131488,\n",
              "        0.94997652,  0.89396374,  0.90878381,  0.85461226,  0.67252914,\n",
              "        0.819547  ,  0.88511299,  0.84125015,  0.86234823,  0.91957928,\n",
              "        0.89708897,  0.82870655,  0.6916082 ,  0.82851765,  0.89524827,\n",
              "        0.87952034,  0.86354744,  0.90967805,  0.93196805,  0.84176181,\n",
              "        0.87753727,  0.85884505,  0.92213216,  0.89457508,  0.79130083,\n",
              "        0.89431575,  0.87462403,  0.87930487,  0.89808987])"
            ]
          },
          "execution_count": 12,
          "metadata": {},
          "output_type": "execute_result"
        }
      ],
      "source": [
        "calibrated_KGES"
      ]
    }
  ],
  "metadata": {
    "accelerator": "GPU",
    "colab": {
      "provenance": []
    },
    "gpuClass": "standard",
    "kernelspec": {
      "display_name": "pytorch-env",
      "language": "python",
      "name": "python3"
    },
    "language_info": {
      "codemirror_mode": {
        "name": "ipython",
        "version": 3
      },
      "file_extension": ".py",
      "mimetype": "text/x-python",
      "name": "python",
      "nbconvert_exporter": "python",
      "pygments_lexer": "ipython3",
      "version": "3.11.4"
    },
    "vscode": {
      "interpreter": {
        "hash": "1ddfd6d42648f68c476c776315986cac60a18b45e56ba9b8a233e8441d39da2b"
      }
    }
  },
  "nbformat": 4,
  "nbformat_minor": 0
}
