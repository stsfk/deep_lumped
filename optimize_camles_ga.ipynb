{
  "cells": [
    {
      "cell_type": "code",
      "execution_count": 2,
      "metadata": {
        "id": "95vm9FxGQ7KK"
      },
      "outputs": [],
      "source": [
        "import torch\n",
        "import torch.nn as nn\n",
        "import torch.optim as optim\n",
        "\n",
        "from torch.utils.data import Dataset\n",
        "\n",
        "import numpy as np\n",
        "\n",
        "import math\n",
        "\n",
        "import time\n",
        "\n",
        "import dataloader\n",
        "import models\n",
        "import training_fun\n",
        "\n",
        "import optuna\n",
        "\n",
        "import joblib\n",
        "\n",
        "import pygad\n",
        "\n",
        "import HydroErr"
      ]
    },
    {
      "cell_type": "code",
      "execution_count": 3,
      "metadata": {
        "id": "oJcpZUdpp9K3"
      },
      "outputs": [],
      "source": [
        "DEVICE = torch.device(\"cuda\" if torch.cuda.is_available() else \"cpu\")\n",
        "\n",
        "SEQ_LENGTH = 365 * 2\n",
        "TARGET_SEQ_LENGTH = 365\n",
        "BASE_LENGTH = SEQ_LENGTH - TARGET_SEQ_LENGTH\n",
        "\n",
        "FORCING_DIM = 3\n",
        "\n",
        "N_CATCHMENTS = 559\n",
        "\n",
        "# training hyperparameters\n",
        "EPOCHS = 500\n",
        "TRAIN_YEAR = 19\n",
        "PATIENCE = 20\n",
        "\n",
        "use_amp = True\n",
        "compile_model = False\n",
        "\n",
        "if compile_model:\n",
        "    torch.set_float32_matmul_precision(\"high\")\n",
        "\n",
        "memory_saving = False\n",
        "if memory_saving:\n",
        "    storge_device = \"cpu\"\n",
        "    computing_device = DEVICE\n",
        "    VAL_STEPS = 500\n",
        "else:\n",
        "    storge_device = DEVICE\n",
        "    computing_device = DEVICE"
      ]
    },
    {
      "cell_type": "code",
      "execution_count": 5,
      "metadata": {
        "id": "ceCEmnygRmye"
      },
      "outputs": [],
      "source": [
        "embedding = torch.load(\"data/final_lstm_embedding2.pt\", map_location=torch.device('cpu')).to(computing_device)\n",
        "decoder = torch.load(\"data/final_lstm_decoder2.pt\", map_location=torch.device('cpu')).to(computing_device)\n",
        "\n",
        "embedding.eval()\n",
        "decoder.eval()\n",
        "\n",
        "# dimension of embedding\n",
        "catchment_embeddings=[x.data for x in embedding.parameters()][0]\n",
        "LATENT_dim = catchment_embeddings.shape[1]"
      ]
    },
    {
      "cell_type": "code",
      "execution_count": 6,
      "metadata": {
        "id": "nGxVHBn3p9K4"
      },
      "outputs": [],
      "source": [
        "dtrain_val = dataloader.Forcing_Data(\n",
        "    \"data/camels_train_val.csv\",\n",
        "    record_length=3652,\n",
        "    storge_device=storge_device,\n",
        "    seq_length=SEQ_LENGTH,\n",
        "    target_seq_length=TARGET_SEQ_LENGTH,\n",
        "    base_length=BASE_LENGTH,\n",
        ")\n",
        "\n",
        "# dtrain = dataloader.Forcing_Data(\n",
        "#     \"camels_train.csv\",\n",
        "#     record_length=2922,\n",
        "#     storge_device=storge_device,\n",
        "#     seq_length=SEQ_LENGTH,\n",
        "#     target_seq_length=TARGET_SEQ_LENGTH,\n",
        "#     base_length=BASE_LENGTH,\n",
        "# )\n",
        "\n",
        "# dval = dataloader.Forcing_Data(\n",
        "#     \"camels_val.csv\",\n",
        "#     record_length=1095,\n",
        "#     storge_device=storge_device,\n",
        "#     seq_length=SEQ_LENGTH,\n",
        "#     target_seq_length=TARGET_SEQ_LENGTH,\n",
        "#     base_length=BASE_LENGTH,\n",
        "# )\n",
        "\n",
        "dtest = dataloader.Forcing_Data(\n",
        "    \"data/camels_test.csv\",\n",
        "    record_length=4383,\n",
        "    storge_device=storge_device,\n",
        "    seq_length=SEQ_LENGTH,\n",
        "    target_seq_length=TARGET_SEQ_LENGTH,\n",
        "    base_length=BASE_LENGTH,\n",
        ")"
      ]
    },
    {
      "cell_type": "code",
      "execution_count": 11,
      "metadata": {
        "id": "dw8xH6sT3qQN"
      },
      "outputs": [],
      "source": [
        "class Objective_builder:\n",
        "    def __init__(self, x, y, eval_fun):\n",
        "        self.eval_fun = eval_fun\n",
        "        self.x = x.contiguous()\n",
        "        self.y = y.contiguous()\n",
        "    \n",
        "    def eval(self, code, return_summary = True):\n",
        "        \n",
        "        # numpy to torch tensor\n",
        "        code = torch.from_numpy(code).unsqueeze(0).to(dtype=torch.float32).to(computing_device)\n",
        "        code = code.expand(self.x.shape[0], -1)\n",
        "        \n",
        "        # BASE_LENGTH is from global\n",
        "        pred = decoder.decode(code, self.x).view(-1).detach().cpu().numpy()\n",
        "\n",
        "        ob = self.y.view(-1).detach().cpu().numpy()\n",
        "        \n",
        "        if return_summary:\n",
        "          gof = self.eval_fun(simulated_array=pred, observed_array=ob)\n",
        "          return gof\n",
        "        else:\n",
        "          return pred, ob"
      ]
    },
    {
      "cell_type": "code",
      "execution_count": 14,
      "metadata": {
        "id": "Nm0X9u8sp9K7"
      },
      "outputs": [],
      "source": [
        "num_generations = 200\n",
        "num_parents_mating = 10\n",
        "\n",
        "sol_per_pop = 100\n",
        "num_genes = LATENT_dim\n",
        "\n",
        "init_range_low = catchment_embeddings.detach().cpu().min().numpy().tolist()\n",
        "init_range_high = catchment_embeddings.detach().cpu().max().numpy().tolist()\n",
        "\n",
        "parent_selection_type = \"sss\"\n",
        "\n",
        "crossover_type = \"single_point\"\n",
        "\n",
        "mutation_type = \"random\"\n",
        "mutation_probability = 0.25\n",
        "\n",
        "x_batch_train_val, y_batch_train_val = dtrain_val.get_val_batch()\n",
        "x_batch_test, y_batch_test = dtest.get_val_batch()\n",
        "\n",
        "def evaluate_calibration(selected_catchment=0):\n",
        "    \n",
        "    x = x_batch_train_val[:,selected_catchment,:,:]\n",
        "    y = y_batch_train_val[:,selected_catchment,:]\n",
        "\n",
        "    x, y = x.to(computing_device), y.to(computing_device)\n",
        "\n",
        "    fn = Objective_builder(x,y,HydroErr.kge_2009)\n",
        "\n",
        "    def fitness_func(ga_instance, solution, solution_idx):\n",
        "        return fn.eval(solution)\n",
        "\n",
        "    ga_instance = pygad.GA(num_generations=num_generations,\n",
        "                        num_parents_mating=num_parents_mating,\n",
        "                        fitness_func=fitness_func,\n",
        "                        sol_per_pop=sol_per_pop,\n",
        "                        num_genes=num_genes,\n",
        "                        init_range_low=init_range_low,\n",
        "                        init_range_high=init_range_high,\n",
        "                        parent_selection_type=parent_selection_type,\n",
        "                        crossover_type=crossover_type,\n",
        "                        mutation_type=mutation_type,\n",
        "                        mutation_probability = mutation_probability,\n",
        "                        stop_criteria=[\"saturate_10\"])\n",
        "\n",
        "    ga_instance.run()\n",
        "\n",
        "    solution, solution_fitness, solution_idx = ga_instance.best_solution()\n",
        "    \n",
        "    # evaluate on test dataset\n",
        "    x = x_batch_test[:,selected_catchment,:,:]\n",
        "    y = y_batch_test[:,selected_catchment,:]\n",
        "\n",
        "    x, y = x.to(computing_device), y.to(computing_device)\n",
        "\n",
        "    fn = Objective_builder(x,y,HydroErr.kge_2009)\n",
        "\n",
        "    return fn.eval(solution), solution"
      ]
    },
    {
      "cell_type": "code",
      "execution_count": 15,
      "metadata": {
        "colab": {
          "base_uri": "https://localhost:8080/"
        },
        "id": "RoScuihK-7QO",
        "outputId": "76bab91f-81fa-4fa0-cd25-39e38a80534e"
      },
      "outputs": [
        {
          "name": "stdout",
          "output_type": "stream",
          "text": [
            "i=0 starts\n"
          ]
        },
        {
          "name": "stderr",
          "output_type": "stream",
          "text": [
            "c:\\Users\\User\\Anaconda3\\envs\\pytorch2\\Lib\\site-packages\\HydroErr\\HydroErr.py:6248: UserWarning: Row(s) [3287 3288 3289 3290 3291 3292 3293 3294 3295 3296 3297 3298 3299 3300\n",
            " 3301 3302 3303 3304 3305 3306 3307 3308 3309 3310 3311 3312 3313 3314\n",
            " 3315 3316 3317 3318 3319 3320 3321 3322 3323 3324 3325 3326 3327 3328\n",
            " 3329 3330 3331 3332 3333 3334 3335 3336 3337 3338 3339 3340 3341 3342\n",
            " 3343 3344 3345 3346 3347 3348 3349 3350 3351 3352 3353 3354 3355 3356\n",
            " 3357 3358 3359 3360 3361 3362 3363 3364 3365 3366 3367 3368 3369 3370\n",
            " 3371 3372 3373 3374 3375 3376 3377 3378 3379 3380 3381 3382 3383 3384\n",
            " 3385 3386 3387 3388 3389 3390 3391 3392 3393 3394 3395 3396 3397 3398\n",
            " 3399 3400 3401 3402 3403 3404 3405 3406 3407 3408 3409 3410 3411 3412\n",
            " 3413 3414 3415 3416 3417 3418 3419 3420 3421 3422 3423 3424 3425 3426\n",
            " 3427 3428 3429 3430 3431 3432 3433 3434 3435 3436 3437 3438 3439 3440\n",
            " 3441 3442 3443 3444 3445 3446 3447 3448 3449 3450 3451 3452 3453 3454\n",
            " 3455 3456 3457 3458 3459 3460 3461 3462 3463 3464 3465 3466 3467 3468\n",
            " 3469 3470 3471 3472 3473 3474 3475 3476 3477 3478 3479 3480 3481 3482\n",
            " 3483 3484 3485 3486 3487 3488 3489 3490 3491 3492 3493 3494 3495 3496\n",
            " 3497 3498 3499 3500 3501 3502 3503 3504 3505 3506 3507 3508 3509 3510\n",
            " 3511 3512 3513 3514 3515 3516 3517 3518 3519 3520 3521 3522 3523 3524\n",
            " 3525 3526 3527 3528 3529 3530 3531 3532 3533 3534 3535 3536 3537 3538\n",
            " 3539 3540 3541 3542 3543 3544 3545 3546 3547 3548 3549 3550 3551 3552\n",
            " 3553 3554 3555 3556 3557 3558 3559 3560 3561 3562 3563 3564 3565 3566\n",
            " 3567 3568 3569 3570 3571 3572 3573 3574 3575 3576 3577 3578 3579 3580\n",
            " 3581 3582 3583 3584 3585 3586 3587 3588 3589 3590 3591 3592 3593 3594\n",
            " 3595 3596 3597 3598 3599 3600 3601 3602 3603 3604 3605 3606 3607 3608\n",
            " 3609 3610 3611 3612 3613 3614 3615 3616 3617 3618 3619 3620 3621 3622\n",
            " 3623 3624 3625 3626 3627 3628 3629 3630 3631 3632 3633 3634 3635 3636\n",
            " 3637 3638 3639 3640 3641 3642 3643 3644 3645 3646 3647 3648 3649] contained NaN values and the row(s) have been removed (Rows are zero indexed).\n",
            "  warnings.warn(\"Row(s) {} contained NaN values and the row(s) have been \"\n",
            "c:\\Users\\User\\Anaconda3\\envs\\pytorch2\\Lib\\site-packages\\HydroErr\\HydroErr.py:6248: UserWarning: Row(s) [4018 4019 4020 4021 4022 4023 4024 4025 4026 4027 4028 4029 4030 4031\n",
            " 4032 4033 4034 4035 4036 4037 4038 4039 4040 4041 4042 4043 4044 4045\n",
            " 4046 4047 4048 4049 4050 4051 4052 4053 4054 4055 4056 4057 4058 4059\n",
            " 4060 4061 4062 4063 4064 4065 4066 4067 4068 4069 4070 4071 4072 4073\n",
            " 4074 4075 4076 4077 4078 4079 4080 4081 4082 4083 4084 4085 4086 4087\n",
            " 4088 4089 4090 4091 4092 4093 4094 4095 4096 4097 4098 4099 4100 4101\n",
            " 4102 4103 4104 4105 4106 4107 4108 4109 4110 4111 4112 4113 4114 4115\n",
            " 4116 4117 4118 4119 4120 4121 4122 4123 4124 4125 4126 4127 4128 4129\n",
            " 4130 4131 4132 4133 4134 4135 4136 4137 4138 4139 4140 4141 4142 4143\n",
            " 4144 4145 4146 4147 4148 4149 4150 4151 4152 4153 4154 4155 4156 4157\n",
            " 4158 4159 4160 4161 4162 4163 4164 4165 4166 4167 4168 4169 4170 4171\n",
            " 4172 4173 4174 4175 4176 4177 4178 4179 4180 4181 4182 4183 4184 4185\n",
            " 4186 4187 4188 4189 4190 4191 4192 4193 4194 4195 4196 4197 4198 4199\n",
            " 4200 4201 4202 4203 4204 4205 4206 4207 4208 4209 4210 4211 4212 4213\n",
            " 4214 4215 4216 4217 4218 4219 4220 4221 4222 4223 4224 4225 4226 4227\n",
            " 4228 4229 4230 4231 4232 4233 4234 4235 4236 4237 4238 4239 4240 4241\n",
            " 4242 4243 4244 4245 4246 4247 4248 4249 4250 4251 4252 4253 4254 4255\n",
            " 4256 4257 4258 4259 4260 4261 4262 4263 4264 4265 4266 4267 4268 4269\n",
            " 4270 4271 4272 4273 4274 4275 4276 4277 4278 4279 4280 4281 4282 4283\n",
            " 4284 4285 4286 4287 4288 4289 4290 4291 4292 4293 4294 4295 4296 4297\n",
            " 4298 4299 4300 4301 4302 4303 4304 4305 4306 4307 4308 4309 4310 4311\n",
            " 4312 4313 4314 4315 4316 4317 4318 4319 4320 4321 4322 4323 4324 4325\n",
            " 4326 4327 4328 4329 4330 4331 4332 4333 4334 4335 4336 4337 4338 4339\n",
            " 4340 4341 4342 4343 4344 4345 4346 4347 4348 4349 4350 4351 4352 4353\n",
            " 4354 4355 4356 4357 4358 4359 4360 4361 4362 4363 4364 4365 4366 4367\n",
            " 4368 4369 4370 4371 4372 4373 4374 4375 4376 4377 4378 4379] contained NaN values and the row(s) have been removed (Rows are zero indexed).\n",
            "  warnings.warn(\"Row(s) {} contained NaN values and the row(s) have been \"\n"
          ]
        },
        {
          "name": "stdout",
          "output_type": "stream",
          "text": [
            "fit=0.9325776500095249\n",
            "i=1 starts\n"
          ]
        }
      ],
      "source": [
        "N_CATCHMENTS = 559\n",
        "calibrated_KGES = np.ones(N_CATCHMENTS)\n",
        "camels_embeddings = np.ones([N_CATCHMENTS, LATENT_dim])\n",
        "\n",
        "for i in range(N_CATCHMENTS):\n",
        "    print(f'i={i} starts')\n",
        "    calibrated_KGES[i], camels_embeddings[i,:]  = evaluate_calibration(i)\n",
        "    print(f'fit={calibrated_KGES[i]}')"
      ]
    },
    {
      "cell_type": "code",
      "execution_count": 10,
      "metadata": {
        "id": "VzoYzMSXDLtm"
      },
      "outputs": [],
      "source": [
        "np.savetxt(\"data/ga_KGEs.csv\", calibrated_KGES, delimiter=\",\")\n",
        "np.savetxt(\"data/ga_camels_embeddings.csv\", camels_embeddings, delimiter=\",\")"
      ]
    },
    {
      "attachments": {},
      "cell_type": "markdown",
      "metadata": {
        "id": "5dla3EMJDzFA"
      },
      "source": [
        "# Result check"
      ]
    },
    {
      "cell_type": "code",
      "execution_count": 11,
      "metadata": {
        "id": "t5aRLriip9K7",
        "outputId": "83c37e57-c570-4994-b0e2-39ae8c766cb7"
      },
      "outputs": [
        {
          "data": {
            "text/plain": [
              "array([ 8.98065098e-01,  8.37896426e-01,  9.22808370e-01,  8.51721388e-01,\n",
              "        8.30709554e-01,  8.28504501e-01,  6.35994440e-01,  7.22525583e-01,\n",
              "        8.37401445e-01,  7.94531779e-01,  7.06703353e-01,  8.02224464e-01,\n",
              "        8.02551890e-01,  7.38833724e-01,  7.90529324e-01,  6.11278669e-01,\n",
              "        6.31803617e-01,  6.51873924e-01,  7.19185589e-01,  7.18747138e-01,\n",
              "        7.60797773e-01,  7.64029313e-01,  7.97187476e-01,  7.50218415e-01,\n",
              "        7.50403935e-01,  4.80312639e-01,  7.50249310e-01,  3.43709126e-01,\n",
              "        5.84506828e-01,  6.50213430e-01,  6.52401952e-01,  6.73839708e-01,\n",
              "        6.94247947e-01,  6.72612078e-01,  7.49346134e-01,  7.75568582e-01,\n",
              "        7.27233228e-01,  7.64418308e-01,  7.84327997e-01,  8.01798564e-01,\n",
              "        8.03705230e-01,  4.35700009e-01,  7.03023792e-01,  5.57537415e-01,\n",
              "        5.47552475e-01,  7.93810672e-01,  8.25643420e-01,  8.11996229e-01,\n",
              "        7.43897785e-01,  7.00030211e-01,  6.38253058e-01,  7.34398909e-01,\n",
              "        5.04608213e-01,  6.01221769e-01,  7.34507731e-01,  7.70754669e-01,\n",
              "        6.77186632e-01,  6.77192901e-01,  7.91896145e-01,  6.56509806e-01,\n",
              "        6.44135404e-01,  5.90879140e-01,  6.73510134e-01,  6.20493086e-01,\n",
              "        7.25906088e-01,  7.06764615e-01,  6.31251569e-01,  6.30098086e-01,\n",
              "        4.36150656e-01,  6.25173529e-01,  4.70218326e-01,  5.65796863e-01,\n",
              "        7.18643680e-01,  6.45051481e-01,  7.07305809e-01,  4.86258915e-01,\n",
              "        5.22204097e-01,  7.60570407e-01,  6.29643184e-01,  7.39512640e-01,\n",
              "        6.46724258e-01,  7.26181654e-01,  7.03865301e-01,  7.67676814e-01,\n",
              "        6.55115822e-01,  7.36307052e-01,  5.92101498e-01,  1.94520073e-01,\n",
              "        5.29979617e-01,  3.84866458e-01,  6.35933415e-01,  5.22022368e-01,\n",
              "        7.73294549e-01,  8.55398135e-01,  6.88611111e-01,  6.23935139e-01,\n",
              "        6.92202314e-01,  5.93040513e-01, -3.33457008e-03,  4.77135591e-01,\n",
              "        7.06641899e-01,  7.41158656e-01,  4.63692006e-01,  2.92229566e-01,\n",
              "        7.07945953e-01,  6.42403366e-01,  2.85522803e-01,  5.93683760e-01,\n",
              "        6.95653899e-01,  5.42205976e-01,  6.43690286e-01,  4.28935648e-01,\n",
              "        6.87841117e-01,  5.49703857e-01,  5.61226281e-01,  5.05776452e-01,\n",
              "        7.54458394e-01,  7.51768768e-01,  6.62428691e-01,  7.01780860e-01,\n",
              "        6.45822123e-01,  5.82207063e-01,  6.91989432e-01,  7.76129799e-01,\n",
              "        4.75052650e-01,  3.65535874e-01,  1.08060649e-01,  3.49078186e-01,\n",
              "        4.67523324e-01,  5.16289606e-01,  8.88025570e-02,  7.34614878e-01,\n",
              "        6.50640961e-01,  6.37419495e-01,  6.07130595e-01,  7.62498576e-01,\n",
              "        7.44282993e-01,  7.27524059e-01,  6.25235283e-01,  5.47662806e-01,\n",
              "        6.01541163e-01,  3.66818539e-01,  6.30700729e-01,  5.08992592e-01,\n",
              "        7.69011334e-01,  8.37980466e-01,  6.59023568e-01,  7.70549275e-01,\n",
              "        6.93125309e-01,  5.75537790e-01,  5.55178627e-01,  7.21884362e-01,\n",
              "        7.19136754e-01,  7.52931902e-01,  7.66911556e-01,  6.48654177e-01,\n",
              "        7.10289898e-01,  6.33627288e-01,  7.41935844e-01,  7.69886187e-01,\n",
              "        6.40195626e-01,  6.94171510e-01,  8.14805537e-01,  6.77935374e-01,\n",
              "        7.58568159e-01,  8.34103896e-01,  8.58777782e-01,  8.15512371e-01,\n",
              "        8.60734362e-01,  7.54147285e-01,  7.55640492e-01,  8.34535556e-01,\n",
              "        7.29014273e-01,  3.73421943e-01,  8.01780475e-01,  8.30233006e-01,\n",
              "        7.70560632e-01,  6.61630618e-01,  7.42365346e-01,  7.34980125e-01,\n",
              "        7.59668298e-01,  7.31489002e-01,  8.31444987e-01,  8.22557747e-01,\n",
              "        7.49993594e-01,  6.89582544e-01,  7.54106422e-01,  7.95395878e-01,\n",
              "        8.00764287e-01,  7.91916810e-01,  7.34085736e-01,  5.02807831e-01,\n",
              "        6.75029975e-01,  7.59069524e-01,  8.18484738e-01,  7.71948405e-01,\n",
              "        5.95623538e-01,  6.64813305e-01,  7.96829884e-01,  5.11535988e-01,\n",
              "        7.88144933e-01,  7.61399042e-01,  7.16535442e-01,  7.66152903e-01,\n",
              "        5.74021609e-01,  6.72051209e-01,  8.16758598e-01,  7.77781174e-01,\n",
              "        6.53070826e-01,  6.80255633e-01,  7.56018256e-01,  6.71353950e-01,\n",
              "        7.14382481e-01,  7.99511565e-01,  6.71874928e-01,  7.41622365e-01,\n",
              "        7.93997353e-01,  6.37860437e-01,  8.00384896e-01,  7.38704594e-01,\n",
              "        6.20776526e-01,  6.65758291e-01,  7.18293969e-01,  7.80793927e-01,\n",
              "        7.67538850e-01,  6.74521232e-01,  7.86017554e-01,  4.61883709e-01,\n",
              "        5.76123583e-01,  6.96910724e-01,  7.05851582e-01,  5.22743980e-01,\n",
              "        7.93746127e-01,  7.43367331e-01,  5.60517120e-01,  6.93974178e-01,\n",
              "        7.02197124e-01,  8.23260541e-01,  7.32240715e-01,  4.74311511e-01,\n",
              "        7.22937684e-01,  7.06153386e-01,  8.00267591e-01,  7.23090588e-01,\n",
              "        7.98049965e-01,  5.99084703e-01,  7.36173135e-01,  8.31208593e-01,\n",
              "        6.96260593e-01,  7.55971204e-01,  8.09735995e-01,  8.09375770e-01,\n",
              "        6.67262703e-01,  6.58734201e-01,  4.21222782e-01,  6.89676266e-01,\n",
              "        7.16059334e-01,  2.05565207e-01,  6.56126087e-01,  6.21597525e-01,\n",
              "        6.14087180e-01,  5.25064827e-01,  5.91429486e-01,  6.46591184e-01,\n",
              "        5.46923730e-01,  5.24278393e-01,  5.37884303e-01,  6.99084844e-01,\n",
              "        7.72129587e-01,  3.92442386e-01,  5.35837388e-01,  5.50963893e-01,\n",
              "        6.51126439e-01,  5.72228479e-01,  5.83027059e-01,  2.84716968e-01,\n",
              "        7.30837525e-01,  7.18519146e-01,  6.86112794e-01,  7.00625294e-01,\n",
              "        6.65575304e-01,  6.17161708e-01,  6.23470982e-01,  7.43051017e-01,\n",
              "        5.82575202e-01,  6.01802652e-01,  7.35330126e-01,  7.53620725e-01,\n",
              "        7.04517416e-01,  7.08118043e-01,  8.99174001e-01,  7.19490938e-01,\n",
              "        9.10342412e-01,  5.35552614e-01,  6.60072213e-01,  5.77899142e-01,\n",
              "        8.07666853e-01,  8.13557437e-01,  7.71291309e-01,  6.72640916e-01,\n",
              "       -3.92639990e-02,  1.17730279e-01,  4.42548138e-01,  5.12646559e-01,\n",
              "        2.29625886e-01,  3.96579513e-01,  2.78256667e-01,  4.76024086e-01,\n",
              "        1.91096531e-01,  1.81901201e-01,  3.93320392e-01,  3.25909907e-01,\n",
              "        6.31665224e-01, -1.39563497e-02,  1.35847678e-01,  4.22528504e-01,\n",
              "       -3.14397883e-02,  2.54410188e-01,  4.95032317e-01,  5.72419720e-01,\n",
              "        5.21371809e-01,  6.66809275e-01,  6.34894407e-01,  7.08290207e-01,\n",
              "       -3.56409155e-01, -1.57985935e-01,  3.06375406e-01,  8.00697103e-01,\n",
              "        7.96900389e-01,  8.17080002e-01,  8.49036314e-01,  2.93809777e-02,\n",
              "       -2.21637725e-01,  4.53970294e-02,  3.61847092e-01, -1.83549830e+00,\n",
              "        1.28918295e-01,  5.33214389e-01,  6.29631161e-01, -2.11345685e-02,\n",
              "        7.18505248e-01,  3.40607613e-01,  4.35042632e-01,  5.47539895e-01,\n",
              "        5.99401246e-01,  2.32351351e-01,  6.04811419e-01,  6.63697038e-01,\n",
              "        6.63006180e-01,  6.22153469e-01,  5.13202402e-01,  7.74242228e-01,\n",
              "        4.59980989e-01,  7.27821808e-01,  7.28847045e-01,  7.74135341e-01,\n",
              "        7.26940931e-01,  7.73374140e-01,  7.06047260e-01,  8.71126220e-01,\n",
              "        7.17388597e-01,  7.20910922e-01, -3.98789396e-01,  5.55834096e-01,\n",
              "        5.86101089e-01,  2.76494113e-01,  7.20978382e-01,  6.65664803e-01,\n",
              "        6.40960648e-01,  6.06508499e-01,  5.66187560e-01,  5.52745822e-01,\n",
              "        6.02960260e-01,  2.65709763e-01, -2.17005231e-01,  6.65468858e-01,\n",
              "        6.54291393e-01,  7.86484681e-01,  5.53880042e-01,  6.76927345e-01,\n",
              "        5.16634811e-01,  9.41753011e-02,  2.52973488e-01,  6.59753833e-02,\n",
              "        3.08859203e-01,  1.89609162e-01,  4.30093201e-01,  7.09403660e-01,\n",
              "        6.65341465e-01,  6.89082929e-01,  6.23336967e-01,  6.12446539e-01,\n",
              "        4.80003627e-01,  4.47814063e-01,  6.92993512e-01,  6.15302768e-01,\n",
              "        6.44790127e-01, -1.14930646e-01,  3.70743186e-01,  5.62439846e-01,\n",
              "        3.21070664e-01,  3.34222148e-01, -4.52808583e-03,  1.92407304e-01,\n",
              "        3.12160379e-01,  5.93570085e-01,  6.89467854e-01,  4.77375841e-01,\n",
              "        3.56975833e-01,  4.59056417e-01,  5.19311251e-01,  4.97785877e-01,\n",
              "        6.37592787e-01,  4.41734690e-01,  4.79879224e-01,  6.09642484e-01,\n",
              "        3.09024233e-01,  6.70237518e-01,  6.63115810e-01,  5.09028645e-01,\n",
              "        4.15005306e-01,  7.24973091e-01,  5.05132095e-01, -1.27090041e+00,\n",
              "        1.55086290e-03,  4.98383675e-01,  3.68105256e-01,  5.98224239e-01,\n",
              "        4.62713581e-01,  3.86768818e-01,  7.61480458e-01,  6.86518181e-01,\n",
              "        8.53903847e-01,  4.06573431e-01,  4.67421911e-01,  4.26298655e-01,\n",
              "        6.80434038e-01,  8.64894873e-01,  5.98482523e-01,  8.37525529e-01,\n",
              "        8.40246323e-01,  8.06164765e-01,  7.49081065e-01,  8.32612212e-01,\n",
              "        9.23449859e-01,  7.24181482e-01,  8.66706105e-01, -9.99757307e-01,\n",
              "        8.12889075e-01,  8.52774946e-01,  6.00642323e-01, -2.07460039e+00,\n",
              "        5.20784197e-01,  4.36955297e-01,  3.51176902e-01, -3.74652336e+00,\n",
              "        2.66563147e-01, -7.34246247e-02,  2.64778360e-01,  5.75885429e-01,\n",
              "        6.46466011e-01,  4.12369458e-01,  2.96971045e-01,  5.72263248e-01,\n",
              "        5.87628024e-01,  7.17847454e-01, -3.17126932e-02,  5.29960624e-01,\n",
              "        7.91604513e-01,  6.44459413e-01,  5.99792029e-01,  6.11307737e-01,\n",
              "        6.97693331e-01,  2.85925855e-01,  6.15465779e-01,  8.44423430e-01,\n",
              "        7.62819673e-01,  1.54618907e-01,  6.40691075e-01,  4.02268400e-01,\n",
              "        6.86336683e-01,  7.56967276e-01,  8.86152626e-01,  7.20520375e-01,\n",
              "        7.89413102e-01,  6.66001024e-01,  7.84843278e-01,  7.09078190e-01,\n",
              "        7.01084828e-01,  8.34577015e-01,  8.21085413e-01,  7.43356916e-01,\n",
              "        4.99439845e-01,  7.83510134e-01,  6.28439581e-01,  4.99031654e-01,\n",
              "        7.66647382e-01,  7.03856686e-01,  7.15356598e-01,  9.33576308e-01,\n",
              "        8.90002546e-01,  8.27385000e-01,  5.93312476e-01,  9.29882430e-01,\n",
              "        6.23848514e-01,  7.84737517e-01,  5.68436758e-01,  8.41667054e-01,\n",
              "        8.57063164e-01,  8.92846059e-01,  7.90617821e-01,  7.40803941e-01,\n",
              "        7.83446007e-01,  9.37441835e-01,  8.53872249e-01,  8.84613594e-01,\n",
              "        5.24553077e-01,  6.86226806e-01,  8.01696577e-01,  5.25074672e-01,\n",
              "        5.13510207e-01,  8.51997144e-01,  6.46021390e-01,  7.64165043e-01,\n",
              "        6.61424733e-01,  6.99526658e-01,  7.48956078e-01,  7.88949308e-01,\n",
              "        7.81261696e-01,  8.36780531e-01,  9.15510479e-01,  6.21647416e-01,\n",
              "        8.46617307e-01,  7.84255589e-01,  7.06587841e-01,  7.76457137e-01,\n",
              "        7.63056223e-01,  7.44457430e-01,  9.03600750e-01,  8.75483388e-01,\n",
              "        8.40287756e-01,  8.13762092e-01,  6.42913453e-01,  8.14209335e-01,\n",
              "        8.09794030e-01,  8.95409850e-01,  8.13110376e-01,  9.10265799e-01,\n",
              "        9.19332017e-01,  8.40464382e-01,  8.55782377e-01,  8.59122418e-01,\n",
              "        9.05584457e-01,  8.96886297e-01,  8.06776427e-01,  8.76223052e-01,\n",
              "        8.79640762e-01,  8.39926005e-01,  9.18757858e-01])"
            ]
          },
          "execution_count": 11,
          "metadata": {},
          "output_type": "execute_result"
        }
      ],
      "source": [
        "calibrated_KGES"
      ]
    },
    {
      "attachments": {},
      "cell_type": "markdown",
      "metadata": {},
      "source": []
    },
    {
      "cell_type": "code",
      "execution_count": 12,
      "metadata": {
        "id": "KcwBoioFp9K9",
        "outputId": "e9aa9d7e-2972-4b4e-f519-4e10ab766559"
      },
      "outputs": [
        {
          "data": {
            "image/png": "[encoded data removed]",
            "text/plain": [
              "<Figure size 640x480 with 1 Axes>"
            ]
          },
          "metadata": {},
          "output_type": "display_data"
        }
      ],
      "source": [
        "from matplotlib import pyplot as plt\n",
        "\n",
        "plt.hist(calibrated_KGES[calibrated_KGES>0], bins = 30)\n",
        "plt.show()"
      ]
    },
    {
      "cell_type": "code",
      "execution_count": 13,
      "metadata": {
        "id": "fBoQkf-Cp9K9",
        "outputId": "4856c289-13ec-4e46-d43d-559f73f757df"
      },
      "outputs": [
        {
          "data": {
            "text/plain": [
              "0.6039665018384063"
            ]
          },
          "execution_count": 13,
          "metadata": {},
          "output_type": "execute_result"
        }
      ],
      "source": [
        "calibrated_KGES.mean()"
      ]
    },
    {
      "cell_type": "code",
      "execution_count": 14,
      "metadata": {
        "id": "TNPOIEy_p9K-",
        "outputId": "dac5fcb6-05dd-456b-89b1-4018cffaa686"
      },
      "outputs": [
        {
          "data": {
            "text/plain": [
              "0.6745212319661417"
            ]
          },
          "execution_count": 14,
          "metadata": {},
          "output_type": "execute_result"
        }
      ],
      "source": [
        "np.median(calibrated_KGES)"
      ]
    }
  ],
  "metadata": {
    "accelerator": "GPU",
    "colab": {
      "provenance": []
    },
    "gpuClass": "standard",
    "kernelspec": {
      "display_name": "pytorch-env",
      "language": "python",
      "name": "python3"
    },
    "language_info": {
      "codemirror_mode": {
        "name": "ipython",
        "version": 3
      },
      "file_extension": ".py",
      "mimetype": "text/x-python",
      "name": "python",
      "nbconvert_exporter": "python",
      "pygments_lexer": "ipython3",
      "version": "3.11.4"
    },
    "vscode": {
      "interpreter": {
        "hash": "1ddfd6d42648f68c476c776315986cac60a18b45e56ba9b8a233e8441d39da2b"
      }
    }
  },
  "nbformat": 4,
  "nbformat_minor": 0
}
