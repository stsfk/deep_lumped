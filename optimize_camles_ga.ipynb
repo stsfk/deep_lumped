{
  "cells": [
    {
      "cell_type": "code",
      "execution_count": 1,
      "metadata": {
        "id": "95vm9FxGQ7KK"
      },
      "outputs": [
        {
          "name": "stderr",
          "output_type": "stream",
          "text": [
            "c:\\Users\\User\\Anaconda3\\envs\\pytorch1.13\\lib\\site-packages\\tqdm\\auto.py:22: TqdmWarning: IProgress not found. Please update jupyter and ipywidgets. See https://ipywidgets.readthedocs.io/en/stable/user_install.html\n",
            "  from .autonotebook import tqdm as notebook_tqdm\n"
          ]
        }
      ],
      "source": [
        "import torch\n",
        "import torch.nn as nn\n",
        "import torch.optim as optim\n",
        "\n",
        "from torch.utils.data import Dataset\n",
        "\n",
        "import numpy as np\n",
        "\n",
        "import math\n",
        "\n",
        "import time\n",
        "\n",
        "import dataloader\n",
        "import models\n",
        "import training_fun\n",
        "\n",
        "import optuna\n",
        "\n",
        "import joblib\n",
        "\n",
        "import pygad\n",
        "\n",
        "import HydroErr"
      ]
    },
    {
      "cell_type": "code",
      "execution_count": 2,
      "metadata": {},
      "outputs": [],
      "source": [
        "DEVICE = torch.device(\"cuda\" if torch.cuda.is_available() else \"cpu\")\n",
        "\n",
        "SEQ_LENGTH = 365 * 2\n",
        "TARGET_SEQ_LENGTH = 365\n",
        "BASE_LENGTH = SEQ_LENGTH - TARGET_SEQ_LENGTH\n",
        "\n",
        "FORCING_DIM = 3\n",
        "\n",
        "N_CATCHMENTS = 559\n",
        "\n",
        "# training hyperparameters\n",
        "EPOCHS = 500\n",
        "TRAIN_YEAR = 19\n",
        "PATIENCE = 20\n",
        "\n",
        "use_amp = True\n",
        "compile_model = False\n",
        "\n",
        "if compile_model:\n",
        "    torch.set_float32_matmul_precision(\"high\")\n",
        "\n",
        "memory_saving = False\n",
        "if memory_saving:\n",
        "    storge_device = \"cpu\"\n",
        "    computing_device = DEVICE\n",
        "    VAL_STEPS = 500\n",
        "else:\n",
        "    storge_device = DEVICE\n",
        "    computing_device = DEVICE"
      ]
    },
    {
      "cell_type": "code",
      "execution_count": 3,
      "metadata": {
        "id": "ceCEmnygRmye"
      },
      "outputs": [],
      "source": [
        "embedding = torch.load(\"data/model/lstm_embedding.pt\", map_location=torch.device('cpu')).to(computing_device)\n",
        "decoder = torch.load(\"data/model/lstm_decoder.pt\", map_location=torch.device('cpu')).to(computing_device)\n",
        "\n",
        "embedding.eval()\n",
        "decoder.eval()\n",
        "\n",
        "# dimension of embedding\n",
        "catchment_embeddings=[x.data for x in embedding.parameters()][0]\n",
        "LATENT_dim = catchment_embeddings.shape[1]"
      ]
    },
    {
      "cell_type": "code",
      "execution_count": 4,
      "metadata": {},
      "outputs": [
        {
          "data": {
            "text/plain": [
              "LSTM_decoder(\n",
              "  (lstm): LSTM(7, 220, batch_first=True)\n",
              "  (fc_layers): TimeDistributed(\n",
              "    (module): Sequential(\n",
              "      (0): Linear(in_features=220, out_features=13, bias=True)\n",
              "      (1): ReLU()\n",
              "      (2): Dropout(p=0, inplace=False)\n",
              "      (3): Linear(in_features=13, out_features=6, bias=True)\n",
              "      (4): ReLU()\n",
              "      (5): Dropout(p=0, inplace=False)\n",
              "      (6): Linear(in_features=6, out_features=1, bias=True)\n",
              "    )\n",
              "  )\n",
              ")"
            ]
          },
          "execution_count": 4,
          "metadata": {},
          "output_type": "execute_result"
        }
      ],
      "source": [
        "decoder"
      ]
    },
    {
      "cell_type": "code",
      "execution_count": 5,
      "metadata": {},
      "outputs": [],
      "source": [
        "dtrain_val = dataloader.Forcing_Data(\n",
        "    \"./data/camels_train_val.csv\",\n",
        "    record_length=3652,\n",
        "    storge_device=storge_device,\n",
        "    seq_length=SEQ_LENGTH,\n",
        "    target_seq_length=TARGET_SEQ_LENGTH,\n",
        "    base_length=BASE_LENGTH,\n",
        ")\n",
        "\n",
        "dtrain = dataloader.Forcing_Data(\n",
        "    \"./data/camels_train.csv\",\n",
        "    record_length=2922,\n",
        "    storge_device=storge_device,\n",
        "    seq_length=SEQ_LENGTH,\n",
        "    target_seq_length=TARGET_SEQ_LENGTH,\n",
        "    base_length=BASE_LENGTH,\n",
        ")\n",
        "\n",
        "dval = dataloader.Forcing_Data(\n",
        "    \"./data/camels_val.csv\",\n",
        "    record_length=1095,\n",
        "    storge_device=storge_device,\n",
        "    seq_length=SEQ_LENGTH,\n",
        "    target_seq_length=TARGET_SEQ_LENGTH,\n",
        "    base_length=BASE_LENGTH,\n",
        ")\n",
        "\n",
        "dtest = dataloader.Forcing_Data(\n",
        "    \"./data/camels_test.csv\",\n",
        "    record_length=4383,\n",
        "    storge_device=storge_device,\n",
        "    seq_length=SEQ_LENGTH,\n",
        "    target_seq_length=TARGET_SEQ_LENGTH,\n",
        "    base_length=BASE_LENGTH,\n",
        ")"
      ]
    },
    {
      "cell_type": "code",
      "execution_count": 6,
      "metadata": {},
      "outputs": [],
      "source": [
        "def pred_hydrograph(code, x):\n",
        "\n",
        "    record_length = x.shape[1]\n",
        "\n",
        "    # iterate over each year for the selected catchments\n",
        "    n_years = math.floor((record_length - BASE_LENGTH) / TARGET_SEQ_LENGTH)\n",
        "\n",
        "    preds = torch.ones(record_length).to(computing_device)*torch.nan\n",
        "\n",
        "    for k in range(n_years):\n",
        "        start_record_ind = BASE_LENGTH + k * TARGET_SEQ_LENGTH\n",
        "        end_record_ind = start_record_ind + TARGET_SEQ_LENGTH\n",
        "\n",
        "        # dealing with the unique length of the last year record\n",
        "        if k == (n_years - 1):\n",
        "            end_record_ind = record_length\n",
        "\n",
        "        # subsetting, base length is included\n",
        "        x_sub = x[:, (start_record_ind - BASE_LENGTH) : end_record_ind, :]\n",
        "\n",
        "        # pass through decoder, and store the result into `preds`\n",
        "        with torch.autocast(\n",
        "                device_type=\"cuda\", dtype=torch.float16, enabled=use_amp\n",
        "            ):\n",
        "            with torch.no_grad():\n",
        "                preds[start_record_ind:end_record_ind] = decoder.decode(code, x_sub)\n",
        "        \n",
        "    return(preds[BASE_LENGTH:])"
      ]
    },
    {
      "cell_type": "code",
      "execution_count": 7,
      "metadata": {},
      "outputs": [],
      "source": [
        "class Objective_builder:\n",
        "    def __init__(self, x, y, eval_fun):\n",
        "        self.eval_fun = eval_fun\n",
        "        self.x = x\n",
        "        self.y = y\n",
        "    \n",
        "    def eval(self, code, return_summary = True):\n",
        "        \n",
        "        # numpy to torch tensor\n",
        "        code = torch.from_numpy(code).unsqueeze(0).to(dtype=torch.float32).to(computing_device)\n",
        "        \n",
        "        # BASE_LENGTH is from global\n",
        "        pred = pred_hydrograph(code,self.x).cpu().detach().numpy()\n",
        "        ob = self.y[:,BASE_LENGTH:].squeeze().cpu().detach().numpy()\n",
        "        \n",
        "        if return_summary:\n",
        "             return self.eval_fun(simulated_array=pred, observed_array=ob)\n",
        "        else:\n",
        "            return pred, ob"
      ]
    },
    {
      "cell_type": "code",
      "execution_count": 8,
      "metadata": {},
      "outputs": [],
      "source": [
        "num_generations = 50\n",
        "num_parents_mating = 4\n",
        "\n",
        "sol_per_pop = 50\n",
        "num_genes = LATENT_dim\n",
        "\n",
        "init_range_low = -5\n",
        "init_range_high = 5\n",
        "\n",
        "parent_selection_type = \"sss\"\n",
        "\n",
        "crossover_type = \"single_point\"\n",
        "\n",
        "mutation_type = \"random\"\n",
        "mutation_probability = 0.25\n",
        "\n",
        "def evaluate_calibration(selected_catchment=[0]):\n",
        "    \n",
        "    x = dtrain.x[selected_catchment]\n",
        "    y = dtrain.y[selected_catchment]\n",
        "\n",
        "    x, y = x.to(computing_device), y.to(computing_device)\n",
        "\n",
        "    fn = Objective_builder(x,y,HydroErr.kge_2009)\n",
        "\n",
        "    def fitness_func(solution, solution_idx):\n",
        "        return fn.eval(solution)\n",
        "\n",
        "    ga_instance = pygad.GA(num_generations=num_generations,\n",
        "                        num_parents_mating=num_parents_mating,\n",
        "                        fitness_func=fitness_func,\n",
        "                        sol_per_pop=sol_per_pop,\n",
        "                        num_genes=num_genes,\n",
        "                        init_range_low=init_range_low,\n",
        "                        init_range_high=init_range_high,\n",
        "                        parent_selection_type=parent_selection_type,\n",
        "                        crossover_type=crossover_type,\n",
        "                        mutation_type=mutation_type,\n",
        "                        mutation_probability = mutation_probability)\n",
        "\n",
        "    ga_instance.run()\n",
        "\n",
        "    solution, solution_fitness, solution_idx = ga_instance.best_solution()\n",
        "    \n",
        "    # evaluate on test dataset\n",
        "    x = dtest.x[selected_catchment]\n",
        "    y = dtest.y[selected_catchment]\n",
        "\n",
        "    x, y = x.to(computing_device), y.to(computing_device)\n",
        "\n",
        "    fn = Objective_builder(x,y,HydroErr.kge_2009)\n",
        "\n",
        "    return fn.eval(solution)\n"
      ]
    },
    {
      "cell_type": "code",
      "execution_count": 9,
      "metadata": {},
      "outputs": [
        {
          "name": "stdout",
          "output_type": "stream",
          "text": [
            "i=0 starts\n",
            "\n",
            "\n",
            "i=1 starts\n",
            "\n",
            "\n",
            "i=2 starts\n",
            "\n",
            "\n",
            "i=3 starts\n",
            "\n",
            "\n",
            "i=4 starts\n",
            "\n",
            "\n",
            "i=5 starts\n",
            "\n",
            "\n",
            "i=6 starts\n",
            "\n",
            "\n",
            "i=7 starts\n",
            "\n",
            "\n",
            "i=8 starts\n",
            "\n",
            "\n",
            "i=9 starts\n",
            "\n",
            "\n",
            "i=10 starts\n",
            "\n",
            "\n",
            "i=11 starts\n",
            "\n",
            "\n",
            "i=12 starts\n",
            "\n",
            "\n",
            "i=13 starts\n",
            "\n",
            "\n",
            "i=14 starts\n",
            "\n",
            "\n",
            "i=15 starts\n",
            "\n",
            "\n",
            "i=16 starts\n",
            "\n",
            "\n",
            "i=17 starts\n",
            "\n",
            "\n",
            "i=18 starts\n",
            "\n",
            "\n",
            "i=19 starts\n",
            "\n",
            "\n"
          ]
        }
      ],
      "source": [
        "N_CATCHMENTS = 20\n",
        "calibrated_KGES = np.ones(N_CATCHMENTS)\n",
        "\n",
        "for i in range(N_CATCHMENTS):\n",
        "    print(f'i={i} starts')\n",
        "    calibrated_KGES[i] = evaluate_calibration([i])\n",
        "    print(\"\\n\")"
      ]
    },
    {
      "cell_type": "code",
      "execution_count": 10,
      "metadata": {},
      "outputs": [
        {
          "data": {
            "text/plain": [
              "array([0.64035545, 0.83774665, 0.68741829, 0.74604861, 0.73888305,\n",
              "       0.76106733, 0.52094301, 0.63204021, 0.64197981, 0.47789245,\n",
              "       0.44529291, 0.56352009, 0.74570998, 0.69454347, 0.50037421,\n",
              "       0.50568988, 0.53431284, 0.59366638, 0.61392164, 0.64343483])"
            ]
          },
          "execution_count": 10,
          "metadata": {},
          "output_type": "execute_result"
        }
      ],
      "source": [
        "calibrated_KGES"
      ]
    },
    {
      "cell_type": "code",
      "execution_count": 15,
      "metadata": {},
      "outputs": [
        {
          "data": {
            "text/plain": [
              "array([ 3.68465379e-01,  4.30813003e-01,  3.84544370e-01,  3.92909455e-01,\n",
              "        4.03020138e-01,  2.52027951e-01,  2.32128449e-01,  2.66625153e-01,\n",
              "        4.39365295e-01,  4.90271430e-01,  3.72791553e-01,  3.71478866e-01,\n",
              "        3.99828770e-01,  4.45838943e-01,  3.97063941e-01,  3.79567516e-01,\n",
              "        3.39348909e-01,  4.58646336e-01,  4.74134986e-01,  5.06719075e-01,\n",
              "        4.11992438e-01,  4.96153703e-01,  3.36959656e-01,  3.44994127e-01,\n",
              "        5.54788634e-01,  3.94507039e-01,  4.41753713e-01, -2.90710820e-01,\n",
              "        4.35333716e-01,  5.30392328e-01,  4.05321112e-01,  3.94015251e-01,\n",
              "        4.61384573e-01,  4.59759621e-01,  3.30386720e-01,  3.17419376e-01,\n",
              "        3.19606444e-01,  2.29067859e-01,  1.82640739e-01,  1.12859334e-01,\n",
              "        3.67037467e-01, -5.02547369e-02,  1.35684418e-01,  2.66136003e-01,\n",
              "        2.93613560e-01,  2.45347126e-01,  2.71608156e-01,  2.42388020e-01,\n",
              "        2.05825991e-01,  1.26837906e-01,  8.71323680e-02,  1.85366497e-01,\n",
              "        2.07907745e-01,  2.85604941e-01,  3.37958113e-01,  4.13130537e-01,\n",
              "        1.80086894e-01,  1.31634349e-01,  1.93109319e-01, -1.73589331e-02,\n",
              "       -3.21618398e-01, -1.62042366e-01, -1.32202485e-01,  2.48375727e-01,\n",
              "        2.50645441e-01,  3.56402604e-02,  6.98625468e-03,  1.77848734e-02,\n",
              "       -1.96319864e-01, -1.13616545e+00, -4.33375096e-01, -1.59040780e-01,\n",
              "       -1.71487726e-01, -1.97963764e-01, -2.27541141e-01, -3.34615620e-02,\n",
              "       -1.26299253e-01,  7.92166041e-02,  8.44367586e-02, -8.74618552e-02,\n",
              "        8.44555472e-03,  1.09619836e-01,  1.62377899e-01,  1.94661623e-01,\n",
              "       -1.07070559e-01,  9.66578504e-03,  1.58303342e-01,  3.68812071e-03,\n",
              "        6.83021138e-02, -5.12577397e-01, -3.59317457e-02, -1.35630513e-01,\n",
              "       -4.90682350e-02, -8.58302132e-02, -7.69706515e-02, -4.89822903e-02,\n",
              "       -4.41724010e-02, -3.48970431e-01, -3.70864682e-01, -5.09606337e-01,\n",
              "        7.40531255e-02,  1.26923052e-02, -1.36434716e-01, -1.09966312e-01,\n",
              "       -1.03057649e-01, -1.60304021e-01, -4.65655679e-01,  1.57723491e-01,\n",
              "        3.64260143e-03, -9.36909576e-02, -2.89836025e-01, -3.87756915e-01,\n",
              "       -6.06578187e-02,  1.40958825e-02, -6.29698456e-01, -4.38559893e-01,\n",
              "        1.62478475e-01, -1.85457678e-02, -1.41349236e-01, -2.89458616e-03,\n",
              "       -7.23848758e-02,  3.22502336e-02,  3.40235992e-01,  2.96346878e-01,\n",
              "       -6.01570745e-01, -1.52887750e+00, -7.59340833e-01, -1.56711934e+00,\n",
              "       -3.76404844e-01, -3.34669689e-01, -1.16114200e+00, -4.26000318e-01,\n",
              "       -2.54727454e-01, -2.92649606e-01, -3.04544518e-01, -1.97236754e-01,\n",
              "       -1.21548566e-01, -3.12849254e-02,  1.92607221e-02, -4.63189983e-01,\n",
              "        6.28677593e-02, -4.62322052e-01, -3.02723634e-01, -3.40736182e-01,\n",
              "       -2.06874410e-01, -1.04062882e-01, -1.00795195e-01,  4.72005838e-02,\n",
              "       -5.84083681e-02,  1.04424276e-01,  2.36248678e-02,  2.13526183e-01,\n",
              "        2.70978918e-01,  1.13533011e-01,  1.52566029e-01,  1.98198736e-01,\n",
              "        3.54517075e-02,  6.34684615e-02,  2.32344591e-02,  1.13776884e-01,\n",
              "        2.82082165e-01,  1.39653299e-01,  1.85246682e-01,  2.27415557e-01,\n",
              "        2.52075837e-01,  2.44425365e-01,  4.04089095e-01,  3.58872008e-01,\n",
              "        2.90179933e-01,  3.71779081e-01,  3.98725505e-01,  9.12884316e-02,\n",
              "        7.64202536e-03,  2.93253300e-01,  4.15009026e-01,  2.84032810e-01,\n",
              "        2.56896828e-01,  3.63588774e-01, -8.61099999e-02, -7.06413375e-02,\n",
              "       -1.71352828e-01,  2.01060955e-01, -1.36687299e-01, -3.84102303e-01,\n",
              "       -1.65337870e-02,  3.70488934e-01,  3.37152425e-01,  4.19108679e-01,\n",
              "        4.17411646e-01,  3.01426755e-02,  2.37749888e-02, -1.35125465e-01,\n",
              "       -2.60667750e-02, -9.70802921e-02,  9.17986372e-02,  6.29810568e-02,\n",
              "        2.18733309e-01,  1.05633453e-01, -1.25510063e-01,  3.35008421e-02,\n",
              "       -1.17948302e-01,  6.24300502e-02,  1.78919860e-01,  1.08141918e-01,\n",
              "        2.24004159e-01,  2.82019696e-01,  2.20012713e-01,  3.56156096e-01,\n",
              "        2.34194369e-01,  2.07119467e-01,  1.70336633e-01, -6.78215354e-02,\n",
              "       -2.13538854e-02,  1.86541034e-01, -4.56049031e-02,  1.96205186e-01,\n",
              "        3.53092436e-01,  6.37113784e-02,  1.35071546e-01,  7.46245568e-02,\n",
              "        8.90439101e-02, -2.98480198e-01, -2.60160610e-01,  9.90466762e-02,\n",
              "        2.36438807e-01, -4.15653299e-02, -5.40985653e-02, -5.65321922e-01,\n",
              "        2.23131656e-02, -9.01695783e-01, -1.12212722e+00, -1.87363426e+00,\n",
              "       -2.83167530e+00, -2.37457464e+00, -1.80346061e+00, -2.98328713e+00,\n",
              "       -4.39377073e+00, -4.37996401e+00, -1.99649506e+00, -3.82840363e-01,\n",
              "       -2.71891947e-01, -2.34711467e-01, -3.66487989e-01,  1.11001918e-01,\n",
              "        1.03584380e-01,  2.85669814e-01,  2.76326343e-01,  7.64798421e-02,\n",
              "        8.77352270e-02,  4.36098241e-01,  4.47209914e-01, -2.06331570e+01,\n",
              "       -1.56643708e+01, -7.35390160e-01, -5.17051418e-01, -7.83188233e+00,\n",
              "       -1.33967016e-01,  8.58067203e-02, -5.64457200e-01, -1.08678618e+00,\n",
              "       -6.47320152e-01, -1.04485281e+00, -7.35479354e-01, -7.75840825e-01,\n",
              "       -6.10676232e-01, -6.14722763e-01, -9.45544146e-01, -1.18662991e+00,\n",
              "       -9.10869144e-01, -1.14948893e+00, -6.43820113e-01, -8.52041222e-01,\n",
              "       -7.75886697e-01, -8.26135861e-01, -6.22739815e-01, -8.21024052e-01,\n",
              "       -5.77326963e-01, -3.11530835e-01, -5.15170896e-01, -8.21063278e-01,\n",
              "       -1.11845370e+00, -1.50222395e-01, -5.47585743e-01, -3.27877989e-01,\n",
              "       -2.22773670e-01, -2.35849382e-01, -2.37495560e-01, -6.98909291e-01,\n",
              "        6.04878759e-02, -9.09736420e-03,  1.51425741e-01,  8.61049613e-02,\n",
              "        2.31654127e-02, -1.38202527e-01, -2.82399491e-02, -1.89744852e-01,\n",
              "       -4.71127259e-01, -3.92343826e+01, -2.58004821e+01, -3.15319542e+01,\n",
              "       -2.46238538e+01, -3.07715377e+01, -2.37214084e+01, -3.27531185e+01,\n",
              "       -3.24370445e+01, -3.41206688e+01, -1.28528556e+01, -1.56241542e+01,\n",
              "       -1.07320732e+01, -5.81702326e+00, -4.06323034e+01, -5.21438065e+01,\n",
              "       -3.96734309e+01, -2.00644916e+01, -2.21636333e+01, -3.13047671e+01,\n",
              "       -1.61049877e+01, -2.28810729e+01, -1.61986001e+01, -1.65629407e+01,\n",
              "       -2.66708471e+01, -3.97585665e+01, -8.37844223e+00, -3.98202891e+00,\n",
              "       -1.30855086e-01,  1.40755157e-01, -7.74694530e-02, -6.32305128e-02,\n",
              "       -1.40595578e+01, -5.83864558e+00, -5.55530604e+00, -3.29732660e+00,\n",
              "       -2.45059856e+02, -2.37711638e+01, -1.58056373e+01, -6.20291974e+00,\n",
              "       -2.70305019e+00, -2.81444785e+00, -1.57073124e+00, -1.51408148e+00,\n",
              "       -1.56037941e+00, -1.19184038e+00, -1.21104325e+00, -5.37307627e-01,\n",
              "       -1.16231543e+00, -1.03679662e+00, -5.34656474e-01, -5.24147196e-01,\n",
              "       -6.56522841e-01, -3.95468622e-01, -8.55287935e-01, -9.68376176e-01,\n",
              "        1.13310345e-01, -2.03121799e-01, -9.13260718e-02, -4.18607757e-01,\n",
              "       -2.42744792e-01, -7.88987438e-01,  8.89879333e-02, -1.08281806e+02,\n",
              "       -6.72740551e-01, -1.07900164e+01, -9.15595362e+00, -2.01216892e+00,\n",
              "       -1.94541542e-01, -7.03938184e-01, -3.14090542e-01, -3.00864315e-01,\n",
              "        5.04756196e-03, -1.66250348e-01, -4.24662009e+00, -1.63167695e+02,\n",
              "        9.48670981e-02,  5.07843378e-02,  1.13229294e-01, -1.05692760e+01,\n",
              "       -5.06263944e+01, -4.03170626e+01, -1.10834740e+01, -2.14919759e+00,\n",
              "        1.76902339e-01,  1.87722761e-01, -8.56212112e-02,  2.62186714e-01,\n",
              "       -6.76904796e-02, -1.16586472e-01, -9.45283930e-04,  1.18131280e-02,\n",
              "       -1.84124993e-02, -2.49597803e-02, -2.57786984e+00, -1.13690513e-01,\n",
              "       -4.61712985e-02, -2.00311549e-01, -1.45943391e-01, -2.95287264e+01,\n",
              "       -1.12189794e+01, -1.50026659e+01, -1.04388867e+01, -2.65170482e+00,\n",
              "       -1.53629523e+00, -1.19100676e+00, -1.44172044e+00, -8.54687400e+00,\n",
              "       -7.28290100e-01, -9.68070931e-01, -5.58802183e-01, -4.93053904e-01,\n",
              "       -8.66473391e-01, -3.10955539e+00, -7.74937247e-01, -2.33998306e+00,\n",
              "       -2.28803106e+00, -4.57438046e-01, -2.57055679e+00, -1.73693541e+00,\n",
              "       -2.41598905e+01, -6.72733368e+00, -1.11781324e+00, -1.95043101e+00,\n",
              "       -4.06286447e+00, -5.26642686e-01, -1.20960431e+01, -1.32056173e-01,\n",
              "       -1.20232768e+00, -2.01432048e-01, -7.36848387e+00, -4.40841228e-01,\n",
              "       -3.08088659e+00, -1.54997502e-01, -4.30920103e-02, -1.04364277e-01,\n",
              "       -7.13683163e-02, -6.95768619e-02, -7.72144684e-02, -1.42805719e-01,\n",
              "       -4.19473892e-02,  3.54443002e-02, -1.21540441e+00, -4.28291271e-01,\n",
              "       -5.72349220e+01, -3.01811220e+00,  5.41349671e-02, -5.60027557e+00,\n",
              "       -4.46354377e+01, -4.76018681e+00, -1.03570634e+01, -7.25900868e-01,\n",
              "       -5.18374051e+01, -1.89819863e+00, -3.18440807e+00, -7.33805227e+00,\n",
              "       -3.21185146e+00, -3.77942941e+00, -1.76838405e+00, -7.23259144e+00,\n",
              "       -8.06909075e+00, -1.05100984e+00, -8.27153683e-01, -3.19021710e+00,\n",
              "        8.46935522e-02,  6.20671898e-02, -2.73167793e+00, -1.16511953e+00,\n",
              "        3.04574030e-01,  1.84975863e-01, -2.58047846e+01,  2.93211950e-01,\n",
              "       -4.64123087e+00, -1.11388996e-01,  4.18296297e-02, -1.43190723e-02,\n",
              "        7.57873615e-02, -9.29231182e-01, -7.46565624e-01,  4.42703355e-01,\n",
              "        1.45372512e-01,  3.39501820e-01,  3.59094374e-01,  2.48379454e-01,\n",
              "        2.43050114e-02,  2.81524091e-01,  2.35880757e-01,  1.63833613e-01,\n",
              "        6.97600121e-02,  2.27970430e-01, -7.67448087e-02,  1.31371415e-01,\n",
              "        1.73308237e-02,  2.82590731e-01,  3.67346518e-01,  4.13315330e-02,\n",
              "        2.29835668e-01, -2.04193456e-02,  2.30128119e-01,  1.95338882e-01,\n",
              "        1.99232687e-01,  1.81816106e-01,  3.24064966e-01,  1.12263863e-01,\n",
              "        1.38465191e-01,  3.46355613e-01,  8.33268715e-02,  2.63960536e-01,\n",
              "       -1.84287192e+00,  2.29581041e-01,  6.84153615e-02, -5.02478387e-02,\n",
              "        9.79477990e-02, -1.57004823e-01,  1.93381560e-01,  3.08631296e-01,\n",
              "        2.55973741e-02,  1.57663708e-01,  1.95293214e-01, -3.97659726e-02,\n",
              "        3.23331441e-02, -1.81882177e-01,  5.00679844e-02, -4.02154419e+00,\n",
              "        1.04713289e-01,  1.48707581e-01,  2.90673895e-02,  2.19674926e-01,\n",
              "        1.93959949e-01, -2.93098943e-01,  2.04005443e-01,  2.09455684e-01,\n",
              "        2.89799913e-01, -1.09067342e+00,  3.36448335e-01,  8.71370217e-02,\n",
              "        6.99702741e-02,  1.09512869e-01,  1.96548245e-01,  3.14438562e-01,\n",
              "        2.62229019e-01,  1.63799090e-01,  3.06858026e-01,  1.31362738e-01,\n",
              "        3.28290642e-01,  2.59929803e-01,  7.37151984e-02,  1.26646507e-01,\n",
              "        2.29815076e-01,  3.73354994e-01])"
            ]
          },
          "execution_count": 15,
          "metadata": {},
          "output_type": "execute_result"
        }
      ],
      "source": [
        "calibrated_KGES"
      ]
    },
    {
      "cell_type": "code",
      "execution_count": 40,
      "metadata": {},
      "outputs": [
        {
          "data": {
            "text/plain": [
              "0.9194417028829057"
            ]
          },
          "execution_count": 40,
          "metadata": {},
          "output_type": "execute_result"
        }
      ],
      "source": [
        "calibrated_KGES.max()"
      ]
    },
    {
      "cell_type": "code",
      "execution_count": 22,
      "metadata": {},
      "outputs": [
        {
          "data": {
            "text/plain": [
              "546"
            ]
          },
          "execution_count": 22,
          "metadata": {},
          "output_type": "execute_result"
        }
      ],
      "source": [
        "calibrated_KGES.size"
      ]
    },
    {
      "cell_type": "code",
      "execution_count": 51,
      "metadata": {},
      "outputs": [
        {
          "data": {
            "text/plain": [
              "0.7892894999233896"
            ]
          },
          "execution_count": 51,
          "metadata": {},
          "output_type": "execute_result"
        }
      ],
      "source": [
        "evaluate_calibration([2])"
      ]
    },
    {
      "cell_type": "code",
      "execution_count": 17,
      "metadata": {},
      "outputs": [],
      "source": [
        "np.savetxt(\"data/ga_KGEs.csv\", calibrated_KGES, delimiter=\",\")"
      ]
    },
    {
      "cell_type": "code",
      "execution_count": 16,
      "metadata": {},
      "outputs": [
        {
          "data": {
            "image/png": "[encoded data removed]",
            "text/plain": [
              "<Figure size 640x480 with 1 Axes>"
            ]
          },
          "metadata": {},
          "output_type": "display_data"
        }
      ],
      "source": [
        "plt.hist(calibrated_KGES[calibrated_KGES>0], bins = 30)\n",
        "plt.show()"
      ]
    },
    {
      "cell_type": "code",
      "execution_count": 20,
      "metadata": {},
      "outputs": [
        {
          "data": {
            "text/plain": [
              "0.5206200703670887"
            ]
          },
          "execution_count": 20,
          "metadata": {},
          "output_type": "execute_result"
        }
      ],
      "source": [
        "calibrated_KGES.mean()"
      ]
    },
    {
      "cell_type": "code",
      "execution_count": 24,
      "metadata": {},
      "outputs": [],
      "source": [
        "N_CATCHMENT = train_val_batch_gen.dataset.x.shape[0]\n",
        "calibrated_KGES = np.ones(N_CATCHMENT)\n",
        "i = 0\n",
        "calibrated_KGES[i] = evaluate_calibration([i])"
      ]
    },
    {
      "cell_type": "code",
      "execution_count": 47,
      "metadata": {},
      "outputs": [],
      "source": [
        "\n",
        "selected_catchment = [110]\n",
        "\n",
        "batch_gen = train_val_batch_gen\n",
        "\n",
        "x = batch_gen.dataset.x[selected_catchment]\n",
        "y = batch_gen.dataset.y[selected_catchment]\n",
        "\n",
        "x, y = x.to(DEVICE), y.to(DEVICE)"
      ]
    },
    {
      "cell_type": "code",
      "execution_count": 50,
      "metadata": {},
      "outputs": [],
      "source": [
        "fn = FN(x,y,HydroErr.kge_2009)\n",
        "\n",
        "def fitness_func(solution, solution_idx):\n",
        "    return fn.eval(solution)\n",
        "\n",
        "ga_instance = pygad.GA(num_generations=num_generations,\n",
        "                       num_parents_mating=num_parents_mating,\n",
        "                       fitness_func=fitness_func,\n",
        "                       sol_per_pop=sol_per_pop,\n",
        "                       num_genes=num_genes,\n",
        "                       init_range_low=init_range_low,\n",
        "                       init_range_high=init_range_high,\n",
        "                       parent_selection_type=parent_selection_type,\n",
        "                       crossover_type=crossover_type,\n",
        "                       mutation_type=mutation_type,\n",
        "                       mutation_probability = mutation_probability)"
      ]
    },
    {
      "cell_type": "code",
      "execution_count": 52,
      "metadata": {},
      "outputs": [],
      "source": [
        "ga_instance.run()"
      ]
    },
    {
      "cell_type": "code",
      "execution_count": 53,
      "metadata": {},
      "outputs": [
        {
          "name": "stdout",
          "output_type": "stream",
          "text": [
            "Parameters of the best solution : [ 2.39297483 -3.06968491 -2.88818786 -2.89980175]\n",
            "Fitness value of the best solution = 0.5666582062553918\n"
          ]
        }
      ],
      "source": [
        "solution, solution_fitness, solution_idx = ga_instance.best_solution()\n",
        "print(\"Parameters of the best solution : {solution}\".format(solution=solution))\n",
        "print(\"Fitness value of the best solution = {solution_fitness}\".format(solution_fitness=solution_fitness))"
      ]
    },
    {
      "cell_type": "code",
      "execution_count": 54,
      "metadata": {},
      "outputs": [
        {
          "data": {
            "text/plain": [
              "0.6630948503353136"
            ]
          },
          "execution_count": 54,
          "metadata": {},
          "output_type": "execute_result"
        }
      ],
      "source": [
        "batch_gen = test_batch_gen\n",
        "\n",
        "x = batch_gen.dataset.x[selected_catchment]\n",
        "y = batch_gen.dataset.y[selected_catchment]\n",
        "\n",
        "x, y = x.to(DEVICE), y.to(DEVICE)\n",
        "\n",
        "fn = FN(x,y,HydroErr.kge_2009)\n",
        "\n",
        "fn.eval(solution)"
      ]
    },
    {
      "cell_type": "code",
      "execution_count": 126,
      "metadata": {},
      "outputs": [],
      "source": [
        "scaler = 1.25\n",
        "\n",
        "UB, _ = torch.max(\n",
        "    embedding.weight,\n",
        "    0,\n",
        ")\n",
        "\n",
        "LB, _ = torch.min(\n",
        "    embedding.weight,\n",
        "    0,\n",
        ")\n",
        "\n",
        "UB = UB + torch.abs(UB)*(scaler - 1)\n",
        "LB = LB - torch.abs(LB)*(scaler - 1)\n",
        "\n",
        "UB = UB.cpu().detach().numpy()\n",
        "LB = LB.cpu().detach().numpy()"
      ]
    }
  ],
  "metadata": {
    "accelerator": "GPU",
    "colab": {
      "collapsed_sections": [],
      "provenance": []
    },
    "gpuClass": "standard",
    "kernelspec": {
      "display_name": "pytorch1.13",
      "language": "python",
      "name": "python3"
    },
    "language_info": {
      "codemirror_mode": {
        "name": "ipython",
        "version": 3
      },
      "file_extension": ".py",
      "mimetype": "text/x-python",
      "name": "python",
      "nbconvert_exporter": "python",
      "pygments_lexer": "ipython3",
      "version": "3.10.8"
    },
    "vscode": {
      "interpreter": {
        "hash": "1a6512bb800c64caa3cb3d76ef3bcdbc9727db239056cfe174e1a886fceb8ed0"
      }
    }
  },
  "nbformat": 4,
  "nbformat_minor": 0
}
