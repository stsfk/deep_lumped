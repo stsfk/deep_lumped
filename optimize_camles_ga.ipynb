{
  "cells": [
    {
      "cell_type": "code",
      "execution_count": 1,
      "metadata": {
        "id": "95vm9FxGQ7KK"
      },
      "outputs": [],
      "source": [
        "import torch\n",
        "import torch.nn as nn\n",
        "import torch.optim as optim\n",
        "\n",
        "from torch.utils.data import Dataset\n",
        "\n",
        "import numpy as np\n",
        "\n",
        "import math\n",
        "\n",
        "import time\n",
        "\n",
        "import dataloader\n",
        "import models\n",
        "import training_fun\n",
        "\n",
        "import optuna\n",
        "\n",
        "import joblib\n",
        "\n",
        "import pygad\n",
        "\n",
        "import HydroErr"
      ]
    },
    {
      "cell_type": "code",
      "execution_count": 2,
      "metadata": {
        "id": "oJcpZUdpp9K3"
      },
      "outputs": [],
      "source": [
        "DEVICE = torch.device(\"cuda\" if torch.cuda.is_available() else \"cpu\")\n",
        "\n",
        "SEQ_LENGTH = 365 * 2\n",
        "TARGET_SEQ_LENGTH = 365\n",
        "BASE_LENGTH = SEQ_LENGTH - TARGET_SEQ_LENGTH\n",
        "\n",
        "FORCING_DIM = 3\n",
        "\n",
        "N_CATCHMENTS = 559\n",
        "\n",
        "# training hyperparameters\n",
        "EPOCHS = 500\n",
        "TRAIN_YEAR = 19\n",
        "PATIENCE = 20\n",
        "\n",
        "use_amp = True\n",
        "compile_model = False\n",
        "\n",
        "if compile_model:\n",
        "    torch.set_float32_matmul_precision(\"high\")\n",
        "\n",
        "memory_saving = False\n",
        "if memory_saving:\n",
        "    storge_device = \"cpu\"\n",
        "    computing_device = DEVICE\n",
        "    VAL_STEPS = 500\n",
        "else:\n",
        "    storge_device = DEVICE\n",
        "    computing_device = DEVICE"
      ]
    },
    {
      "cell_type": "code",
      "execution_count": 3,
      "metadata": {
        "id": "ceCEmnygRmye"
      },
      "outputs": [],
      "source": [
        "embedding = torch.load(\"data/final_lstm_embedding.pt\", map_location=torch.device('cpu')).to(computing_device)\n",
        "decoder = torch.load(\"data/final_lstm_decoder.pt\", map_location=torch.device('cpu')).to(computing_device)\n",
        "\n",
        "embedding.eval()\n",
        "decoder.eval()\n",
        "\n",
        "# dimension of embedding\n",
        "catchment_embeddings=[x.data for x in embedding.parameters()][0]\n",
        "LATENT_dim = catchment_embeddings.shape[1]"
      ]
    },
    {
      "cell_type": "code",
      "execution_count": 5,
      "metadata": {
        "id": "nGxVHBn3p9K4"
      },
      "outputs": [],
      "source": [
        "dtrain_val = dataloader.Forcing_Data(\n",
        "    \"data/camels_train_val.csv\",\n",
        "    record_length=3652,\n",
        "    storge_device=storge_device,\n",
        "    seq_length=SEQ_LENGTH,\n",
        "    target_seq_length=TARGET_SEQ_LENGTH,\n",
        "    base_length=BASE_LENGTH,\n",
        ")\n",
        "\n",
        "# dtrain = dataloader.Forcing_Data(\n",
        "#     \"camels_train.csv\",\n",
        "#     record_length=2922,\n",
        "#     storge_device=storge_device,\n",
        "#     seq_length=SEQ_LENGTH,\n",
        "#     target_seq_length=TARGET_SEQ_LENGTH,\n",
        "#     base_length=BASE_LENGTH,\n",
        "# )\n",
        "\n",
        "# dval = dataloader.Forcing_Data(\n",
        "#     \"camels_val.csv\",\n",
        "#     record_length=1095,\n",
        "#     storge_device=storge_device,\n",
        "#     seq_length=SEQ_LENGTH,\n",
        "#     target_seq_length=TARGET_SEQ_LENGTH,\n",
        "#     base_length=BASE_LENGTH,\n",
        "# )\n",
        "\n",
        "dtest = dataloader.Forcing_Data(\n",
        "    \"data/camels_test.csv\",\n",
        "    record_length=4383,\n",
        "    storge_device=storge_device,\n",
        "    seq_length=SEQ_LENGTH,\n",
        "    target_seq_length=TARGET_SEQ_LENGTH,\n",
        "    base_length=BASE_LENGTH,\n",
        ")"
      ]
    },
    {
      "cell_type": "code",
      "execution_count": 8,
      "metadata": {
        "id": "dw8xH6sT3qQN"
      },
      "outputs": [],
      "source": [
        "class Objective_builder:\n",
        "    def __init__(self, x, y, eval_fun):\n",
        "        self.eval_fun = eval_fun\n",
        "        self.x = x.contiguous()\n",
        "        self.y = y.contiguous()\n",
        "    \n",
        "    def eval(self, code, return_summary = True):\n",
        "        \n",
        "        # numpy to torch tensor\n",
        "        code = torch.from_numpy(code).unsqueeze(0).to(dtype=torch.float32).to(computing_device)\n",
        "        code = code.expand(self.x.shape[0], -1)\n",
        "        \n",
        "        # BASE_LENGTH is from global\n",
        "        pred = decoder.decode(code, self.x).view(-1).detach().cpu().numpy()\n",
        "\n",
        "        ob = self.y.view(-1).detach().cpu().numpy()\n",
        "        \n",
        "        if return_summary:\n",
        "          gof = self.eval_fun(simulated_array=pred, observed_array=ob)\n",
        "          return gof\n",
        "        else:\n",
        "          return pred, ob"
      ]
    },
    {
      "cell_type": "code",
      "execution_count": 27,
      "metadata": {
        "id": "Nm0X9u8sp9K7"
      },
      "outputs": [],
      "source": [
        "num_generations = 200\n",
        "num_parents_mating = 100\n",
        "\n",
        "sol_per_pop = 10\n",
        "num_genes = LATENT_dim\n",
        "\n",
        "init_range_low = catchment_embeddings.detach().cpu().min().numpy().tolist()\n",
        "init_range_high = catchment_embeddings.detach().cpu().max().numpy().tolist()\n",
        "\n",
        "parent_selection_type = \"sss\"\n",
        "\n",
        "crossover_type = \"single_point\"\n",
        "\n",
        "mutation_type = \"random\"\n",
        "mutation_probability = 0.25\n",
        "\n",
        "x_batch_train_val, y_batch_train_val = dtrain_val.get_val_batch()\n",
        "x_batch_test, y_batch_test = dtest.get_val_batch()\n",
        "\n",
        "def evaluate_calibration(selected_catchment=0):\n",
        "    \n",
        "    x = x_batch_train_val[:,selected_catchment,:,:]\n",
        "    y = y_batch_train_val[:,selected_catchment,:]\n",
        "\n",
        "    x, y = x.to(computing_device), y.to(computing_device)\n",
        "\n",
        "    fn = Objective_builder(x,y,HydroErr.kge_2009)\n",
        "\n",
        "    def fitness_func(solution, solution_idx):\n",
        "        return fn.eval(solution)\n",
        "\n",
        "    ga_instance = pygad.GA(num_generations=num_generations,\n",
        "                        num_parents_mating=num_parents_mating,\n",
        "                        fitness_func=fitness_func,\n",
        "                        sol_per_pop=sol_per_pop,\n",
        "                        num_genes=num_genes,\n",
        "                        init_range_low=init_range_low,\n",
        "                        init_range_high=init_range_high,\n",
        "                        parent_selection_type=parent_selection_type,\n",
        "                        crossover_type=crossover_type,\n",
        "                        mutation_type=mutation_type,\n",
        "                        mutation_probability = mutation_probability,\n",
        "                        stop_criteria=[\"saturate_10\"])\n",
        "\n",
        "    ga_instance.run()\n",
        "\n",
        "    solution, solution_fitness, solution_idx = ga_instance.best_solution()\n",
        "    \n",
        "    # evaluate on test dataset\n",
        "    x = x_batch_test[:,selected_catchment,:,:]\n",
        "    y = y_batch_test[:,selected_catchment,:]\n",
        "\n",
        "    x, y = x.to(computing_device), y.to(computing_device)\n",
        "\n",
        "    fn = Objective_builder(x,y,HydroErr.kge_2009)\n",
        "\n",
        "    return fn.eval(solution), solution"
      ]
    },
    {
      "cell_type": "code",
      "execution_count": 28,
      "metadata": {
        "colab": {
          "base_uri": "https://localhost:8080/"
        },
        "id": "RoScuihK-7QO",
        "outputId": "76bab91f-81fa-4fa0-cd25-39e38a80534e"
      },
      "outputs": [
        {
          "name": "stdout",
          "output_type": "stream",
          "text": [
            "i=0 starts\n"
          ]
        },
        {
          "name": "stderr",
          "output_type": "stream",
          "text": [
            "/Users/yang/opt/anaconda3/envs/pytorch-env/lib/python3.10/site-packages/HydroErr/HydroErr.py:6248: UserWarning: Row(s) [3287 3288 3289 3290 3291 3292 3293 3294 3295 3296 3297 3298 3299 3300\n",
            " 3301 3302 3303 3304 3305 3306 3307 3308 3309 3310 3311 3312 3313 3314\n",
            " 3315 3316 3317 3318 3319 3320 3321 3322 3323 3324 3325 3326 3327 3328\n",
            " 3329 3330 3331 3332 3333 3334 3335 3336 3337 3338 3339 3340 3341 3342\n",
            " 3343 3344 3345 3346 3347 3348 3349 3350 3351 3352 3353 3354 3355 3356\n",
            " 3357 3358 3359 3360 3361 3362 3363 3364 3365 3366 3367 3368 3369 3370\n",
            " 3371 3372 3373 3374 3375 3376 3377 3378 3379 3380 3381 3382 3383 3384\n",
            " 3385 3386 3387 3388 3389 3390 3391 3392 3393 3394 3395 3396 3397 3398\n",
            " 3399 3400 3401 3402 3403 3404 3405 3406 3407 3408 3409 3410 3411 3412\n",
            " 3413 3414 3415 3416 3417 3418 3419 3420 3421 3422 3423 3424 3425 3426\n",
            " 3427 3428 3429 3430 3431 3432 3433 3434 3435 3436 3437 3438 3439 3440\n",
            " 3441 3442 3443 3444 3445 3446 3447 3448 3449 3450 3451 3452 3453 3454\n",
            " 3455 3456 3457 3458 3459 3460 3461 3462 3463 3464 3465 3466 3467 3468\n",
            " 3469 3470 3471 3472 3473 3474 3475 3476 3477 3478 3479 3480 3481 3482\n",
            " 3483 3484 3485 3486 3487 3488 3489 3490 3491 3492 3493 3494 3495 3496\n",
            " 3497 3498 3499 3500 3501 3502 3503 3504 3505 3506 3507 3508 3509 3510\n",
            " 3511 3512 3513 3514 3515 3516 3517 3518 3519 3520 3521 3522 3523 3524\n",
            " 3525 3526 3527 3528 3529 3530 3531 3532 3533 3534 3535 3536 3537 3538\n",
            " 3539 3540 3541 3542 3543 3544 3545 3546 3547 3548 3549 3550 3551 3552\n",
            " 3553 3554 3555 3556 3557 3558 3559 3560 3561 3562 3563 3564 3565 3566\n",
            " 3567 3568 3569 3570 3571 3572 3573 3574 3575 3576 3577 3578 3579 3580\n",
            " 3581 3582 3583 3584 3585 3586 3587 3588 3589 3590 3591 3592 3593 3594\n",
            " 3595 3596 3597 3598 3599 3600 3601 3602 3603 3604 3605 3606 3607 3608\n",
            " 3609 3610 3611 3612 3613 3614 3615 3616 3617 3618 3619 3620 3621 3622\n",
            " 3623 3624 3625 3626 3627 3628 3629 3630 3631 3632 3633 3634 3635 3636\n",
            " 3637 3638 3639 3640 3641 3642 3643 3644 3645 3646 3647 3648 3649] contained NaN values and the row(s) have been removed (Rows are zero indexed).\n",
            "  warnings.warn(\"Row(s) {} contained NaN values and the row(s) have been \"\n",
            "/Users/yang/opt/anaconda3/envs/pytorch-env/lib/python3.10/site-packages/HydroErr/HydroErr.py:6248: UserWarning: Row(s) [4018 4019 4020 4021 4022 4023 4024 4025 4026 4027 4028 4029 4030 4031\n",
            " 4032 4033 4034 4035 4036 4037 4038 4039 4040 4041 4042 4043 4044 4045\n",
            " 4046 4047 4048 4049 4050 4051 4052 4053 4054 4055 4056 4057 4058 4059\n",
            " 4060 4061 4062 4063 4064 4065 4066 4067 4068 4069 4070 4071 4072 4073\n",
            " 4074 4075 4076 4077 4078 4079 4080 4081 4082 4083 4084 4085 4086 4087\n",
            " 4088 4089 4090 4091 4092 4093 4094 4095 4096 4097 4098 4099 4100 4101\n",
            " 4102 4103 4104 4105 4106 4107 4108 4109 4110 4111 4112 4113 4114 4115\n",
            " 4116 4117 4118 4119 4120 4121 4122 4123 4124 4125 4126 4127 4128 4129\n",
            " 4130 4131 4132 4133 4134 4135 4136 4137 4138 4139 4140 4141 4142 4143\n",
            " 4144 4145 4146 4147 4148 4149 4150 4151 4152 4153 4154 4155 4156 4157\n",
            " 4158 4159 4160 4161 4162 4163 4164 4165 4166 4167 4168 4169 4170 4171\n",
            " 4172 4173 4174 4175 4176 4177 4178 4179 4180 4181 4182 4183 4184 4185\n",
            " 4186 4187 4188 4189 4190 4191 4192 4193 4194 4195 4196 4197 4198 4199\n",
            " 4200 4201 4202 4203 4204 4205 4206 4207 4208 4209 4210 4211 4212 4213\n",
            " 4214 4215 4216 4217 4218 4219 4220 4221 4222 4223 4224 4225 4226 4227\n",
            " 4228 4229 4230 4231 4232 4233 4234 4235 4236 4237 4238 4239 4240 4241\n",
            " 4242 4243 4244 4245 4246 4247 4248 4249 4250 4251 4252 4253 4254 4255\n",
            " 4256 4257 4258 4259 4260 4261 4262 4263 4264 4265 4266 4267 4268 4269\n",
            " 4270 4271 4272 4273 4274 4275 4276 4277 4278 4279 4280 4281 4282 4283\n",
            " 4284 4285 4286 4287 4288 4289 4290 4291 4292 4293 4294 4295 4296 4297\n",
            " 4298 4299 4300 4301 4302 4303 4304 4305 4306 4307 4308 4309 4310 4311\n",
            " 4312 4313 4314 4315 4316 4317 4318 4319 4320 4321 4322 4323 4324 4325\n",
            " 4326 4327 4328 4329 4330 4331 4332 4333 4334 4335 4336 4337 4338 4339\n",
            " 4340 4341 4342 4343 4344 4345 4346 4347 4348 4349 4350 4351 4352 4353\n",
            " 4354 4355 4356 4357 4358 4359 4360 4361 4362 4363 4364 4365 4366 4367\n",
            " 4368 4369 4370 4371 4372 4373 4374 4375 4376 4377 4378 4379] contained NaN values and the row(s) have been removed (Rows are zero indexed).\n",
            "  warnings.warn(\"Row(s) {} contained NaN values and the row(s) have been \"\n"
          ]
        },
        {
          "name": "stdout",
          "output_type": "stream",
          "text": [
            "fit=0.5489517764740641\n",
            "i=1 starts\n",
            "fit=0.40452912590731016\n",
            "i=2 starts\n",
            "fit=0.4958245664023986\n",
            "i=3 starts\n",
            "fit=0.5448001655425755\n",
            "i=4 starts\n"
          ]
        },
        {
          "ename": "KeyboardInterrupt",
          "evalue": "",
          "output_type": "error",
          "traceback": [
            "\u001b[0;31m---------------------------------------------------------------------------\u001b[0m",
            "\u001b[0;31mKeyboardInterrupt\u001b[0m                         Traceback (most recent call last)",
            "\u001b[1;32m/Users/yang/Documents/projects/deep_lumped/optimize_camles_ga.ipynb Cell 7\u001b[0m in \u001b[0;36m<cell line: 5>\u001b[0;34m()\u001b[0m\n\u001b[1;32m      <a href='vscode-notebook-cell:/Users/yang/Documents/projects/deep_lumped/optimize_camles_ga.ipynb#W6sZmlsZQ%3D%3D?line=4'>5</a>\u001b[0m \u001b[39mfor\u001b[39;00m i \u001b[39min\u001b[39;00m \u001b[39mrange\u001b[39m(N_CATCHMENTS):\n\u001b[1;32m      <a href='vscode-notebook-cell:/Users/yang/Documents/projects/deep_lumped/optimize_camles_ga.ipynb#W6sZmlsZQ%3D%3D?line=5'>6</a>\u001b[0m     \u001b[39mprint\u001b[39m(\u001b[39mf\u001b[39m\u001b[39m'\u001b[39m\u001b[39mi=\u001b[39m\u001b[39m{\u001b[39;00mi\u001b[39m}\u001b[39;00m\u001b[39m starts\u001b[39m\u001b[39m'\u001b[39m)\n\u001b[0;32m----> <a href='vscode-notebook-cell:/Users/yang/Documents/projects/deep_lumped/optimize_camles_ga.ipynb#W6sZmlsZQ%3D%3D?line=6'>7</a>\u001b[0m     calibrated_KGES[i], camels_embeddings[i,:]  \u001b[39m=\u001b[39m evaluate_calibration(i)\n\u001b[1;32m      <a href='vscode-notebook-cell:/Users/yang/Documents/projects/deep_lumped/optimize_camles_ga.ipynb#W6sZmlsZQ%3D%3D?line=7'>8</a>\u001b[0m     \u001b[39mprint\u001b[39m(\u001b[39mf\u001b[39m\u001b[39m'\u001b[39m\u001b[39mfit=\u001b[39m\u001b[39m{\u001b[39;00mcalibrated_KGES[i]\u001b[39m}\u001b[39;00m\u001b[39m'\u001b[39m)\n",
            "\u001b[1;32m/Users/yang/Documents/projects/deep_lumped/optimize_camles_ga.ipynb Cell 7\u001b[0m in \u001b[0;36mevaluate_calibration\u001b[0;34m(selected_catchment)\u001b[0m\n\u001b[1;32m     <a href='vscode-notebook-cell:/Users/yang/Documents/projects/deep_lumped/optimize_camles_ga.ipynb#W6sZmlsZQ%3D%3D?line=29'>30</a>\u001b[0m     \u001b[39mreturn\u001b[39;00m fn\u001b[39m.\u001b[39meval(solution)\n\u001b[1;32m     <a href='vscode-notebook-cell:/Users/yang/Documents/projects/deep_lumped/optimize_camles_ga.ipynb#W6sZmlsZQ%3D%3D?line=31'>32</a>\u001b[0m ga_instance \u001b[39m=\u001b[39m pygad\u001b[39m.\u001b[39mGA(num_generations\u001b[39m=\u001b[39mnum_generations,\n\u001b[1;32m     <a href='vscode-notebook-cell:/Users/yang/Documents/projects/deep_lumped/optimize_camles_ga.ipynb#W6sZmlsZQ%3D%3D?line=32'>33</a>\u001b[0m                     num_parents_mating\u001b[39m=\u001b[39mnum_parents_mating,\n\u001b[1;32m     <a href='vscode-notebook-cell:/Users/yang/Documents/projects/deep_lumped/optimize_camles_ga.ipynb#W6sZmlsZQ%3D%3D?line=33'>34</a>\u001b[0m                     fitness_func\u001b[39m=\u001b[39mfitness_func,\n\u001b[0;32m   (...)\u001b[0m\n\u001b[1;32m     <a href='vscode-notebook-cell:/Users/yang/Documents/projects/deep_lumped/optimize_camles_ga.ipynb#W6sZmlsZQ%3D%3D?line=41'>42</a>\u001b[0m                     mutation_probability \u001b[39m=\u001b[39m mutation_probability,\n\u001b[1;32m     <a href='vscode-notebook-cell:/Users/yang/Documents/projects/deep_lumped/optimize_camles_ga.ipynb#W6sZmlsZQ%3D%3D?line=42'>43</a>\u001b[0m                     stop_criteria\u001b[39m=\u001b[39m[\u001b[39m\"\u001b[39m\u001b[39msaturate_10\u001b[39m\u001b[39m\"\u001b[39m])\n\u001b[0;32m---> <a href='vscode-notebook-cell:/Users/yang/Documents/projects/deep_lumped/optimize_camles_ga.ipynb#W6sZmlsZQ%3D%3D?line=44'>45</a>\u001b[0m ga_instance\u001b[39m.\u001b[39;49mrun()\n\u001b[1;32m     <a href='vscode-notebook-cell:/Users/yang/Documents/projects/deep_lumped/optimize_camles_ga.ipynb#W6sZmlsZQ%3D%3D?line=46'>47</a>\u001b[0m solution, solution_fitness, solution_idx \u001b[39m=\u001b[39m ga_instance\u001b[39m.\u001b[39mbest_solution()\n\u001b[1;32m     <a href='vscode-notebook-cell:/Users/yang/Documents/projects/deep_lumped/optimize_camles_ga.ipynb#W6sZmlsZQ%3D%3D?line=48'>49</a>\u001b[0m \u001b[39m# evaluate on test dataset\u001b[39;00m\n",
            "File \u001b[0;32m~/opt/anaconda3/envs/pytorch-env/lib/python3.10/site-packages/pygad/pygad.py:1315\u001b[0m, in \u001b[0;36mGA.run\u001b[0;34m(self)\u001b[0m\n\u001b[1;32m   1312\u001b[0m stop_run \u001b[39m=\u001b[39m \u001b[39mFalse\u001b[39;00m\n\u001b[1;32m   1314\u001b[0m \u001b[39m# Measuring the fitness of each chromosome in the population. Save the fitness in the last_generation_fitness attribute.\u001b[39;00m\n\u001b[0;32m-> 1315\u001b[0m \u001b[39mself\u001b[39m\u001b[39m.\u001b[39mlast_generation_fitness \u001b[39m=\u001b[39m \u001b[39mself\u001b[39;49m\u001b[39m.\u001b[39;49mcal_pop_fitness()\n\u001b[1;32m   1317\u001b[0m best_solution, best_solution_fitness, best_match_idx \u001b[39m=\u001b[39m \u001b[39mself\u001b[39m\u001b[39m.\u001b[39mbest_solution(pop_fitness\u001b[39m=\u001b[39m\u001b[39mself\u001b[39m\u001b[39m.\u001b[39mlast_generation_fitness)\n\u001b[1;32m   1319\u001b[0m \u001b[39m# Appending the best solution in the initial population to the best_solutions list.\u001b[39;00m\n",
            "File \u001b[0;32m~/opt/anaconda3/envs/pytorch-env/lib/python3.10/site-packages/pygad/pygad.py:1235\u001b[0m, in \u001b[0;36mGA.cal_pop_fitness\u001b[0;34m(self)\u001b[0m\n\u001b[1;32m   1233\u001b[0m     fitness \u001b[39m=\u001b[39m \u001b[39mself\u001b[39m\u001b[39m.\u001b[39mprevious_generation_fitness[parent_idx]\n\u001b[1;32m   1234\u001b[0m \u001b[39melse\u001b[39;00m:\n\u001b[0;32m-> 1235\u001b[0m     fitness \u001b[39m=\u001b[39m \u001b[39mself\u001b[39;49m\u001b[39m.\u001b[39;49mfitness_func(sol, sol_idx)\n\u001b[1;32m   1236\u001b[0m     \u001b[39mif\u001b[39;00m \u001b[39mtype\u001b[39m(fitness) \u001b[39min\u001b[39;00m GA\u001b[39m.\u001b[39msupported_int_float_types:\n\u001b[1;32m   1237\u001b[0m         \u001b[39mpass\u001b[39;00m\n",
            "\u001b[1;32m/Users/yang/Documents/projects/deep_lumped/optimize_camles_ga.ipynb Cell 7\u001b[0m in \u001b[0;36mevaluate_calibration.<locals>.fitness_func\u001b[0;34m(solution, solution_idx)\u001b[0m\n\u001b[1;32m     <a href='vscode-notebook-cell:/Users/yang/Documents/projects/deep_lumped/optimize_camles_ga.ipynb#W6sZmlsZQ%3D%3D?line=28'>29</a>\u001b[0m \u001b[39mdef\u001b[39;00m \u001b[39mfitness_func\u001b[39m(solution, solution_idx):\n\u001b[0;32m---> <a href='vscode-notebook-cell:/Users/yang/Documents/projects/deep_lumped/optimize_camles_ga.ipynb#W6sZmlsZQ%3D%3D?line=29'>30</a>\u001b[0m     \u001b[39mreturn\u001b[39;00m fn\u001b[39m.\u001b[39;49meval(solution)\n",
            "\u001b[1;32m/Users/yang/Documents/projects/deep_lumped/optimize_camles_ga.ipynb Cell 7\u001b[0m in \u001b[0;36mObjective_builder.eval\u001b[0;34m(self, code, return_summary)\u001b[0m\n\u001b[1;32m     <a href='vscode-notebook-cell:/Users/yang/Documents/projects/deep_lumped/optimize_camles_ga.ipynb#W6sZmlsZQ%3D%3D?line=12'>13</a>\u001b[0m code \u001b[39m=\u001b[39m code\u001b[39m.\u001b[39mexpand(\u001b[39mself\u001b[39m\u001b[39m.\u001b[39mx\u001b[39m.\u001b[39mshape[\u001b[39m0\u001b[39m], \u001b[39m-\u001b[39m\u001b[39m1\u001b[39m)\n\u001b[1;32m     <a href='vscode-notebook-cell:/Users/yang/Documents/projects/deep_lumped/optimize_camles_ga.ipynb#W6sZmlsZQ%3D%3D?line=14'>15</a>\u001b[0m \u001b[39m# BASE_LENGTH is from global\u001b[39;00m\n\u001b[0;32m---> <a href='vscode-notebook-cell:/Users/yang/Documents/projects/deep_lumped/optimize_camles_ga.ipynb#W6sZmlsZQ%3D%3D?line=15'>16</a>\u001b[0m pred \u001b[39m=\u001b[39m decoder\u001b[39m.\u001b[39;49mdecode(code, \u001b[39mself\u001b[39;49m\u001b[39m.\u001b[39;49mx)\u001b[39m.\u001b[39;49mview(\u001b[39m-\u001b[39;49m\u001b[39m1\u001b[39;49m)\u001b[39m.\u001b[39;49mdetach()\u001b[39m.\u001b[39mcpu()\u001b[39m.\u001b[39mnumpy()\n\u001b[1;32m     <a href='vscode-notebook-cell:/Users/yang/Documents/projects/deep_lumped/optimize_camles_ga.ipynb#W6sZmlsZQ%3D%3D?line=17'>18</a>\u001b[0m ob \u001b[39m=\u001b[39m \u001b[39mself\u001b[39m\u001b[39m.\u001b[39my\u001b[39m.\u001b[39mview(\u001b[39m-\u001b[39m\u001b[39m1\u001b[39m)\u001b[39m.\u001b[39mdetach()\u001b[39m.\u001b[39mcpu()\u001b[39m.\u001b[39mnumpy()\n\u001b[1;32m     <a href='vscode-notebook-cell:/Users/yang/Documents/projects/deep_lumped/optimize_camles_ga.ipynb#W6sZmlsZQ%3D%3D?line=19'>20</a>\u001b[0m \u001b[39mif\u001b[39;00m return_summary:\n",
            "\u001b[0;31mKeyboardInterrupt\u001b[0m: "
          ]
        }
      ],
      "source": [
        "N_CATCHMENTS = 559\n",
        "calibrated_KGES = np.ones(N_CATCHMENTS)\n",
        "camels_embeddings = np.ones([N_CATCHMENTS, LATENT_dim])\n",
        "\n",
        "for i in range(N_CATCHMENTS):\n",
        "    print(f'i={i} starts')\n",
        "    calibrated_KGES[i], camels_embeddings[i,:]  = evaluate_calibration(i)\n",
        "    print(f'fit={calibrated_KGES[i]}')"
      ]
    },
    {
      "cell_type": "code",
      "execution_count": 30,
      "metadata": {
        "id": "VzoYzMSXDLtm"
      },
      "outputs": [],
      "source": [
        "np.savetxt(\"data/ga_KGEs.csv\", calibrated_KGES, delimiter=\",\")\n",
        "np.savetxt(\"data/ga_camels_embeddings.csv\", camels_embeddings, delimiter=\",\")"
      ]
    },
    {
      "attachments": {},
      "cell_type": "markdown",
      "metadata": {
        "id": "5dla3EMJDzFA"
      },
      "source": [
        "# Result check"
      ]
    },
    {
      "cell_type": "code",
      "execution_count": 31,
      "metadata": {
        "id": "t5aRLriip9K7",
        "outputId": "83c37e57-c570-4994-b0e2-39ae8c766cb7"
      },
      "outputs": [
        {
          "data": {
            "text/plain": [
              "array([0.54895178, 0.40452913, 0.49582457, 0.54480017, 1.        ,\n",
              "       1.        , 1.        , 1.        , 1.        , 1.        ,\n",
              "       1.        , 1.        , 1.        , 1.        , 1.        ,\n",
              "       1.        , 1.        , 1.        , 1.        , 1.        ,\n",
              "       1.        , 1.        , 1.        , 1.        , 1.        ,\n",
              "       1.        , 1.        , 1.        , 1.        , 1.        ,\n",
              "       1.        , 1.        , 1.        , 1.        , 1.        ,\n",
              "       1.        , 1.        , 1.        , 1.        , 1.        ,\n",
              "       1.        , 1.        , 1.        , 1.        , 1.        ,\n",
              "       1.        , 1.        , 1.        , 1.        , 1.        ,\n",
              "       1.        , 1.        , 1.        , 1.        , 1.        ,\n",
              "       1.        , 1.        , 1.        , 1.        , 1.        ,\n",
              "       1.        , 1.        , 1.        , 1.        , 1.        ,\n",
              "       1.        , 1.        , 1.        , 1.        , 1.        ,\n",
              "       1.        , 1.        , 1.        , 1.        , 1.        ,\n",
              "       1.        , 1.        , 1.        , 1.        , 1.        ,\n",
              "       1.        , 1.        , 1.        , 1.        , 1.        ,\n",
              "       1.        , 1.        , 1.        , 1.        , 1.        ,\n",
              "       1.        , 1.        , 1.        , 1.        , 1.        ,\n",
              "       1.        , 1.        , 1.        , 1.        , 1.        ,\n",
              "       1.        , 1.        , 1.        , 1.        , 1.        ,\n",
              "       1.        , 1.        , 1.        , 1.        , 1.        ,\n",
              "       1.        , 1.        , 1.        , 1.        , 1.        ,\n",
              "       1.        , 1.        , 1.        , 1.        , 1.        ,\n",
              "       1.        , 1.        , 1.        , 1.        , 1.        ,\n",
              "       1.        , 1.        , 1.        , 1.        , 1.        ,\n",
              "       1.        , 1.        , 1.        , 1.        , 1.        ,\n",
              "       1.        , 1.        , 1.        , 1.        , 1.        ,\n",
              "       1.        , 1.        , 1.        , 1.        , 1.        ,\n",
              "       1.        , 1.        , 1.        , 1.        , 1.        ,\n",
              "       1.        , 1.        , 1.        , 1.        , 1.        ,\n",
              "       1.        , 1.        , 1.        , 1.        , 1.        ,\n",
              "       1.        , 1.        , 1.        , 1.        , 1.        ,\n",
              "       1.        , 1.        , 1.        , 1.        , 1.        ,\n",
              "       1.        , 1.        , 1.        , 1.        , 1.        ,\n",
              "       1.        , 1.        , 1.        , 1.        , 1.        ,\n",
              "       1.        , 1.        , 1.        , 1.        , 1.        ,\n",
              "       1.        , 1.        , 1.        , 1.        , 1.        ,\n",
              "       1.        , 1.        , 1.        , 1.        , 1.        ,\n",
              "       1.        , 1.        , 1.        , 1.        , 1.        ,\n",
              "       1.        , 1.        , 1.        , 1.        , 1.        ,\n",
              "       1.        , 1.        , 1.        , 1.        , 1.        ,\n",
              "       1.        , 1.        , 1.        , 1.        , 1.        ,\n",
              "       1.        , 1.        , 1.        , 1.        , 1.        ,\n",
              "       1.        , 1.        , 1.        , 1.        , 1.        ,\n",
              "       1.        , 1.        , 1.        , 1.        , 1.        ,\n",
              "       1.        , 1.        , 1.        , 1.        , 1.        ,\n",
              "       1.        , 1.        , 1.        , 1.        , 1.        ,\n",
              "       1.        , 1.        , 1.        , 1.        , 1.        ,\n",
              "       1.        , 1.        , 1.        , 1.        , 1.        ,\n",
              "       1.        , 1.        , 1.        , 1.        , 1.        ,\n",
              "       1.        , 1.        , 1.        , 1.        , 1.        ,\n",
              "       1.        , 1.        , 1.        , 1.        , 1.        ,\n",
              "       1.        , 1.        , 1.        , 1.        , 1.        ,\n",
              "       1.        , 1.        , 1.        , 1.        , 1.        ,\n",
              "       1.        , 1.        , 1.        , 1.        , 1.        ,\n",
              "       1.        , 1.        , 1.        , 1.        , 1.        ,\n",
              "       1.        , 1.        , 1.        , 1.        , 1.        ,\n",
              "       1.        , 1.        , 1.        , 1.        , 1.        ,\n",
              "       1.        , 1.        , 1.        , 1.        , 1.        ,\n",
              "       1.        , 1.        , 1.        , 1.        , 1.        ,\n",
              "       1.        , 1.        , 1.        , 1.        , 1.        ,\n",
              "       1.        , 1.        , 1.        , 1.        , 1.        ,\n",
              "       1.        , 1.        , 1.        , 1.        , 1.        ,\n",
              "       1.        , 1.        , 1.        , 1.        , 1.        ,\n",
              "       1.        , 1.        , 1.        , 1.        , 1.        ,\n",
              "       1.        , 1.        , 1.        , 1.        , 1.        ,\n",
              "       1.        , 1.        , 1.        , 1.        , 1.        ,\n",
              "       1.        , 1.        , 1.        , 1.        , 1.        ,\n",
              "       1.        , 1.        , 1.        , 1.        , 1.        ,\n",
              "       1.        , 1.        , 1.        , 1.        , 1.        ,\n",
              "       1.        , 1.        , 1.        , 1.        , 1.        ,\n",
              "       1.        , 1.        , 1.        , 1.        , 1.        ,\n",
              "       1.        , 1.        , 1.        , 1.        , 1.        ,\n",
              "       1.        , 1.        , 1.        , 1.        , 1.        ,\n",
              "       1.        , 1.        , 1.        , 1.        , 1.        ,\n",
              "       1.        , 1.        , 1.        , 1.        , 1.        ,\n",
              "       1.        , 1.        , 1.        , 1.        , 1.        ,\n",
              "       1.        , 1.        , 1.        , 1.        , 1.        ,\n",
              "       1.        , 1.        , 1.        , 1.        , 1.        ,\n",
              "       1.        , 1.        , 1.        , 1.        , 1.        ,\n",
              "       1.        , 1.        , 1.        , 1.        , 1.        ,\n",
              "       1.        , 1.        , 1.        , 1.        , 1.        ,\n",
              "       1.        , 1.        , 1.        , 1.        , 1.        ,\n",
              "       1.        , 1.        , 1.        , 1.        , 1.        ,\n",
              "       1.        , 1.        , 1.        , 1.        , 1.        ,\n",
              "       1.        , 1.        , 1.        , 1.        , 1.        ,\n",
              "       1.        , 1.        , 1.        , 1.        , 1.        ,\n",
              "       1.        , 1.        , 1.        , 1.        , 1.        ,\n",
              "       1.        , 1.        , 1.        , 1.        , 1.        ,\n",
              "       1.        , 1.        , 1.        , 1.        , 1.        ,\n",
              "       1.        , 1.        , 1.        , 1.        , 1.        ,\n",
              "       1.        , 1.        , 1.        , 1.        , 1.        ,\n",
              "       1.        , 1.        , 1.        , 1.        , 1.        ,\n",
              "       1.        , 1.        , 1.        , 1.        , 1.        ,\n",
              "       1.        , 1.        , 1.        , 1.        , 1.        ,\n",
              "       1.        , 1.        , 1.        , 1.        , 1.        ,\n",
              "       1.        , 1.        , 1.        , 1.        , 1.        ,\n",
              "       1.        , 1.        , 1.        , 1.        , 1.        ,\n",
              "       1.        , 1.        , 1.        , 1.        , 1.        ,\n",
              "       1.        , 1.        , 1.        , 1.        , 1.        ,\n",
              "       1.        , 1.        , 1.        , 1.        , 1.        ,\n",
              "       1.        , 1.        , 1.        , 1.        , 1.        ,\n",
              "       1.        , 1.        , 1.        , 1.        , 1.        ,\n",
              "       1.        , 1.        , 1.        , 1.        , 1.        ,\n",
              "       1.        , 1.        , 1.        , 1.        , 1.        ,\n",
              "       1.        , 1.        , 1.        , 1.        , 1.        ,\n",
              "       1.        , 1.        , 1.        , 1.        , 1.        ,\n",
              "       1.        , 1.        , 1.        , 1.        , 1.        ,\n",
              "       1.        , 1.        , 1.        , 1.        , 1.        ,\n",
              "       1.        , 1.        , 1.        , 1.        , 1.        ,\n",
              "       1.        , 1.        , 1.        , 1.        ])"
            ]
          },
          "execution_count": 31,
          "metadata": {},
          "output_type": "execute_result"
        }
      ],
      "source": [
        "calibrated_KGES"
      ]
    },
    {
      "cell_type": "code",
      "execution_count": 32,
      "metadata": {
        "id": "KcwBoioFp9K9",
        "outputId": "e9aa9d7e-2972-4b4e-f519-4e10ab766559"
      },
      "outputs": [
        {
          "data": {
            "image/png": "[encoded data removed]",
            "text/plain": [
              "<Figure size 640x480 with 1 Axes>"
            ]
          },
          "metadata": {},
          "output_type": "display_data"
        }
      ],
      "source": [
        "from matplotlib import pyplot as plt\n",
        "\n",
        "plt.hist(calibrated_KGES[calibrated_KGES>0], bins = 30)\n",
        "plt.show()"
      ]
    },
    {
      "cell_type": "code",
      "execution_count": 33,
      "metadata": {
        "id": "fBoQkf-Cp9K9",
        "outputId": "4856c289-13ec-4e46-d43d-559f73f757df"
      },
      "outputs": [
        {
          "data": {
            "text/plain": [
              "0.9964116379862726"
            ]
          },
          "execution_count": 33,
          "metadata": {},
          "output_type": "execute_result"
        }
      ],
      "source": [
        "calibrated_KGES.mean()"
      ]
    },
    {
      "cell_type": "code",
      "execution_count": 34,
      "metadata": {
        "id": "TNPOIEy_p9K-",
        "outputId": "dac5fcb6-05dd-456b-89b1-4018cffaa686"
      },
      "outputs": [
        {
          "data": {
            "text/plain": [
              "1.0"
            ]
          },
          "execution_count": 34,
          "metadata": {},
          "output_type": "execute_result"
        }
      ],
      "source": [
        "np.median(calibrated_KGES)"
      ]
    }
  ],
  "metadata": {
    "accelerator": "GPU",
    "colab": {
      "provenance": []
    },
    "gpuClass": "standard",
    "kernelspec": {
      "display_name": "pytorch-env",
      "language": "python",
      "name": "python3"
    },
    "language_info": {
      "codemirror_mode": {
        "name": "ipython",
        "version": 3
      },
      "file_extension": ".py",
      "mimetype": "text/x-python",
      "name": "python",
      "nbconvert_exporter": "python",
      "pygments_lexer": "ipython3",
      "version": "3.10.4"
    },
    "vscode": {
      "interpreter": {
        "hash": "1ddfd6d42648f68c476c776315986cac60a18b45e56ba9b8a233e8441d39da2b"
      }
    }
  },
  "nbformat": 4,
  "nbformat_minor": 0
}
