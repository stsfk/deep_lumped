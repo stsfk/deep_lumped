{
 "cells": [
  {
   "cell_type": "code",
   "execution_count": 1,
   "metadata": {},
   "outputs": [
    {
     "name": "stderr",
     "output_type": "stream",
     "text": [
      "c:\\Users\\User\\Anaconda3\\envs\\pytorch1.13\\lib\\site-packages\\tqdm\\auto.py:22: TqdmWarning: IProgress not found. Please update jupyter and ipywidgets. See https://ipywidgets.readthedocs.io/en/stable/user_install.html\n",
      "  from .autonotebook import tqdm as notebook_tqdm\n"
     ]
    }
   ],
   "source": [
    "import torch\n",
    "import torch.nn as nn\n",
    "import torch.optim as optim\n",
    "\n",
    "from torch.utils.data import Dataset\n",
    "\n",
    "import numpy as np\n",
    "\n",
    "import math\n",
    "\n",
    "import time\n",
    "\n",
    "import dataloader\n",
    "import models\n",
    "import training_fun\n",
    "\n",
    "import optuna\n",
    "\n",
    "import joblib\n",
    "\n",
    "import HydroErr\n",
    "\n",
    "from matplotlib import pyplot as plt\n",
    "\n",
    "import HydroErr"
   ]
  },
  {
   "cell_type": "code",
   "execution_count": 2,
   "metadata": {},
   "outputs": [],
   "source": [
    "DEVICE = torch.device(\"cuda\" if torch.cuda.is_available() else \"cpu\")\n",
    "\n",
    "SEQ_LENGTH = 365 * 2\n",
    "TARGET_SEQ_LENGTH = 365\n",
    "BASE_LENGTH = SEQ_LENGTH - TARGET_SEQ_LENGTH\n",
    "\n",
    "FORCING_DIM = 3\n",
    "\n",
    "N_CATCHMENTS = 671\n",
    "\n",
    "# training hyperparameters\n",
    "EPOCHS = 500\n",
    "TRAIN_YEAR = 9\n",
    "PATIENCE = 20\n",
    "\n",
    "use_amp = True\n",
    "compile_model = False\n",
    "\n",
    "if compile_model:\n",
    "    torch.set_float32_matmul_precision(\"high\")\n",
    "\n",
    "memory_saving = False\n",
    "if memory_saving:\n",
    "    storge_device = \"cpu\"\n",
    "    computing_device = DEVICE\n",
    "    VAL_STEPS = 500\n",
    "else:\n",
    "    storge_device = DEVICE\n",
    "    computing_device = DEVICE"
   ]
  },
  {
   "cell_type": "code",
   "execution_count": 3,
   "metadata": {},
   "outputs": [],
   "source": [
    "study = joblib.load(\"data/camels_lstm_study.pkl\")"
   ]
  },
  {
   "cell_type": "code",
   "execution_count": 4,
   "metadata": {},
   "outputs": [],
   "source": [
    "dtrain_val = dataloader.Forcing_Data(\n",
    "    \"data/all_camels_train_val.csv\",\n",
    "    record_length=3652,\n",
    "    storge_device=storge_device,\n",
    "    seq_length=SEQ_LENGTH,\n",
    "    target_seq_length=TARGET_SEQ_LENGTH,\n",
    "    base_length=BASE_LENGTH,\n",
    ")\n",
    "\n",
    "dtrain = dataloader.Forcing_Data(\n",
    "    \"data/all_camels_train.csv\",\n",
    "    record_length=2922,\n",
    "    storge_device=storge_device,\n",
    "    seq_length=SEQ_LENGTH,\n",
    "    target_seq_length=TARGET_SEQ_LENGTH,\n",
    "    base_length=BASE_LENGTH,\n",
    ")\n",
    "\n",
    "dval = dataloader.Forcing_Data(\n",
    "    \"data/all_camels_val.csv\",\n",
    "    record_length=1095,\n",
    "    storge_device=storge_device,\n",
    "    seq_length=SEQ_LENGTH,\n",
    "    target_seq_length=TARGET_SEQ_LENGTH,\n",
    "    base_length=BASE_LENGTH,\n",
    ")\n",
    "\n",
    "dtest = dataloader.Forcing_Data(\n",
    "    \"data/all_camels_test.csv\",\n",
    "    record_length=4383,\n",
    "    storge_device=storge_device,\n",
    "    seq_length=SEQ_LENGTH,\n",
    "    target_seq_length=TARGET_SEQ_LENGTH,\n",
    "    base_length=BASE_LENGTH,\n",
    ")"
   ]
  },
  {
   "cell_type": "code",
   "execution_count": 5,
   "metadata": {},
   "outputs": [],
   "source": [
    "def get_optimal_epochs(study):\n",
    "    \n",
    "    stats = study.best_trials[0].intermediate_values\n",
    "    epochs = min(stats, key=lambda k: stats[k]) + 1\n",
    "    \n",
    "    return epochs"
   ]
  },
  {
   "cell_type": "code",
   "execution_count": 6,
   "metadata": {},
   "outputs": [],
   "source": [
    "def get_final_model(study, dataset, n_catchments =N_CATCHMENTS, epoch_scale = 19/TRAIN_YEAR): #19/39\n",
    "\n",
    "    trial = study.best_trial\n",
    "\n",
    "    # define model\n",
    "    model_builder = training_fun.LSTM_model_builder(\n",
    "        n_catchments, base_length=365, forcing_dim=3\n",
    "    )\n",
    "\n",
    "    embedding, decoder = model_builder.define_model(trial)\n",
    "\n",
    "    embedding, decoder = embedding.to(computing_device), decoder.to(\n",
    "        computing_device\n",
    "    )\n",
    "\n",
    "    if compile_model:\n",
    "        # pytorch2.0 new feature, complile model for fast training\n",
    "        embedding, decoder = torch.compile(embedding), torch.compile(decoder)\n",
    "\n",
    "\n",
    "    # define model training hyperparameters\n",
    "    # define optimizers\n",
    "    lr_embedding = trial.suggest_float(\"lr_embedding\", 5e-5, 1e-2, log=True)\n",
    "    embedding_optimizer = optim.Adam(embedding.parameters(), lr=lr_embedding)\n",
    "\n",
    "    lr_decoder = trial.suggest_float(\"lr_decoder\", 5e-5, 1e-2, log=True)\n",
    "    decoder_optimizer = optim.Adam(decoder.parameters(), lr=lr_decoder)\n",
    "\n",
    "    scaler = torch.cuda.amp.GradScaler(enabled=use_amp)\n",
    "\n",
    "    # define batch size\n",
    "    batch_size_power = trial.suggest_int(\"batch_size_power\", 4, 8)\n",
    "    batch_size = 2**batch_size_power\n",
    "\n",
    "    # define optimal epochs\n",
    "    epochs = round(get_optimal_epochs(study)*epoch_scale)\n",
    "\n",
    "        # steps per epoch\n",
    "    steps = round(N_CATCHMENTS * TRAIN_YEAR / batch_size)\n",
    "\n",
    "        # train model\n",
    "    for epoch in range(epochs):\n",
    "\n",
    "        # for each epoch get_random_batch method generates a batch that contains one year data for each catchment\n",
    "        # repeat TRAIN_YEAR times to finish an epoch\n",
    "        decoder.train()\n",
    "        embedding.train()\n",
    "\n",
    "        for step in range(steps):\n",
    "\n",
    "            decoder_optimizer.zero_grad()\n",
    "            embedding_optimizer.zero_grad()\n",
    "\n",
    "            # put the models into training mode\n",
    "            decoder.train()\n",
    "            embedding.train()\n",
    "\n",
    "            # get training batch and pass to device\n",
    "            (x_batch, y_batch, selected_catchments) = dataset.get_random_batch(\n",
    "                batch_size\n",
    "            )\n",
    "\n",
    "            x_batch, y_batch, selected_catchments = (\n",
    "                x_batch.to(computing_device),\n",
    "                y_batch.to(computing_device),\n",
    "                selected_catchments.to(computing_device),\n",
    "            )\n",
    "\n",
    "            # slice batch for training\n",
    "            with torch.autocast(\n",
    "                device_type=\"cuda\", dtype=torch.float16, enabled=use_amp\n",
    "            ):\n",
    "                code = embedding(selected_catchments)\n",
    "\n",
    "                # pass through decoder\n",
    "                out = decoder.decode(code, x_batch)\n",
    "\n",
    "                # compute loss\n",
    "                loss = training_fun.mse_loss_with_nans(out, y_batch)\n",
    "\n",
    "            scaler.scale(loss).backward()\n",
    "            scaler.step(embedding_optimizer)\n",
    "            scaler.step(decoder_optimizer)\n",
    "            scaler.update()\n",
    "\n",
    "    return embedding, decoder"
   ]
  },
  {
   "cell_type": "code",
   "execution_count": 7,
   "metadata": {},
   "outputs": [],
   "source": [
    "embedding, decoder = get_final_model(study, dtrain_val)"
   ]
  },
  {
   "cell_type": "code",
   "execution_count": 8,
   "metadata": {},
   "outputs": [],
   "source": [
    "torch.save(embedding.cpu(), \"data/camles_final_lstm_embedding.pt\")\n",
    "torch.save(decoder.cpu(), \"data/camels_final_lstm_decoder.pt\")"
   ]
  },
  {
   "cell_type": "markdown",
   "metadata": {},
   "source": [
    "# Evaluation"
   ]
  },
  {
   "cell_type": "code",
   "execution_count": 9,
   "metadata": {},
   "outputs": [],
   "source": [
    "embedding = torch.load(\"data/camles_final_lstm_embedding.pt\").to(computing_device)\n",
    "decoder = torch.load(\"data/camels_final_lstm_decoder.pt\", map_location=torch.device('cpu')).to(computing_device)\n",
    "\n",
    "embedding.eval()\n",
    "decoder.eval()\n",
    "\n",
    "# dimension of embedding\n",
    "catchment_embeddings=[x.data for x in embedding.parameters()][0]\n",
    "LATENT_dim = catchment_embeddings.shape[1]"
   ]
  },
  {
   "cell_type": "code",
   "execution_count": 10,
   "metadata": {},
   "outputs": [],
   "source": [
    "class Objective_builder:\n",
    "    def __init__(self, x, y, eval_fun):\n",
    "        self.eval_fun = eval_fun\n",
    "        self.x = x.contiguous()\n",
    "        self.y = y.contiguous()\n",
    "    \n",
    "    def eval(self, code, return_summary = True):\n",
    "        \n",
    "        # numpy to torch tensor\n",
    "        code = torch.from_numpy(code).unsqueeze(0).to(dtype=torch.float32).to(computing_device)\n",
    "        code = code.expand(self.x.shape[0], -1)\n",
    "        \n",
    "        # BASE_LENGTH is from global\n",
    "        pred = decoder.decode(code, self.x).view(-1).detach().cpu().numpy()\n",
    "\n",
    "        ob = self.y.view(-1).detach().cpu().numpy()\n",
    "        \n",
    "        if return_summary:\n",
    "          gof = self.eval_fun(simulated_array=pred, observed_array=ob)\n",
    "          return gof\n",
    "        else:\n",
    "          return pred, ob"
   ]
  },
  {
   "cell_type": "code",
   "execution_count": 11,
   "metadata": {},
   "outputs": [
    {
     "data": {
      "text/plain": [
       "(torch.Size([12, 671, 730, 3]), torch.Size([12, 671, 365]))"
      ]
     },
     "execution_count": 11,
     "metadata": {},
     "output_type": "execute_result"
    }
   ],
   "source": [
    "x_batch_test, y_batch_test = dtest.get_val_batch()\n",
    "x_batch_test.shape, y_batch_test.shape"
   ]
  },
  {
   "cell_type": "code",
   "execution_count": 12,
   "metadata": {},
   "outputs": [],
   "source": [
    "def eval_catchment(selected_catchment):\n",
    "    \n",
    "    x = x_batch_test[:,selected_catchment,:,:]\n",
    "    y = y_batch_test[:,selected_catchment,:]\n",
    "\n",
    "    x, y = x.to(computing_device), y.to(computing_device)\n",
    "\n",
    "    fn = Objective_builder(x,y,HydroErr.kge_2009)\n",
    "    \n",
    "    return  fn.eval(catchment_embeddings[selected_catchment,:].cpu().detach().numpy())"
   ]
  },
  {
   "cell_type": "code",
   "execution_count": 13,
   "metadata": {},
   "outputs": [
    {
     "name": "stderr",
     "output_type": "stream",
     "text": [
      "c:\\Users\\User\\Anaconda3\\envs\\pytorch1.13\\lib\\site-packages\\HydroErr\\HydroErr.py:6248: UserWarning: Row(s) [4018 4019 4020 4021 4022 4023 4024 4025 4026 4027 4028 4029 4030 4031\n",
      " 4032 4033 4034 4035 4036 4037 4038 4039 4040 4041 4042 4043 4044 4045\n",
      " 4046 4047 4048 4049 4050 4051 4052 4053 4054 4055 4056 4057 4058 4059\n",
      " 4060 4061 4062 4063 4064 4065 4066 4067 4068 4069 4070 4071 4072 4073\n",
      " 4074 4075 4076 4077 4078 4079 4080 4081 4082 4083 4084 4085 4086 4087\n",
      " 4088 4089 4090 4091 4092 4093 4094 4095 4096 4097 4098 4099 4100 4101\n",
      " 4102 4103 4104 4105 4106 4107 4108 4109 4110 4111 4112 4113 4114 4115\n",
      " 4116 4117 4118 4119 4120 4121 4122 4123 4124 4125 4126 4127 4128 4129\n",
      " 4130 4131 4132 4133 4134 4135 4136 4137 4138 4139 4140 4141 4142 4143\n",
      " 4144 4145 4146 4147 4148 4149 4150 4151 4152 4153 4154 4155 4156 4157\n",
      " 4158 4159 4160 4161 4162 4163 4164 4165 4166 4167 4168 4169 4170 4171\n",
      " 4172 4173 4174 4175 4176 4177 4178 4179 4180 4181 4182 4183 4184 4185\n",
      " 4186 4187 4188 4189 4190 4191 4192 4193 4194 4195 4196 4197 4198 4199\n",
      " 4200 4201 4202 4203 4204 4205 4206 4207 4208 4209 4210 4211 4212 4213\n",
      " 4214 4215 4216 4217 4218 4219 4220 4221 4222 4223 4224 4225 4226 4227\n",
      " 4228 4229 4230 4231 4232 4233 4234 4235 4236 4237 4238 4239 4240 4241\n",
      " 4242 4243 4244 4245 4246 4247 4248 4249 4250 4251 4252 4253 4254 4255\n",
      " 4256 4257 4258 4259 4260 4261 4262 4263 4264 4265 4266 4267 4268 4269\n",
      " 4270 4271 4272 4273 4274 4275 4276 4277 4278 4279 4280 4281 4282 4283\n",
      " 4284 4285 4286 4287 4288 4289 4290 4291 4292 4293 4294 4295 4296 4297\n",
      " 4298 4299 4300 4301 4302 4303 4304 4305 4306 4307 4308 4309 4310 4311\n",
      " 4312 4313 4314 4315 4316 4317 4318 4319 4320 4321 4322 4323 4324 4325\n",
      " 4326 4327 4328 4329 4330 4331 4332 4333 4334 4335 4336 4337 4338 4339\n",
      " 4340 4341 4342 4343 4344 4345 4346 4347 4348 4349 4350 4351 4352 4353\n",
      " 4354 4355 4356 4357 4358 4359 4360 4361 4362 4363 4364 4365 4366 4367\n",
      " 4368 4369 4370 4371 4372 4373 4374 4375 4376 4377 4378 4379] contained NaN values and the row(s) have been removed (Rows are zero indexed).\n",
      "  warnings.warn(\"Row(s) {} contained NaN values and the row(s) have been \"\n",
      "c:\\Users\\User\\Anaconda3\\envs\\pytorch1.13\\lib\\site-packages\\HydroErr\\HydroErr.py:6248: UserWarning: Row(s) [ 639  640  641 ... 4377 4378 4379] contained NaN values and the row(s) have been removed (Rows are zero indexed).\n",
      "  warnings.warn(\"Row(s) {} contained NaN values and the row(s) have been \"\n",
      "c:\\Users\\User\\Anaconda3\\envs\\pytorch1.13\\lib\\site-packages\\HydroErr\\HydroErr.py:6248: UserWarning: Row(s) [1270 1271 4018 4019 4020 4021 4022 4023 4024 4025 4026 4027 4028 4029\n",
      " 4030 4031 4032 4033 4034 4035 4036 4037 4038 4039 4040 4041 4042 4043\n",
      " 4044 4045 4046 4047 4048 4049 4050 4051 4052 4053 4054 4055 4056 4057\n",
      " 4058 4059 4060 4061 4062 4063 4064 4065 4066 4067 4068 4069 4070 4071\n",
      " 4072 4073 4074 4075 4076 4077 4078 4079 4080 4081 4082 4083 4084 4085\n",
      " 4086 4087 4088 4089 4090 4091 4092 4093 4094 4095 4096 4097 4098 4099\n",
      " 4100 4101 4102 4103 4104 4105 4106 4107 4108 4109 4110 4111 4112 4113\n",
      " 4114 4115 4116 4117 4118 4119 4120 4121 4122 4123 4124 4125 4126 4127\n",
      " 4128 4129 4130 4131 4132 4133 4134 4135 4136 4137 4138 4139 4140 4141\n",
      " 4142 4143 4144 4145 4146 4147 4148 4149 4150 4151 4152 4153 4154 4155\n",
      " 4156 4157 4158 4159 4160 4161 4162 4163 4164 4165 4166 4167 4168 4169\n",
      " 4170 4171 4172 4173 4174 4175 4176 4177 4178 4179 4180 4181 4182 4183\n",
      " 4184 4185 4186 4187 4188 4189 4190 4191 4192 4193 4194 4195 4196 4197\n",
      " 4198 4199 4200 4201 4202 4203 4204 4205 4206 4207 4208 4209 4210 4211\n",
      " 4212 4213 4214 4215 4216 4217 4218 4219 4220 4221 4222 4223 4224 4225\n",
      " 4226 4227 4228 4229 4230 4231 4232 4233 4234 4235 4236 4237 4238 4239\n",
      " 4240 4241 4242 4243 4244 4245 4246 4247 4248 4249 4250 4251 4252 4253\n",
      " 4254 4255 4256 4257 4258 4259 4260 4261 4262 4263 4264 4265 4266 4267\n",
      " 4268 4269 4270 4271 4272 4273 4274 4275 4276 4277 4278 4279 4280 4281\n",
      " 4282 4283 4284 4285 4286 4287 4288 4289 4290 4291 4292 4293 4294 4295\n",
      " 4296 4297 4298 4299 4300 4301 4302 4303 4304 4305 4306 4307 4308 4309\n",
      " 4310 4311 4312 4313 4314 4315 4316 4317 4318 4319 4320 4321 4322 4323\n",
      " 4324 4325 4326 4327 4328 4329 4330 4331 4332 4333 4334 4335 4336 4337\n",
      " 4338 4339 4340 4341 4342 4343 4344 4345 4346 4347 4348 4349 4350 4351\n",
      " 4352 4353 4354 4355 4356 4357 4358 4359 4360 4361 4362 4363 4364 4365\n",
      " 4366 4367 4368 4369 4370 4371 4372 4373 4374 4375 4376 4377 4378 4379] contained NaN values and the row(s) have been removed (Rows are zero indexed).\n",
      "  warnings.warn(\"Row(s) {} contained NaN values and the row(s) have been \"\n",
      "c:\\Users\\User\\Anaconda3\\envs\\pytorch1.13\\lib\\site-packages\\HydroErr\\HydroErr.py:6248: UserWarning: Row(s) [3926 3927 3928 3929 3930 3931 3932 3933 3934 3935 3936 3937 3938 3939\n",
      " 3940 3941 3942 3943 3944 3945 3946 3947 3948 3949 3950 3951 3952 3953\n",
      " 3954 3955 3956 3957 3958 3959 3960 3961 3962 3963 3964 3965 3966 3967\n",
      " 3968 3969 3970 3971 3972 3973 3974 3975 3976 3977 3978 3979 3980 3981\n",
      " 3982 3983 3984 3985 3986 3987 3988 3989 3990 3991 3992 3993 3994 3995\n",
      " 3996 3997 3998 3999 4000 4001 4002 4003 4004 4005 4006 4007 4008 4009\n",
      " 4010 4011 4012 4013 4014 4015 4016 4017 4018 4019 4020 4021 4022 4023\n",
      " 4024 4025 4026 4027 4028 4029 4030 4031 4032 4033 4034 4035 4036 4037\n",
      " 4038 4039 4040 4041 4042 4043 4044 4045 4046 4047 4048 4049 4050 4051\n",
      " 4052 4053 4054 4055 4056 4057 4058 4059 4060 4061 4062 4063 4064 4065\n",
      " 4066 4067 4068 4069 4070 4071 4072 4073 4074 4075 4076 4077 4078 4079\n",
      " 4080 4081 4082 4083 4084 4085 4086 4087 4088 4089 4090 4091 4092 4093\n",
      " 4094 4095 4096 4097 4098 4099 4100 4101 4102 4103 4104 4105 4106 4107\n",
      " 4108 4109 4110 4111 4112 4113 4114 4115 4116 4117 4118 4119 4120 4121\n",
      " 4122 4123 4124 4125 4126 4127 4128 4129 4130 4131 4132 4133 4134 4135\n",
      " 4136 4137 4138 4139 4140 4141 4142 4143 4144 4145 4146 4147 4148 4149\n",
      " 4150 4151 4152 4153 4154 4155 4156 4157 4158 4159 4160 4161 4162 4163\n",
      " 4164 4165 4166 4167 4168 4169 4170 4171 4172 4173 4174 4175 4176 4177\n",
      " 4178 4179 4180 4181 4182 4183 4184 4185 4186 4187 4188 4189 4190 4191\n",
      " 4192 4193 4194 4195 4196 4197 4198 4199 4200 4201 4202 4203 4204 4205\n",
      " 4206 4207 4208 4209 4210 4211 4212 4213 4214 4215 4216 4217 4218 4219\n",
      " 4220 4221 4222 4223 4224 4225 4226 4227 4228 4229 4230 4231 4232 4233\n",
      " 4234 4235 4236 4237 4238 4239 4240 4241 4242 4243 4244 4245 4246 4247\n",
      " 4248 4249 4250 4251 4252 4253 4254 4255 4256 4257 4258 4259 4260 4261\n",
      " 4262 4263 4264 4265 4266 4267 4268 4269 4270 4271 4272 4273 4274 4275\n",
      " 4276 4277 4278 4279 4280 4281 4282 4283 4284 4285 4286 4287 4288 4289\n",
      " 4290 4291 4292 4293 4294 4295 4296 4297 4298 4299 4300 4301 4302 4303\n",
      " 4304 4305 4306 4307 4308 4309 4310 4311 4312 4313 4314 4315 4316 4317\n",
      " 4318 4319 4320 4321 4322 4323 4324 4325 4326 4327 4328 4329 4330 4331\n",
      " 4332 4333 4334 4335 4336 4337 4338 4339 4340 4341 4342 4343 4344 4345\n",
      " 4346 4347 4348 4349 4350 4351 4352 4353 4354 4355 4356 4357 4358 4359\n",
      " 4360 4361 4362 4363 4364 4365 4366 4367 4368 4369 4370 4371 4372 4373\n",
      " 4374 4375 4376 4377 4378 4379] contained NaN values and the row(s) have been removed (Rows are zero indexed).\n",
      "  warnings.warn(\"Row(s) {} contained NaN values and the row(s) have been \"\n",
      "c:\\Users\\User\\Anaconda3\\envs\\pytorch1.13\\lib\\site-packages\\HydroErr\\HydroErr.py:6248: UserWarning: Row(s) [3926 3927 3928 3929 3930 3931 3932 3933 3934 3935 3936 3937 3938 3941\n",
      " 3942 3943 3944 3945 3946 3947 3948 3949 3950 3951 3952 3953 3954 3955\n",
      " 3958 3959 3960 3961 3962 3963 3964 3965 3966 3967 3968 3969 3970 3971\n",
      " 3972 3973 3974 3975 3976 3977 3978 3979 3980 3981 3982 3983 3984 3985\n",
      " 3986 3987 3988 3989 3990 3991 3992 3993 3994 3996 3997 3998 3999 4000\n",
      " 4003 4004 4006 4007 4008 4009 4010 4011 4012 4013 4014 4015 4016 4017\n",
      " 4018 4019 4020 4021 4022 4023 4024 4025 4026 4027 4028 4029 4030 4031\n",
      " 4032 4033 4034 4035 4036 4037 4038 4039 4040 4041 4042 4043 4044 4045\n",
      " 4046 4047 4048 4049 4050 4051 4052 4053 4054 4055 4056 4057 4058 4059\n",
      " 4060 4061 4062 4063 4064 4065 4066 4067 4068 4069 4070 4071 4072 4073\n",
      " 4074 4075 4076 4077 4078 4079 4080 4081 4082 4083 4084 4085 4086 4087\n",
      " 4088 4089 4090 4091 4092 4093 4094 4095 4096 4097 4098 4099 4100 4101\n",
      " 4102 4103 4104 4105 4106 4107 4108 4109 4110 4111 4112 4113 4114 4115\n",
      " 4116 4117 4118 4119 4120 4121 4122 4123 4124 4125 4126 4127 4128 4129\n",
      " 4130 4131 4132 4133 4134 4135 4136 4137 4138 4139 4140 4141 4142 4143\n",
      " 4144 4145 4146 4147 4148 4149 4150 4151 4152 4153 4154 4155 4156 4157\n",
      " 4158 4159 4160 4161 4162 4163 4164 4165 4166 4167 4168 4169 4170 4171\n",
      " 4172 4173 4174 4175 4176 4177 4178 4179 4180 4181 4182 4183 4184 4185\n",
      " 4186 4187 4188 4189 4190 4191 4192 4193 4194 4195 4196 4197 4198 4199\n",
      " 4200 4201 4202 4203 4204 4205 4206 4207 4208 4209 4210 4211 4212 4213\n",
      " 4214 4215 4216 4217 4218 4219 4220 4221 4222 4223 4224 4225 4226 4227\n",
      " 4228 4229 4230 4231 4232 4233 4234 4235 4236 4237 4238 4239 4240 4241\n",
      " 4242 4243 4244 4245 4246 4247 4248 4249 4250 4251 4252 4253 4254 4255\n",
      " 4256 4257 4258 4259 4260 4261 4262 4263 4264 4265 4266 4267 4268 4269\n",
      " 4270 4271 4272 4273 4274 4275 4276 4277 4278 4279 4280 4281 4282 4283\n",
      " 4284 4285 4286 4287 4288 4289 4290 4291 4292 4293 4294 4295 4296 4297\n",
      " 4298 4299 4300 4301 4302 4303 4304 4305 4306 4307 4308 4309 4310 4311\n",
      " 4312 4313 4314 4315 4316 4317 4318 4319 4320 4321 4322 4323 4324 4325\n",
      " 4326 4327 4328 4329 4330 4331 4332 4333 4334 4335 4336 4337 4338 4339\n",
      " 4340 4341 4342 4343 4344 4345 4346 4347 4348 4349 4350 4351 4352 4353\n",
      " 4354 4355 4356 4357 4358 4359 4360 4361 4362 4363 4364 4365 4366 4367\n",
      " 4368 4369 4370 4371 4372 4373 4374 4375 4376 4377 4378 4379] contained NaN values and the row(s) have been removed (Rows are zero indexed).\n",
      "  warnings.warn(\"Row(s) {} contained NaN values and the row(s) have been \"\n",
      "c:\\Users\\User\\Anaconda3\\envs\\pytorch1.13\\lib\\site-packages\\HydroErr\\HydroErr.py:6248: UserWarning: Row(s) [3926 3927 3928 3929 3930 3931 3932 3933 3934 3935 3936 3937 3938 3939\n",
      " 3940 3941 3942 3943 3944 3945 3946 3947 3948 3949 3950 3951 3952 3953\n",
      " 3954 3955 3956 3957 3958 3959 3960 3961 3962 3963 3964 3965 3966 3967\n",
      " 3968 3969 3970 3971 3972 3973 3974 3975 3976 3977 3978 3979 3980 3981\n",
      " 3982 3983 3984 3985 3986 3987 3988 3989 3990 3991 3992 3993 3994 3995\n",
      " 3996 3997 3998 4000 4001 4002 4003 4004 4005 4006 4007 4008 4009 4010\n",
      " 4011 4012 4013 4014 4015 4016 4018 4019 4020 4021 4022 4023 4024 4025\n",
      " 4026 4027 4028 4029 4030 4031 4032 4033 4034 4035 4036 4037 4038 4039\n",
      " 4040 4041 4042 4043 4044 4045 4046 4047 4048 4049 4050 4051 4052 4053\n",
      " 4054 4055 4056 4057 4058 4059 4060 4061 4062 4063 4064 4065 4066 4067\n",
      " 4068 4069 4070 4071 4072 4073 4074 4075 4076 4077 4078 4079 4080 4081\n",
      " 4082 4083 4084 4085 4086 4087 4088 4089 4090 4091 4092 4093 4094 4095\n",
      " 4096 4097 4098 4099 4100 4101 4102 4103 4104 4105 4106 4107 4108 4109\n",
      " 4110 4111 4112 4113 4114 4115 4116 4117 4118 4119 4120 4121 4122 4123\n",
      " 4124 4125 4126 4127 4128 4129 4130 4131 4132 4133 4134 4135 4136 4137\n",
      " 4138 4139 4140 4141 4142 4143 4144 4145 4146 4147 4148 4149 4150 4151\n",
      " 4152 4153 4154 4155 4156 4157 4158 4159 4160 4161 4162 4163 4164 4165\n",
      " 4166 4167 4168 4169 4170 4171 4172 4173 4174 4175 4176 4177 4178 4179\n",
      " 4180 4181 4182 4183 4184 4185 4186 4187 4188 4189 4190 4191 4192 4193\n",
      " 4194 4195 4196 4197 4198 4199 4200 4201 4202 4203 4204 4205 4206 4207\n",
      " 4208 4209 4210 4211 4212 4213 4214 4215 4216 4217 4218 4219 4220 4221\n",
      " 4222 4223 4224 4225 4226 4227 4228 4229 4230 4231 4232 4233 4234 4235\n",
      " 4236 4237 4238 4239 4240 4241 4242 4243 4244 4245 4246 4247 4248 4249\n",
      " 4250 4251 4252 4253 4254 4255 4256 4257 4258 4259 4260 4261 4262 4263\n",
      " 4264 4265 4266 4267 4268 4269 4270 4271 4272 4273 4274 4275 4276 4277\n",
      " 4278 4279 4280 4281 4282 4283 4284 4285 4286 4287 4288 4289 4290 4291\n",
      " 4292 4293 4294 4295 4296 4297 4298 4299 4300 4301 4302 4303 4304 4305\n",
      " 4306 4307 4308 4309 4310 4311 4312 4313 4314 4315 4316 4317 4318 4319\n",
      " 4320 4321 4322 4323 4324 4325 4326 4327 4328 4329 4330 4331 4332 4333\n",
      " 4334 4335 4336 4337 4338 4339 4340 4341 4342 4343 4344 4345 4346 4347\n",
      " 4348 4349 4350 4351 4352 4353 4354 4355 4356 4357 4358 4359 4360 4361\n",
      " 4362 4363 4364 4365 4366 4367 4368 4369 4370 4371 4372 4373 4374 4375\n",
      " 4376 4377 4378 4379] contained NaN values and the row(s) have been removed (Rows are zero indexed).\n",
      "  warnings.warn(\"Row(s) {} contained NaN values and the row(s) have been \"\n",
      "c:\\Users\\User\\Anaconda3\\envs\\pytorch1.13\\lib\\site-packages\\HydroErr\\HydroErr.py:6248: UserWarning: Row(s) [3199 4018 4019 4020 4021 4022 4023 4024 4025 4026 4027 4028 4029 4030\n",
      " 4031 4032 4033 4034 4035 4036 4037 4038 4039 4040 4041 4042 4043 4044\n",
      " 4045 4046 4047 4048 4049 4050 4051 4052 4053 4054 4055 4056 4057 4058\n",
      " 4059 4060 4061 4062 4063 4064 4065 4066 4067 4068 4069 4070 4071 4072\n",
      " 4073 4074 4075 4076 4077 4078 4079 4080 4081 4082 4083 4084 4085 4086\n",
      " 4087 4088 4089 4090 4091 4092 4093 4094 4095 4096 4097 4098 4099 4100\n",
      " 4101 4102 4103 4104 4105 4106 4107 4108 4109 4110 4111 4112 4113 4114\n",
      " 4115 4116 4117 4118 4119 4120 4121 4122 4123 4124 4125 4126 4127 4128\n",
      " 4129 4130 4131 4132 4133 4134 4135 4136 4137 4138 4139 4140 4141 4142\n",
      " 4143 4144 4145 4146 4147 4148 4149 4150 4151 4152 4153 4154 4155 4156\n",
      " 4157 4158 4159 4160 4161 4162 4163 4164 4165 4166 4167 4168 4169 4170\n",
      " 4171 4172 4173 4174 4175 4176 4177 4178 4179 4180 4181 4182 4183 4184\n",
      " 4185 4186 4187 4188 4189 4190 4191 4192 4193 4194 4195 4196 4197 4198\n",
      " 4199 4200 4201 4202 4203 4204 4205 4206 4207 4208 4209 4210 4211 4212\n",
      " 4213 4214 4215 4216 4217 4218 4219 4220 4221 4222 4223 4224 4225 4226\n",
      " 4227 4228 4229 4230 4231 4232 4233 4234 4235 4236 4237 4238 4239 4240\n",
      " 4241 4242 4243 4244 4245 4246 4247 4248 4249 4250 4251 4252 4253 4254\n",
      " 4255 4256 4257 4258 4259 4260 4261 4262 4263 4264 4265 4266 4267 4268\n",
      " 4269 4270 4271 4272 4273 4274 4275 4276 4277 4278 4279 4280 4281 4282\n",
      " 4283 4284 4285 4286 4287 4288 4289 4290 4291 4292 4293 4294 4295 4296\n",
      " 4297 4298 4299 4300 4301 4302 4303 4304 4305 4306 4307 4308 4309 4310\n",
      " 4311 4312 4313 4314 4315 4316 4317 4318 4319 4320 4321 4322 4323 4324\n",
      " 4325 4326 4327 4328 4329 4330 4331 4332 4333 4334 4335 4336 4337 4338\n",
      " 4339 4340 4341 4342 4343 4344 4345 4346 4347 4348 4349 4350 4351 4352\n",
      " 4353 4354 4355 4356 4357 4358 4359 4360 4361 4362 4363 4364 4365 4366\n",
      " 4367 4368 4369 4370 4371 4372 4373 4374 4375 4376 4377 4378 4379] contained NaN values and the row(s) have been removed (Rows are zero indexed).\n",
      "  warnings.warn(\"Row(s) {} contained NaN values and the row(s) have been \"\n"
     ]
    }
   ],
   "source": [
    "calibrated_KGES = np.ones(N_CATCHMENTS)\n",
    "\n",
    "for i in range(N_CATCHMENTS):\n",
    "    #print(f'i={i} starts')\n",
    "    calibrated_KGES[i]  = eval_catchment(i)\n",
    "    #print(f'fit={calibrated_KGES[i]}')"
   ]
  },
  {
   "cell_type": "code",
   "execution_count": 14,
   "metadata": {},
   "outputs": [
    {
     "data": {
      "image/png": "[encoded data removed]",
      "text/plain": [
       "<Figure size 640x480 with 1 Axes>"
      ]
     },
     "metadata": {},
     "output_type": "display_data"
    }
   ],
   "source": [
    "from matplotlib import pyplot as plt\n",
    "\n",
    "plt.hist(calibrated_KGES[calibrated_KGES>0], bins = 30)\n",
    "plt.show()"
   ]
  },
  {
   "cell_type": "code",
   "execution_count": 15,
   "metadata": {},
   "outputs": [
    {
     "data": {
      "text/plain": [
       "0.6058311566899195"
      ]
     },
     "execution_count": 15,
     "metadata": {},
     "output_type": "execute_result"
    }
   ],
   "source": [
    "calibrated_KGES.mean()"
   ]
  },
  {
   "cell_type": "code",
   "execution_count": 16,
   "metadata": {},
   "outputs": [
    {
     "data": {
      "text/plain": [
       "0.7101414821588832"
      ]
     },
     "execution_count": 16,
     "metadata": {},
     "output_type": "execute_result"
    }
   ],
   "source": [
    "np.median(calibrated_KGES)"
   ]
  }
 ],
 "metadata": {
  "kernelspec": {
   "display_name": "pytorch-env",
   "language": "python",
   "name": "python3"
  },
  "language_info": {
   "codemirror_mode": {
    "name": "ipython",
    "version": 3
   },
   "file_extension": ".py",
   "mimetype": "text/x-python",
   "name": "python",
   "nbconvert_exporter": "python",
   "pygments_lexer": "ipython3",
   "version": "3.10.8"
  },
  "vscode": {
   "interpreter": {
    "hash": "1ddfd6d42648f68c476c776315986cac60a18b45e56ba9b8a233e8441d39da2b"
   }
  }
 },
 "nbformat": 4,
 "nbformat_minor": 4
}
