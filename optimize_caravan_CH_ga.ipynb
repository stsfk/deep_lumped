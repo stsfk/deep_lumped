{
  "cells": [
    {
      "cell_type": "code",
      "execution_count": 1,
      "metadata": {
        "id": "95vm9FxGQ7KK"
      },
      "outputs": [
        {
          "name": "stderr",
          "output_type": "stream",
          "text": [
            "c:\\Users\\User\\Anaconda3\\envs\\pytorch2\\Lib\\site-packages\\tqdm\\auto.py:21: TqdmWarning: IProgress not found. Please update jupyter and ipywidgets. See https://ipywidgets.readthedocs.io/en/stable/user_install.html\n",
            "  from .autonotebook import tqdm as notebook_tqdm\n"
          ]
        }
      ],
      "source": [
        "import torch\n",
        "import torch.nn as nn\n",
        "import torch.optim as optim\n",
        "\n",
        "from torch.utils.data import Dataset\n",
        "\n",
        "import numpy as np\n",
        "\n",
        "import math\n",
        "\n",
        "import time\n",
        "\n",
        "import dataloader\n",
        "import models\n",
        "import training_fun\n",
        "\n",
        "import optuna\n",
        "\n",
        "import joblib\n",
        "\n",
        "import pygad\n",
        "\n",
        "import HydroErr"
      ]
    },
    {
      "cell_type": "code",
      "execution_count": 2,
      "metadata": {
        "id": "oJcpZUdpp9K3"
      },
      "outputs": [],
      "source": [
        "DEVICE = torch.device(\"cuda\" if torch.cuda.is_available() else \"cpu\")\n",
        "\n",
        "SEQ_LENGTH = 365 * 2\n",
        "TARGET_SEQ_LENGTH = 365\n",
        "BASE_LENGTH = SEQ_LENGTH - TARGET_SEQ_LENGTH\n",
        "\n",
        "FORCING_DIM = 3\n",
        "\n",
        "N_CATCHMENTS = 270\n",
        "\n",
        "# training hyperparameters\n",
        "\n",
        "use_amp = True\n",
        "compile_model = False\n",
        "\n",
        "if compile_model:\n",
        "    torch.set_float32_matmul_precision(\"high\")\n",
        "\n",
        "memory_saving = False\n",
        "if memory_saving:\n",
        "    storge_device = \"cpu\"\n",
        "    computing_device = DEVICE\n",
        "    VAL_STEPS = 500\n",
        "else:\n",
        "    storge_device = DEVICE\n",
        "    computing_device = DEVICE"
      ]
    },
    {
      "cell_type": "code",
      "execution_count": 3,
      "metadata": {
        "id": "ceCEmnygRmye"
      },
      "outputs": [],
      "source": [
        "embedding = torch.load(\"data/final_lstm_embedding2.pt\", map_location=torch.device('cpu')).to(computing_device)\n",
        "decoder = torch.load(\"data/final_lstm_decoder2.pt\", map_location=torch.device('cpu')).to(computing_device)\n",
        "\n",
        "embedding.eval()\n",
        "decoder.eval()\n",
        "\n",
        "# dimension of embedding\n",
        "catchment_embeddings=[x.data for x in embedding.parameters()][0]\n",
        "LATENT_dim = catchment_embeddings.shape[1]"
      ]
    },
    {
      "cell_type": "code",
      "execution_count": 4,
      "metadata": {
        "id": "nGxVHBn3p9K4"
      },
      "outputs": [],
      "source": [
        "dtrain_val = dataloader.Forcing_Data(\n",
        "    \"data/data_train_val_CARAVAN_CH.csv\",\n",
        "    record_length=10957,\n",
        "    storge_device=storge_device,\n",
        "    seq_length=SEQ_LENGTH,\n",
        "    target_seq_length=TARGET_SEQ_LENGTH,\n",
        "    base_length=BASE_LENGTH,\n",
        ")\n",
        "\n",
        "# dtrain = dataloader.Forcing_Data(\n",
        "#     \"camels_train.csv\",\n",
        "#     record_length=2922,\n",
        "#     storge_device=storge_device,\n",
        "#     seq_length=SEQ_LENGTH,\n",
        "#     target_seq_length=TARGET_SEQ_LENGTH,\n",
        "#     base_length=BASE_LENGTH,\n",
        "# )\n",
        "\n",
        "# dval = dataloader.Forcing_Data(\n",
        "#     \"camels_val.csv\",\n",
        "#     record_length=1095,\n",
        "#     storge_device=storge_device,\n",
        "#     seq_length=SEQ_LENGTH,\n",
        "#     target_seq_length=TARGET_SEQ_LENGTH,\n",
        "#     base_length=BASE_LENGTH,\n",
        "# )\n",
        "\n",
        "dtest = dataloader.Forcing_Data(\n",
        "    \"data/data_test_CARAVAN_CH.csv\",\n",
        "    record_length=4018,\n",
        "    storge_device=storge_device,\n",
        "    seq_length=SEQ_LENGTH,\n",
        "    target_seq_length=TARGET_SEQ_LENGTH,\n",
        "    base_length=BASE_LENGTH,\n",
        ")"
      ]
    },
    {
      "cell_type": "code",
      "execution_count": 5,
      "metadata": {
        "id": "dw8xH6sT3qQN"
      },
      "outputs": [],
      "source": [
        "class Objective_builder:\n",
        "    def __init__(self, x, y, eval_fun):\n",
        "        self.eval_fun = eval_fun\n",
        "        self.x = x.contiguous()\n",
        "        self.y = y.contiguous()\n",
        "    \n",
        "    def eval(self, code, return_summary = True):\n",
        "        \n",
        "        # numpy to torch tensor\n",
        "        code = torch.from_numpy(code).unsqueeze(0).to(dtype=torch.float32).to(computing_device)\n",
        "        code = code.expand(self.x.shape[0], -1)\n",
        "        \n",
        "        # BASE_LENGTH is from global\n",
        "        pred = decoder.decode(code, self.x).view(-1).detach().cpu().numpy()\n",
        "\n",
        "        ob = self.y.view(-1).detach().cpu().numpy()\n",
        "        \n",
        "        if return_summary:\n",
        "          gof = self.eval_fun(simulated_array=pred, observed_array=ob)\n",
        "          return gof\n",
        "        else:\n",
        "          return pred, ob"
      ]
    },
    {
      "cell_type": "code",
      "execution_count": 6,
      "metadata": {
        "id": "Nm0X9u8sp9K7"
      },
      "outputs": [],
      "source": [
        "num_generations = 200\n",
        "num_parents_mating = 10\n",
        "\n",
        "sol_per_pop = 100\n",
        "num_genes = LATENT_dim\n",
        "\n",
        "init_range_low = catchment_embeddings.detach().cpu().min().numpy().tolist()\n",
        "init_range_high = catchment_embeddings.detach().cpu().max().numpy().tolist()\n",
        "\n",
        "parent_selection_type = \"sss\"\n",
        "\n",
        "crossover_type = \"single_point\"\n",
        "\n",
        "mutation_type = \"random\"\n",
        "mutation_probability = 0.25\n",
        "\n",
        "x_batch_train_val, y_batch_train_val = dtrain_val.get_val_batch()\n",
        "x_batch_test, y_batch_test = dtest.get_val_batch()\n",
        "\n",
        "def evaluate_calibration(selected_catchment=0):\n",
        "    \n",
        "    x = x_batch_train_val[:,selected_catchment,:,:]\n",
        "    y = y_batch_train_val[:,selected_catchment,:]\n",
        "\n",
        "    x, y = x.to(computing_device), y.to(computing_device)\n",
        "\n",
        "    fn = Objective_builder(x,y,HydroErr.kge_2009)\n",
        "\n",
        "    def fitness_func(ga_instance, solution, solution_idx):\n",
        "        return fn.eval(solution)\n",
        "\n",
        "    ga_instance = pygad.GA(num_generations=num_generations,\n",
        "                        num_parents_mating=num_parents_mating,\n",
        "                        fitness_func=fitness_func,\n",
        "                        sol_per_pop=sol_per_pop,\n",
        "                        num_genes=num_genes,\n",
        "                        init_range_low=init_range_low,\n",
        "                        init_range_high=init_range_high,\n",
        "                        parent_selection_type=parent_selection_type,\n",
        "                        crossover_type=crossover_type,\n",
        "                        mutation_type=mutation_type,\n",
        "                        mutation_probability = mutation_probability,\n",
        "                        stop_criteria=[\"saturate_10\"])\n",
        "\n",
        "    ga_instance.run()\n",
        "\n",
        "    solution, solution_fitness, solution_idx = ga_instance.best_solution()\n",
        "    \n",
        "    # evaluate on test dataset\n",
        "    x = x_batch_test[:,selected_catchment,:,:]\n",
        "    y = y_batch_test[:,selected_catchment,:]\n",
        "\n",
        "    x, y = x.to(computing_device), y.to(computing_device)\n",
        "\n",
        "    fn = Objective_builder(x,y,HydroErr.kge_2009)\n",
        "\n",
        "    return fn.eval(solution), solution"
      ]
    },
    {
      "cell_type": "code",
      "execution_count": 7,
      "metadata": {
        "colab": {
          "base_uri": "https://localhost:8080/"
        },
        "id": "RoScuihK-7QO",
        "outputId": "76bab91f-81fa-4fa0-cd25-39e38a80534e"
      },
      "outputs": [
        {
          "name": "stdout",
          "output_type": "stream",
          "text": [
            "i=0 starts\n"
          ]
        },
        {
          "name": "stderr",
          "output_type": "stream",
          "text": [
            "c:\\Users\\User\\Anaconda3\\envs\\pytorch2\\Lib\\site-packages\\HydroErr\\HydroErr.py:6248: UserWarning: Row(s) [10592 10593 10594 10595 10596 10597 10598 10599 10600 10601 10602 10603\n",
            " 10604 10605 10606 10607 10608 10609 10610 10611 10612 10613 10614 10615\n",
            " 10616 10617 10618 10619 10620 10621 10622 10623 10624 10625 10626 10627\n",
            " 10628 10629 10630 10631 10632 10633 10634 10635 10636 10637 10638 10639\n",
            " 10640 10641 10642 10643 10644 10645 10646 10647 10648 10649 10650 10651\n",
            " 10652 10653 10654 10655 10656 10657 10658 10659 10660 10661 10662 10663\n",
            " 10664 10665 10666 10667 10668 10669 10670 10671 10672 10673 10674 10675\n",
            " 10676 10677 10678 10679 10680 10681 10682 10683 10684 10685 10686 10687\n",
            " 10688 10689 10690 10691 10692 10693 10694 10695 10696 10697 10698 10699\n",
            " 10700 10701 10702 10703 10704 10705 10706 10707 10708 10709 10710 10711\n",
            " 10712 10713 10714 10715 10716 10717 10718 10719 10720 10721 10722 10723\n",
            " 10724 10725 10726 10727 10728 10729 10730 10731 10732 10733 10734 10735\n",
            " 10736 10737 10738 10739 10740 10741 10742 10743 10744 10745 10746 10747\n",
            " 10748 10749 10750 10751 10752 10753 10754 10755 10756 10757 10758 10759\n",
            " 10760 10761 10762 10763 10764 10765 10766 10767 10768 10769 10770 10771\n",
            " 10772 10773 10774 10775 10776 10777 10778 10779 10780 10781 10782 10783\n",
            " 10784 10785 10786 10787 10788 10789 10790 10791 10792 10793 10794 10795\n",
            " 10796 10797 10798 10799 10800 10801 10802 10803 10804 10805 10806 10807\n",
            " 10808 10809 10810 10811 10812 10813 10814 10815 10816 10817 10818 10819\n",
            " 10820 10821 10822 10823 10824 10825 10826 10827 10828 10829 10830 10831\n",
            " 10832 10833 10834 10835 10836 10837 10838 10839 10840 10841 10842 10843\n",
            " 10844 10845 10846 10847 10848 10849 10850 10851 10852 10853 10854 10855\n",
            " 10856 10857 10858 10859 10860 10861 10862 10863 10864 10865 10866 10867\n",
            " 10868 10869 10870 10871 10872 10873 10874 10875 10876 10877 10878 10879\n",
            " 10880 10881 10882 10883 10884 10885 10886 10887 10888 10889 10890 10891\n",
            " 10892 10893 10894 10895 10896 10897 10898 10899 10900 10901 10902 10903\n",
            " 10904 10905 10906 10907 10908 10909 10910 10911 10912 10913 10914 10915\n",
            " 10916 10917 10918 10919 10920 10921 10922 10923 10924 10925 10926 10927\n",
            " 10928 10929 10930 10931 10932 10933 10934 10935 10936 10937 10938 10939\n",
            " 10940 10941 10942 10943 10944 10945 10946 10947 10948 10949] contained NaN values and the row(s) have been removed (Rows are zero indexed).\n",
            "  warnings.warn(\"Row(s) {} contained NaN values and the row(s) have been \"\n"
          ]
        }
      ],
      "source": [
        "calibrated_KGES = np.ones(N_CATCHMENTS)\n",
        "camels_embeddings = np.ones([N_CATCHMENTS, LATENT_dim])\n",
        "\n",
        "for i in range(N_CATCHMENTS):\n",
        "    print(f'i={i} starts')\n",
        "    calibrated_KGES[i], camels_embeddings[i,:]  = evaluate_calibration(i)\n",
        "    print(f'fit={calibrated_KGES[i]}')"
      ]
    },
    {
      "cell_type": "code",
      "execution_count": 8,
      "metadata": {
        "id": "VzoYzMSXDLtm"
      },
      "outputs": [],
      "source": [
        "np.savetxt(\"data/ga_KGEs_CH.csv\", calibrated_KGES, delimiter=\",\")\n",
        "np.savetxt(\"data/ga_camels_embeddings_CH.csv\", camels_embeddings, delimiter=\",\")"
      ]
    },
    {
      "attachments": {},
      "cell_type": "markdown",
      "metadata": {
        "id": "5dla3EMJDzFA"
      },
      "source": [
        "# Result check"
      ]
    },
    {
      "cell_type": "code",
      "execution_count": 9,
      "metadata": {},
      "outputs": [
        {
          "data": {
            "text/plain": [
              "array([ 0.87776483,  0.90124668,  0.88810008,  0.88126123,  0.85534108,\n",
              "        0.87794696,  0.90112934,  0.83918937,  0.91421102,  0.87391448,\n",
              "        0.75854024,  0.88040716,  0.88587335,  0.91533531,  0.87352391,\n",
              "        0.86916745,  0.8079344 ,  0.80709305,  0.77978417, -1.10348587,\n",
              "        0.86029852,  0.87684268,  0.73555792,  0.80112314,  0.90814183,\n",
              "        0.82503435,  0.62351967,  0.88350534,  0.8876758 ,  0.84134013,\n",
              "        0.89933183,  0.89028776,  0.85377366,  0.86151689,  0.6220098 ,\n",
              "        0.86293129,  0.73964384,  0.80383856,  0.82407465,  0.92063911,\n",
              "        0.7894734 ,  0.93861634,  0.84463148,  0.85814657,  0.87812934,\n",
              "        0.90132204,  0.79540805,  0.34314627,  0.73016324,  0.86298924,\n",
              "        0.90562848,  0.76011817,  0.87842021,  0.68031845,  0.75914789,\n",
              "        0.79078763,  0.85921247,  0.87059184,  0.84132387,  0.91278651,\n",
              "        0.82156866,  0.68870626,  0.86462151,  0.88760316,  0.51621687,\n",
              "        0.88594105,  0.61380016,  0.90374419,  0.84511136,  0.20879572,\n",
              "        0.8307562 ,  0.88205032,  0.90250381,  0.84237137,  0.77071671,\n",
              "        0.75889645,  0.85811817,  0.94821805,  0.82338031,  0.91350057,\n",
              "        0.81275683,  0.88385157,  0.80773095,  0.76221955,  0.68500701,\n",
              "        0.80721874,  0.90671889,  0.86625594,  0.81342925,  0.78528079,\n",
              "        0.83630538,  0.79551254,  0.8082937 ,  0.859787  ,  0.77228023,\n",
              "        0.09260695,  0.74245318,  0.79579484,  0.74799458,  0.93470205,\n",
              "        0.86555332,  0.77002293,  0.93933268,  0.85275488,  0.73251578,\n",
              "        0.74193518,  0.63485666,  0.94475102,  0.73631024,  0.60006017,\n",
              "        0.69831858,  0.87185511,  0.7866388 ,  0.8885248 ,  0.78458099,\n",
              "        0.79728851,  0.83726118,  0.88794119,  0.77748475,  0.73257326,\n",
              "        0.6569175 ,  0.76138058,  0.70704459,  0.77806214,  0.77574259,\n",
              "        0.77337985,  0.78415429,  0.74238072,  0.3175694 ,  0.88550815,\n",
              "        0.83436734,  0.73597501,  0.89665639,  0.81349532,  0.85652664,\n",
              "        0.8064177 ,  0.65479665,  0.67008845,  0.74390018,  0.9258671 ,\n",
              "        0.79849098,  0.62923603,  0.87381116,  0.6869122 ,  0.83922192,\n",
              "        0.87363339,  0.78771163,  0.90031098,  0.80516248,  0.80615895,\n",
              "        0.77295191,  0.83986199,  0.80422431,  0.79920058,  0.85528794,\n",
              "        0.82666255,  0.8041343 ,  0.60363167,  0.87173284,  0.83880222,\n",
              "        0.85324132,  0.8723327 ,  0.71685078,  0.82398601,  0.69018107,\n",
              "        0.86296763,  0.81611731,  0.7689073 ,  0.90920551,  0.44525554,\n",
              "        0.87482095,  0.62232415,  0.81220451,  0.71163254,  0.84429636,\n",
              "        0.86541683,  0.70900117,  0.8249876 ,  0.67141677,  0.74899168,\n",
              "        0.76617784,  0.76974895,  0.82787767,  0.68631522,  0.84374851,\n",
              "        0.68373487,  0.77232628,  0.89537319,  0.78694293,  0.69731239,\n",
              "        0.85252019,  0.76134194,  0.74188947,  0.80720827,  0.57379903,\n",
              "        0.83026627,  0.78046055,  0.78432627,  0.82099826,  0.8531082 ,\n",
              "        0.54409999,  0.82920009,  0.86918172,  0.81679334,  0.8302804 ,\n",
              "        0.73252831,  0.92151247,  0.78036402,  0.89350878,  0.84155877,\n",
              "        0.85158028,  0.74586785,  0.86591133,  0.87886974,  0.86445805,\n",
              "        0.87051058,  0.89264242,  0.87049522,  0.82018154,  0.70532624,\n",
              "        0.88838126,  0.7858445 ,  0.60681729,  0.62891686,  0.8262452 ,\n",
              "        0.727145  ,  0.80636798,  0.82260872,  0.79823135,  0.82717122,\n",
              "        0.85881409,  0.85354882,  0.79673778,  0.86254543,  0.82764704,\n",
              "        0.72839674,  0.83326032,  0.85782366,  0.81676338,  0.86277429,\n",
              "        0.84112149,  0.52437202,  0.75424339,  0.82030635,  0.17795286,\n",
              "        0.8494712 ,  0.76159701,  0.8589865 ,  0.6955634 ,  0.83195251,\n",
              "        0.66756739,  0.7431417 ,  0.36899763,  0.57031722,  0.78849726,\n",
              "        0.81130143,  0.06068434,  0.82509415,  0.77995135,  0.89082857,\n",
              "        0.81203506,  0.83316241,  0.89683816,  0.89105208,  0.71695806,\n",
              "        0.73978557,  0.70065681,  0.87855362,  0.80969187,  0.73268062])"
            ]
          },
          "execution_count": 9,
          "metadata": {},
          "output_type": "execute_result"
        }
      ],
      "source": [
        "calibrated_KGES"
      ]
    },
    {
      "attachments": {},
      "cell_type": "markdown",
      "metadata": {},
      "source": []
    },
    {
      "cell_type": "code",
      "execution_count": 10,
      "metadata": {
        "id": "KcwBoioFp9K9",
        "outputId": "e9aa9d7e-2972-4b4e-f519-4e10ab766559"
      },
      "outputs": [
        {
          "data": {
            "image/png": "[encoded data removed]",
            "text/plain": [
              "<Figure size 640x480 with 1 Axes>"
            ]
          },
          "metadata": {},
          "output_type": "display_data"
        }
      ],
      "source": [
        "from matplotlib import pyplot as plt\n",
        "\n",
        "plt.hist(calibrated_KGES[calibrated_KGES>0], bins = 30)\n",
        "plt.show()"
      ]
    },
    {
      "cell_type": "code",
      "execution_count": 8,
      "metadata": {
        "id": "fBoQkf-Cp9K9",
        "outputId": "4856c289-13ec-4e46-d43d-559f73f757df"
      },
      "outputs": [
        {
          "data": {
            "text/plain": [
              "0.7662085812227277"
            ]
          },
          "execution_count": 8,
          "metadata": {},
          "output_type": "execute_result"
        }
      ],
      "source": [
        "calibrated_KGES.mean()"
      ]
    },
    {
      "cell_type": "code",
      "execution_count": 9,
      "metadata": {
        "id": "TNPOIEy_p9K-",
        "outputId": "dac5fcb6-05dd-456b-89b1-4018cffaa686"
      },
      "outputs": [
        {
          "data": {
            "text/plain": [
              "0.8044966375432608"
            ]
          },
          "execution_count": 9,
          "metadata": {},
          "output_type": "execute_result"
        }
      ],
      "source": [
        "np.median(calibrated_KGES)"
      ]
    },
    {
      "cell_type": "code",
      "execution_count": 13,
      "metadata": {
        "id": "t5aRLriip9K7",
        "outputId": "83c37e57-c570-4994-b0e2-39ae8c766cb7"
      },
      "outputs": [
        {
          "data": {
            "text/plain": [
              "array([ 0.87776483,  0.90124668,  0.88810008,  0.88126123,  0.85534108,\n",
              "        0.87794696,  0.90112934,  0.83918937,  0.91421102,  0.87391448,\n",
              "        0.75854024,  0.88040716,  0.88587335,  0.91533531,  0.87352391,\n",
              "        0.86916745,  0.8079344 ,  0.80709305,  0.77978417, -1.10348587,\n",
              "        0.86029852,  0.87684268,  0.73555792,  0.80112314,  0.90814183,\n",
              "        0.82503435,  0.62351967,  0.88350534,  0.8876758 ,  0.84134013,\n",
              "        0.89933183,  0.89028776,  0.85377366,  0.86151689,  0.6220098 ,\n",
              "        0.86293129,  0.73964384,  0.80383856,  0.82407465,  0.92063911,\n",
              "        0.7894734 ,  0.93861634,  0.84463148,  0.85814657,  0.87812934,\n",
              "        0.90132204,  0.79540805,  0.34314627,  0.73016324,  0.86298924,\n",
              "        0.90562848,  0.76011817,  0.87842021,  0.68031845,  0.75914789,\n",
              "        0.79078763,  0.85921247,  0.87059184,  0.84132387,  0.91278651,\n",
              "        0.82156866,  0.68870626,  0.86462151,  0.88760316,  0.51621687,\n",
              "        0.88594105,  0.61380016,  0.90374419,  0.84511136,  0.20879572,\n",
              "        0.8307562 ,  0.88205032,  0.90250381,  0.84237137,  0.77071671,\n",
              "        0.75889645,  0.85811817,  0.94821805,  0.82338031,  0.91350057,\n",
              "        0.81275683,  0.88385157,  0.80773095,  0.76221955,  0.68500701,\n",
              "        0.80721874,  0.90671889,  0.86625594,  0.81342925,  0.78528079,\n",
              "        0.83630538,  0.79551254,  0.8082937 ,  0.859787  ,  0.77228023,\n",
              "        0.09260695,  0.74245318,  0.79579484,  0.74799458,  0.93470205,\n",
              "        0.86555332,  0.77002293,  0.93933268,  0.85275488,  0.73251578,\n",
              "        0.74193518,  0.63485666,  0.94475102,  0.73631024,  0.60006017,\n",
              "        0.69831858,  0.87185511,  0.7866388 ,  0.8885248 ,  0.78458099,\n",
              "        0.79728851,  0.83726118,  0.88794119,  0.77748475,  0.73257326,\n",
              "        0.6569175 ,  0.76138058,  0.70704459,  0.77806214,  0.77574259,\n",
              "        0.77337985,  0.78415429,  0.74238072,  0.3175694 ,  0.88550815,\n",
              "        0.83436734,  0.73597501,  0.89665639,  0.81349532,  0.85652664,\n",
              "        0.8064177 ,  0.65479665,  0.67008845,  0.74390018,  0.9258671 ,\n",
              "        0.79849098,  0.62923603,  0.87381116,  0.6869122 ,  0.83922192,\n",
              "        0.87363339,  0.78771163,  0.90031098,  0.80516248,  0.80615895,\n",
              "        0.77295191,  0.83986199,  0.80422431,  0.79920058,  0.85528794,\n",
              "        0.82666255,  0.8041343 ,  0.60363167,  0.87173284,  0.83880222,\n",
              "        0.85324132,  0.8723327 ,  0.71685078,  0.82398601,  0.69018107,\n",
              "        0.86296763,  0.81611731,  0.7689073 ,  0.90920551,  0.44525554,\n",
              "        0.87482095,  0.62232415,  0.81220451,  0.71163254,  0.84429636,\n",
              "        0.86541683,  0.70900117,  0.8249876 ,  0.67141677,  0.74899168,\n",
              "        0.76617784,  0.76974895,  0.82787767,  0.68631522,  0.84374851,\n",
              "        0.68373487,  0.77232628,  0.89537319,  0.78694293,  0.69731239,\n",
              "        0.85252019,  0.76134194,  0.74188947,  0.80720827,  0.57379903,\n",
              "        0.83026627,  0.78046055,  0.78432627,  0.82099826,  0.8531082 ,\n",
              "        0.54409999,  0.82920009,  0.86918172,  0.81679334,  0.8302804 ,\n",
              "        0.73252831,  0.92151247,  0.78036402,  0.89350878,  0.84155877,\n",
              "        0.85158028,  0.74586785,  0.86591133,  0.87886974,  0.86445805,\n",
              "        0.87051058,  0.89264242,  0.87049522,  0.82018154,  0.70532624,\n",
              "        0.88838126,  0.7858445 ,  0.60681729,  0.62891686,  0.8262452 ,\n",
              "        0.727145  ,  0.80636798,  0.82260872,  0.79823135,  0.82717122,\n",
              "        0.85881409,  0.85354882,  0.79673778,  0.86254543,  0.82764704,\n",
              "        0.72839674,  0.83326032,  0.85782366,  0.81676338,  0.86277429,\n",
              "        0.84112149,  0.52437202,  0.75424339,  0.82030635,  0.17795286,\n",
              "        0.8494712 ,  0.76159701,  0.8589865 ,  0.6955634 ,  0.83195251,\n",
              "        0.66756739,  0.7431417 ,  0.36899763,  0.57031722,  0.78849726,\n",
              "        0.81130143,  0.06068434,  0.82509415,  0.77995135,  0.89082857,\n",
              "        0.81203506,  0.83316241,  0.89683816,  0.89105208,  0.71695806,\n",
              "        0.73978557,  0.70065681,  0.87855362,  0.80969187,  0.73268062])"
            ]
          },
          "execution_count": 13,
          "metadata": {},
          "output_type": "execute_result"
        }
      ],
      "source": [
        "calibrated_KGES"
      ]
    }
  ],
  "metadata": {
    "accelerator": "GPU",
    "colab": {
      "provenance": []
    },
    "gpuClass": "standard",
    "kernelspec": {
      "display_name": "pytorch-env",
      "language": "python",
      "name": "python3"
    },
    "language_info": {
      "codemirror_mode": {
        "name": "ipython",
        "version": 3
      },
      "file_extension": ".py",
      "mimetype": "text/x-python",
      "name": "python",
      "nbconvert_exporter": "python",
      "pygments_lexer": "ipython3",
      "version": "3.11.4"
    },
    "vscode": {
      "interpreter": {
        "hash": "1ddfd6d42648f68c476c776315986cac60a18b45e56ba9b8a233e8441d39da2b"
      }
    }
  },
  "nbformat": 4,
  "nbformat_minor": 0
}
